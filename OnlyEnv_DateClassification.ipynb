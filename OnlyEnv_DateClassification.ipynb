{
 "cells": [
  {
   "cell_type": "code",
   "execution_count": 1,
   "metadata": {},
   "outputs": [],
   "source": [
    "%run Reddit_import_and_functions.ipynb\n",
    "\n",
    "pd.set_option('display.max_colwidth',350)"
   ]
  },
  {
   "cell_type": "code",
   "execution_count": 2,
   "metadata": {},
   "outputs": [
    {
     "name": "stdout",
     "output_type": "stream",
     "text": [
      "Train1Ytrain\n",
      "Train1dset\n",
      "Train2dset\n",
      "X_Train2\n",
      "columnsums\n",
      "columnsums/columnindextodrop\n",
      "columnsums/columnsumshalf0\n",
      "columnsums/columnsumshalf1\n",
      "environment\n",
      "rowsums\n",
      "rowsums/columnsumsCrypto\n",
      "rowsums/columnsumsEnv\n",
      "rowsums/columnsumsTrain2\n",
      "rowsums/crypto_dset\n",
      "rowsums/env_dset\n",
      "rowsums/rowsumsCrypto\n",
      "rowsums/rowsumsEnv\n",
      "rowsums/rowsumsTrain2\n",
      "rowsums/rowsumshalf0\n",
      "rowsums/rowsumshalf1\n",
      "y_train2\n"
     ]
    }
   ],
   "source": [
    "list_all_hdf5(\"masterdata.hdf5\")"
   ]
  },
  {
   "cell_type": "code",
   "execution_count": 2,
   "metadata": {},
   "outputs": [
    {
     "name": "stdout",
     "output_type": "stream",
     "text": [
      "(146787, 17847)\n"
     ]
    }
   ],
   "source": [
    "with h5py.File(\"masterdata.hdf5\", \"r\") as z:\n",
    "    dset = z[\"rowsums/env_dset\"]\n",
    "    X_train_env = dset[:]\n",
    "    print(X_train_env.shape)\n",
    "#     dset = z[\"rowsums/crypto_dset\"]\n",
    "#     X_train_crypto = dset[:]\n",
    "#     print(X_train_crypto.shape)"
   ]
  },
  {
   "cell_type": "code",
   "execution_count": 3,
   "metadata": {},
   "outputs": [
    {
     "data": {
      "text/plain": [
       "Index(['Unnamed: 0', 'index', 'datetime', 'corpus', 'permalink', 'author',\n",
       "       'subreddit'],\n",
       "      dtype='object')"
      ]
     },
     "execution_count": 3,
     "metadata": {},
     "output_type": "execute_result"
    }
   ],
   "source": [
    "dfraw = pd.read_csv('Train1allinfo.csv')\n",
    "dfraw.columns"
   ]
  },
  {
   "cell_type": "code",
   "execution_count": 4,
   "metadata": {},
   "outputs": [
    {
     "name": "stdout",
     "output_type": "stream",
     "text": [
      "293358\n"
     ]
    },
    {
     "data": {
      "text/plain": [
       "146787"
      ]
     },
     "execution_count": 4,
     "metadata": {},
     "output_type": "execute_result"
    }
   ],
   "source": [
    "envmask = dfraw['subreddit'].astype(bool)\n",
    "cryptomask = 1 - envmask\n",
    "cryptomask = cryptomask.astype(bool)\n",
    "print(cryptomask.sum())\n",
    "envmask.sum()"
   ]
  },
  {
   "cell_type": "code",
   "execution_count": 5,
   "metadata": {},
   "outputs": [],
   "source": [
    "df = dfraw[envmask]\n",
    "dfraw = None"
   ]
  },
  {
   "cell_type": "code",
   "execution_count": 6,
   "metadata": {},
   "outputs": [],
   "source": [
    "headers = pd.read_csv('masterFeaturesVector.csv')\n"
   ]
  },
  {
   "cell_type": "code",
   "execution_count": 7,
   "metadata": {},
   "outputs": [
    {
     "name": "stderr",
     "output_type": "stream",
     "text": [
      "C:\\Users\\Jason\\AppData\\Local\\conda\\conda\\envs\\DSI-6\\lib\\site-packages\\ipykernel_launcher.py:2: UserWarning: Boolean Series key will be reindexed to match DataFrame index.\n",
      "  \n"
     ]
    },
    {
     "data": {
      "text/plain": [
       "(146787, 17847)"
      ]
     },
     "execution_count": 7,
     "metadata": {},
     "output_type": "execute_result"
    }
   ],
   "source": [
    "X_train_env = pd.DataFrame(data=X_train_env, dtype='int16', \n",
    "                      index=df[envmask].index)\n",
    "X_train_env.shape"
   ]
  },
  {
   "cell_type": "code",
   "execution_count": 8,
   "metadata": {},
   "outputs": [
    {
     "name": "stderr",
     "output_type": "stream",
     "text": [
      "C:\\Users\\Jason\\AppData\\Local\\conda\\conda\\envs\\DSI-6\\lib\\site-packages\\ipykernel_launcher.py:1: UserWarning: Boolean Series key will be reindexed to match DataFrame index.\n",
      "  \"\"\"Entry point for launching an IPython kernel.\n",
      "C:\\Users\\Jason\\AppData\\Local\\conda\\conda\\envs\\DSI-6\\lib\\site-packages\\ipykernel_launcher.py:2: UserWarning: Boolean Series key will be reindexed to match DataFrame index.\n",
      "  \n"
     ]
    }
   ],
   "source": [
    "df[envmask]['datetime'].sort_values(ascending=False) # 1.545116e+09\n",
    "df[envmask]['datetime'].sort_values() # 1.292656e+09\n",
    "endtimestamp = 1.545116e+09\n",
    "starttimestamp = 1.292656e+09"
   ]
  },
  {
   "cell_type": "code",
   "execution_count": 9,
   "metadata": {},
   "outputs": [],
   "source": [
    "date_stamp5 = datetime.datetime.utcfromtimestamp(int(endtimestamp)).timestamp()"
   ]
  },
  {
   "cell_type": "code",
   "execution_count": 10,
   "metadata": {},
   "outputs": [],
   "source": [
    "date_stamp0 = datetime.datetime.utcfromtimestamp(int(starttimestamp)).timestamp()\n",
    "# year = date_tuple.year\n",
    "# month = date_tuple.month\n",
    "# day = date_tuple.day\n",
    "# year, month, day\n",
    "# hour = date_tuple.hour\n",
    "# second = date_tuple.second"
   ]
  },
  {
   "cell_type": "code",
   "execution_count": 11,
   "metadata": {},
   "outputs": [],
   "source": [
    "date_stamp1 = datetime.datetime((2010+2), 12, 18, 7, 6, 40).timestamp()\n",
    "date_stamp2 = datetime.datetime((2010+2+1), 12, 18, 7, 6, 40).timestamp()\n",
    "date_stamp3 = datetime.datetime((2010+2+1+2), 12, 18, 7, 6, 40).timestamp()\n",
    "date_stamp4 = datetime.datetime((2010+2+1+2+1), 12, 18, 7, 6, 40).timestamp()"
   ]
  },
  {
   "cell_type": "code",
   "execution_count": 12,
   "metadata": {},
   "outputs": [
    {
     "data": {
      "text/plain": [
       "34905"
      ]
     },
     "execution_count": 12,
     "metadata": {},
     "output_type": "execute_result"
    }
   ],
   "source": [
    "years1mask = (df['datetime'] > date_stamp0) & (df['datetime'] < date_stamp1)\n",
    "years1mask.sum()"
   ]
  },
  {
   "cell_type": "code",
   "execution_count": 13,
   "metadata": {},
   "outputs": [
    {
     "data": {
      "text/plain": [
       "37923"
      ]
     },
     "execution_count": 13,
     "metadata": {},
     "output_type": "execute_result"
    }
   ],
   "source": [
    "years2mask = (df['datetime'] > date_stamp2) & (df['datetime'] < date_stamp3)\n",
    "years2mask.sum()"
   ]
  },
  {
   "cell_type": "code",
   "execution_count": 14,
   "metadata": {},
   "outputs": [
    {
     "data": {
      "text/plain": [
       "37558"
      ]
     },
     "execution_count": 14,
     "metadata": {},
     "output_type": "execute_result"
    }
   ],
   "source": [
    "years3mask = (df['datetime'] > date_stamp4) & (df['datetime'] < date_stamp5)\n",
    "years3mask.sum()"
   ]
  },
  {
   "cell_type": "code",
   "execution_count": 15,
   "metadata": {},
   "outputs": [],
   "source": [
    "with h5py.File(\"masterdata.hdf5\",'a') as f :\n",
    "    dset = f['columnsums/columnindextodrop']\n",
    "    columnindextodrop = dset[:]"
   ]
  },
  {
   "cell_type": "code",
   "execution_count": 24,
   "metadata": {},
   "outputs": [
    {
     "name": "stdout",
     "output_type": "stream",
     "text": [
      "10584\n"
     ]
    }
   ],
   "source": [
    "keepcols = set(range(17847)).symmetric_difference(columnindextodrop)\n",
    "print(len(keepcols))\n",
    "keepcols = list(keepcols)"
   ]
  },
  {
   "cell_type": "code",
   "execution_count": 17,
   "metadata": {},
   "outputs": [],
   "source": [
    "X_train_env.drop(columnindextodrop, axis=1, inplace=True)"
   ]
  },
  {
   "cell_type": "code",
   "execution_count": 18,
   "metadata": {},
   "outputs": [],
   "source": [
    "X_train_env.loc[df[years1mask].index,'date_class'] = 0"
   ]
  },
  {
   "cell_type": "code",
   "execution_count": 19,
   "metadata": {},
   "outputs": [],
   "source": [
    "X_train_env.loc[df[years2mask].index,'date_class'] = 1"
   ]
  },
  {
   "cell_type": "code",
   "execution_count": 20,
   "metadata": {},
   "outputs": [],
   "source": [
    "X_train_env.loc[df[years3mask].index,'date_class'] = 2"
   ]
  },
  {
   "cell_type": "code",
   "execution_count": 21,
   "metadata": {},
   "outputs": [
    {
     "data": {
      "text/plain": [
       "1.0    37923\n",
       "2.0    37558\n",
       "0.0    34905\n",
       "Name: date_class, dtype: int64"
      ]
     },
     "execution_count": 21,
     "metadata": {},
     "output_type": "execute_result"
    }
   ],
   "source": [
    "X_train_env['date_class'].value_counts()"
   ]
  },
  {
   "cell_type": "code",
   "execution_count": 22,
   "metadata": {},
   "outputs": [
    {
     "data": {
      "text/plain": [
       "(146787, 10585)"
      ]
     },
     "execution_count": 22,
     "metadata": {},
     "output_type": "execute_result"
    }
   ],
   "source": [
    "X_train_env.shape"
   ]
  },
  {
   "cell_type": "code",
   "execution_count": 26,
   "metadata": {},
   "outputs": [],
   "source": [
    "X_train_env.dropna(axis=0, inplace=True)"
   ]
  },
  {
   "cell_type": "code",
   "execution_count": 27,
   "metadata": {},
   "outputs": [
    {
     "data": {
      "text/plain": [
       "(110386, 10585)"
      ]
     },
     "execution_count": 27,
     "metadata": {},
     "output_type": "execute_result"
    }
   ],
   "source": [
    "X_train_env.shape"
   ]
  },
  {
   "cell_type": "code",
   "execution_count": 28,
   "metadata": {},
   "outputs": [
    {
     "name": "stderr",
     "output_type": "stream",
     "text": [
      "C:\\Users\\Jason\\AppData\\Local\\conda\\conda\\envs\\DSI-6\\lib\\site-packages\\sklearn\\model_selection\\_split.py:2026: FutureWarning: From version 0.21, test_size will always complement train_size unless both are specified.\n",
      "  FutureWarning)\n"
     ]
    }
   ],
   "source": [
    "X_train, X_test, y_train, y_test = train_test_split(X_train_env.drop('date_class',axis=1), \n",
    "                                                    X_train_env['date_class'],train_size=0.5)"
   ]
  },
  {
   "cell_type": "code",
   "execution_count": 29,
   "metadata": {},
   "outputs": [],
   "source": [
    "# all parameters will be kept at default except possible tweaking of alpha\n",
    "nb = MultinomialNB(alpha=1.0, fit_prior=True, class_prior=None)\n",
    "nbmodel = nb.fit(X_train, y_train)"
   ]
  },
  {
   "cell_type": "code",
   "execution_count": 32,
   "metadata": {},
   "outputs": [],
   "source": [
    "pred1 = nbmodel.predict(X_train)\n",
    "predtest = nbmodel.predict(X_test)"
   ]
  },
  {
   "cell_type": "code",
   "execution_count": 33,
   "metadata": {},
   "outputs": [],
   "source": [
    "results = pd.DataFrame(index=X_train_env.index)"
   ]
  },
  {
   "cell_type": "code",
   "execution_count": 37,
   "metadata": {},
   "outputs": [],
   "source": [
    "predfinal = pd.Series(data=pred1, index=X_train.index, name='nb3_pred')"
   ]
  },
  {
   "cell_type": "code",
   "execution_count": null,
   "metadata": {},
   "outputs": [],
   "source": [
    "results['nb3_pred'] = predfinal"
   ]
  },
  {
   "cell_type": "code",
   "execution_count": 40,
   "metadata": {},
   "outputs": [],
   "source": [
    "results['nb3_errors'] = results['nb3_pred'] - y_train"
   ]
  },
  {
   "cell_type": "code",
   "execution_count": 41,
   "metadata": {},
   "outputs": [
    {
     "data": {
      "text/plain": [
       "array([[12325,  3114,  1975],\n",
       "       [ 3823, 11687,  3477],\n",
       "       [ 2380,  3867, 12545]], dtype=int64)"
      ]
     },
     "execution_count": 41,
     "metadata": {},
     "output_type": "execute_result"
    }
   ],
   "source": [
    "confusion_matrix(y_train, predfinal)"
   ]
  },
  {
   "cell_type": "code",
   "execution_count": 42,
   "metadata": {},
   "outputs": [
    {
     "data": {
      "text/plain": [
       "(55193,)"
      ]
     },
     "execution_count": 42,
     "metadata": {},
     "output_type": "execute_result"
    }
   ],
   "source": [
    "y_train.shape"
   ]
  },
  {
   "cell_type": "code",
   "execution_count": 43,
   "metadata": {
    "scrolled": false
   },
   "outputs": [
    {
     "data": {
      "text/plain": [
       "array([[0.2233073 , 0.0564202 , 0.03578352],\n",
       "       [0.06926603, 0.21174787, 0.06299712],\n",
       "       [0.04312141, 0.07006323, 0.22729332]])"
      ]
     },
     "execution_count": 43,
     "metadata": {},
     "output_type": "execute_result"
    }
   ],
   "source": [
    "confusion_matrix(y_train, predfinal) / 55193"
   ]
  },
  {
   "cell_type": "code",
   "execution_count": 44,
   "metadata": {},
   "outputs": [
    {
     "data": {
      "text/plain": [
       "array([[11102,  3886,  2503],\n",
       "       [ 4468, 10206,  4262],\n",
       "       [ 2688,  4587, 11491]], dtype=int64)"
      ]
     },
     "execution_count": 44,
     "metadata": {},
     "output_type": "execute_result"
    }
   ],
   "source": [
    "confusion_matrix(y_test, predtest)"
   ]
  },
  {
   "cell_type": "code",
   "execution_count": 45,
   "metadata": {},
   "outputs": [
    {
     "data": {
      "text/plain": [
       "(55193,)"
      ]
     },
     "execution_count": 45,
     "metadata": {},
     "output_type": "execute_result"
    }
   ],
   "source": [
    "y_test.shape"
   ]
  },
  {
   "cell_type": "code",
   "execution_count": 46,
   "metadata": {
    "scrolled": true
   },
   "outputs": [
    {
     "data": {
      "text/plain": [
       "array([[0.2011487 , 0.07040748, 0.04534995],\n",
       "       [0.08095229, 0.18491475, 0.07721994],\n",
       "       [0.04870183, 0.08310837, 0.20819669]])"
      ]
     },
     "execution_count": 46,
     "metadata": {},
     "output_type": "execute_result"
    }
   ],
   "source": [
    "confusion_matrix(y_test, predtest) / 55193"
   ]
  },
  {
   "cell_type": "code",
   "execution_count": null,
   "metadata": {},
   "outputs": [],
   "source": []
  }
 ],
 "metadata": {
  "kernelspec": {
   "display_name": "Python 3",
   "language": "python",
   "name": "python3"
  },
  "language_info": {
   "codemirror_mode": {
    "name": "ipython",
    "version": 3
   },
   "file_extension": ".py",
   "mimetype": "text/x-python",
   "name": "python",
   "nbconvert_exporter": "python",
   "pygments_lexer": "ipython3",
   "version": "3.6.6"
  }
 },
 "nbformat": 4,
 "nbformat_minor": 2
}
