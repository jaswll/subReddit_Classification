{
 "cells": [
  {
   "cell_type": "code",
   "execution_count": 1,
   "metadata": {},
   "outputs": [],
   "source": [
    "%run Reddit_import_and_functions.ipynb"
   ]
  },
  {
   "cell_type": "code",
   "execution_count": 2,
   "metadata": {},
   "outputs": [],
   "source": [
    "headers = {'User-agent' : 'General Assembly Project 3-J'}"
   ]
  },
  {
   "cell_type": "code",
   "execution_count": 3,
   "metadata": {},
   "outputs": [
    {
     "name": "stdout",
     "output_type": "stream",
     "text": [
      "Status Code:  200\n"
     ]
    }
   ],
   "source": [
    "# url = 'https://www.reddit.com/r/3Dprinting.json'  # back-up\n",
    "url = 'https://www.reddit.com/r/futurology.json'  \n",
    "# url = 'https://www.reddit.com/r/gamedev.json'  # only 977? posts in whole subreddit, won't use\n",
    "response = requests.get(url, headers=headers)\n",
    "print('Status Code: ',response.status_code)  # testing if reddit is accepting my IP"
   ]
  },
  {
   "cell_type": "code",
   "execution_count": 7,
   "metadata": {
    "collapsed": true
   },
   "outputs": [
    {
     "data": {
      "text/plain": [
       "'{\"kind\": \"Listing\", \"data\": {\"modhash\": \"\", \"dist\": 27, \"children\": [{\"kind\": \"t3\", \"data\": {\"approved_at_utc\": null, \"subreddit\": \"Futurology\", \"selftext\": \"Best of 2018! These are some of the top-posts in terms of up-votes, number of comments, and relevancy to futurology from the 2018 year.\\\\n\\\\nThis thread will be in \\\\\"Contest Mode\\\\\" so comments will be randomized and not sorted by up-vote count. Feel free to suggest your own links to the categories below as well.  \\\\n\\\\nHere are the categories and the links to the original Reddit thread submission.\\\\n\\\\n**Physics/Computing**\\\\n\\\\n**AI/Robotics**\\\\n\\\\n**Space**\\\\n\\\\n**Biotech**\\\\n\\\\n**Society**\\\\n\\\\n**Economics**\\\\n\\\\n**Energy**\\\\n\\\\nWe\\'ll keep the post open for a week or so then announce the results.\", \"author_fullname\": \"t2_5xvj8\", \"saved\": false, \"mod_reason_title\": null, \"gilded\": 0, \"clicked\": false, \"title\": \"Best of 2018! Vote on your favorite posts of the year.\", \"link_flair_richtext\": [], \"subreddit_name_prefixed\": \"r/Futurology\", \"hidden\": false, \"pwls\": 6, \"link_flair_css_class\": \"discussion\", \"downs\": 0, \"thumbnail_height\": null, \"hide_score\": false, \"name\": \"t3_abk1xr\", \"quarantine\": false, \"link_flair_text_color\": \"dark\", \"author_flair_background_color\": null, \"subreddit_type\": \"public\", \"ups\": 49, \"domain\": \"self.Futurology\", \"media_embed\": {}, \"thumbnail_width\": null, \"author_flair_template_id\": null, \"is_original_content\": false, \"user_reports\": [], \"secure_media\": null, \"is_reddit_media_domain\": false, \"is_meta\": false, \"category\": null, \"secure_media_embed\": {}, \"link_flair_text\": \"Best of 2018\", \"can_mod_post\": false, \"score\": 49, \"approved_by\": null, \"thumbnail\": \"self\", \"edited\": false, \"author_flair_css_class\": null, \"author_flair_richtext\": [], \"gildings\": {\"gid_1\": 0, \"gid_2\": 0, \"gid_3\": 0}, \"content_categories\": null, \"is_self\": true, \"mod_note\": null, \"created\": 1546393231.0, \"link_flair_type\": \"text\", \"wls\": 6, \"banned_by\": null, \"author_flair_type\": \"text\", \"contest_mode\": true, \"selftext_html\": \"&lt;!-- SC_OFF --&gt;&lt;div class=\\\\\"md\\\\\"&gt;&lt;p&gt;Best of 2018! These are some of the top-posts in terms of up-votes, number of comments, and relevancy to futurology from the 2018 year.&lt;/p&gt;\\\\n\\\\n&lt;p&gt;This thread will be in &amp;quot;Contest Mode&amp;quot; so comments will be randomized and not sorted by up-vote count. Feel free to suggest your own links to the categories below as well.  &lt;/p&gt;\\\\n\\\\n&lt;p&gt;Here are the categories and the links to the original Reddit thread submission.&lt;/p&gt;\\\\n\\\\n&lt;p&gt;&lt;strong&gt;Physics/Computing&lt;/strong&gt;&lt;/p&gt;\\\\n\\\\n&lt;p&gt;&lt;strong&gt;AI/Robotics&lt;/strong&gt;&lt;/p&gt;\\\\n\\\\n&lt;p&gt;&lt;strong&gt;Space&lt;/strong&gt;&lt;/p&gt;\\\\n\\\\n&lt;p&gt;&lt;strong&gt;Biotech&lt;/strong&gt;&lt;/p&gt;\\\\n\\\\n&lt;p&gt;&lt;strong&gt;Society&lt;/strong&gt;&lt;/p&gt;\\\\n\\\\n&lt;p&gt;&lt;strong&gt;Economics&lt;/strong&gt;&lt;/p&gt;\\\\n\\\\n&lt;p&gt;&lt;strong&gt;Energy&lt;/strong&gt;&lt;/p&gt;\\\\n\\\\n&lt;p&gt;We&amp;#39;ll keep the post open for a week or so then announce the results.&lt;/p&gt;\\\\n&lt;/div&gt;&lt;!-- SC_ON --&gt;\", \"likes\": null, \"suggested_sort\": null, \"banned_at_utc\": null, \"view_count\": null, \"archived\": false, \"no_follow\": false, \"is_crosspostable\": false, \"pinned\": false, \"over_18\": false, \"media_only\": false, \"link_flair_template_id\": \"3f65ffbe-19ae-11e7-a3cf-0e701479c064\", \"can_gild\": false, \"spoiler\": false, \"locked\": false, \"author_flair_text\": null, \"visited\": false, \"num_reports\": null, \"distinguished\": null, \"subreddit_id\": \"t5_2t7no\", \"mod_reason_by\": null, \"removal_reason\": null, \"link_flair_background_color\": \"\", \"id\": \"abk1xr\", \"is_robot_indexable\": true, \"report_reasons\": null, \"author\": \"lord_stryker\", \"num_crossposts\": 0, \"num_comments\": 33, \"send_replies\": false, \"whitelist_status\": \"all_ads\", \"mod_reports\": [], \"author_patreon_flair\": false, \"author_flair_text_color\": null, \"permalink\": \"/r/Futurology/comments/abk1xr/best_of_2018_vote_on_your_favorite_posts_of_the/\", \"parent_whitelist_status\": \"all_ads\", \"stickied\": true, \"url\": \"https://www.reddit.com/r/Futurology/comments/abk1xr/best_of_2018_vote_on_your_favorite_posts_of_the/\", \"subreddit_subscribers\": 13593446, \"created_utc\": 1546364431.0, \"media\": null, \"is_video\": false}}, {\"kind\": \"t3\", \"data\": {\"approved_at_utc\": null, \"subreddit\": \"Futurology\", \"selftext\": \"\", \"author_fullname\": \"t2_6hji\", \"saved\": false, \"mod_reason_title\": null, \"gilded\": 0, \"clicked\": false, \"title\": \"Google\\'s new US data centers will run on 1.6 million solar panels - It\\'s part of Google\\'s plan to purchase 100 percent carbon-free energy.\", \"link_flair_richtext\": [], \"subreddit_name_prefixed\": \"r/Futurology\", \"hidden\": false, \"pwls\": 6, \"link_flair_css_class\": \"energy\", \"downs\": 0, \"thumbnail_height\": 78, \"hide_score\": false, \"name\": \"t3_agwt7u\", \"quarantine\": false, \"link_flair_text_color\": \"dark\", \"author_flair_background_color\": \"\", \"subreddit_type\": \"public\", \"ups\": 4086, \"domain\": \"cnet.com\", \"media_embed\": {}, \"thumbnail_width\": 140, \"author_flair_template_id\": null, \"is_original_content\": false, \"user_reports\": [], \"secure_media\": null, \"is_reddit_media_domain\": false, \"is_meta\": false, \"category\": null, \"secure_media_embed\": {}, \"link_flair_text\": \"Energy\", \"can_mod_post\": false, \"score\": 4086, \"approved_by\": null, \"thumbnail\": \"https://b.thumbs.redditmedia.com/oJR2sFtsWJp-LaiLm0_kLGF5akQDWjwLEwtabYNOjvs.jpg\", \"edited\": false, \"author_flair_css_class\": \"verified\", \"author_flair_richtext\": [], \"gildings\": {\"gid_1\": 0, \"gid_2\": 0, \"gid_3\": 0}, \"post_hint\": \"link\", \"content_categories\": null, \"is_self\": false, \"mod_note\": null, \"created\": 1547752950.0, \"link_flair_type\": \"text\", \"wls\": 6, \"banned_by\": null, \"author_flair_type\": \"text\", \"contest_mode\": false, \"selftext_html\": null, \"likes\": null, \"suggested_sort\": null, \"banned_at_utc\": null, \"view_count\": null, \"archived\": false, \"no_follow\": false, \"is_crosspostable\": false, \"pinned\": false, \"over_18\": false, \"preview\": {\"images\": [{\"source\": {\"url\": \"https://external-preview.redd.it/y-da9o9t3RNoecbP9XBqTilsxeuyW2hPVC58IHsVAPg.jpg?auto=webp&amp;s=e294fc60e2c863eedb11d85871c32579ec817888\", \"width\": 724, \"height\": 407}, \"resolutions\": [{\"url\": \"https://external-preview.redd.it/y-da9o9t3RNoecbP9XBqTilsxeuyW2hPVC58IHsVAPg.jpg?width=108&amp;crop=smart&amp;auto=webp&amp;s=2e54c005483ab2af1c922df78e79f51af1faa9bf\", \"width\": 108, \"height\": 60}, {\"url\": \"https://external-preview.redd.it/y-da9o9t3RNoecbP9XBqTilsxeuyW2hPVC58IHsVAPg.jpg?width=216&amp;crop=smart&amp;auto=webp&amp;s=304e9ebce5b902d146562250a38246aac58c2aa2\", \"width\": 216, \"height\": 121}, {\"url\": \"https://external-preview.redd.it/y-da9o9t3RNoecbP9XBqTilsxeuyW2hPVC58IHsVAPg.jpg?width=320&amp;crop=smart&amp;auto=webp&amp;s=a890663f20b43a4801cfe633ed11fa96be45c556\", \"width\": 320, \"height\": 179}, {\"url\": \"https://external-preview.redd.it/y-da9o9t3RNoecbP9XBqTilsxeuyW2hPVC58IHsVAPg.jpg?width=640&amp;crop=smart&amp;auto=webp&amp;s=d9e9bcf44301ccc4d41c2aff092eb5a07c796cb9\", \"width\": 640, \"height\": 359}], \"variants\": {}, \"id\": \"_TNKwm9bv2q3ArSFQvN0aJSnY_CqHX00-AOEzL1XZW0\"}], \"enabled\": false}, \"media_only\": false, \"link_flair_template_id\": \"331ef532-e559-11e6-9a6d-0ee5464b8f94\", \"can_gild\": false, \"spoiler\": false, \"locked\": false, \"author_flair_text\": \"MD-PhD-MBA\", \"visited\": false, \"num_reports\": null, \"distinguished\": null, \"subreddit_id\": \"t5_2t7no\", \"mod_reason_by\": null, \"removal_reason\": null, \"link_flair_background_color\": \"\", \"id\": \"agwt7u\", \"is_robot_indexable\": true, \"report_reasons\": null, \"author\": \"mvea\", \"num_crossposts\": 1, \"num_comments\": 241, \"send_replies\": true, \"whitelist_status\": \"all_ads\", \"mod_reports\": [], \"author_patreon_flair\": false, \"author_flair_text_color\": \"dark\", \"permalink\": \"/r/Futurology/comments/agwt7u/googles_new_us_data_centers_will_run_on_16/\", \"parent_whitelist_status\": \"all_ads\", \"stickied\": false, \"url\": \"https://www.cnet.com/au/news/googles-new-us-data-centers-will-be-powered-by-1-6-million-solar-panels/\", \"subreddit_subscribers\": 13593446, \"created_utc\": 1547724150.0, \"media\": null, \"is_video\": false}}, {\"kind\": \"t3\", \"data\": {\"approved_at_utc\": null, \"subreddit\": \"Futurology\", \"selftext\": \"\", \"author_fullname\": \"t2_6hji\", \"saved\": false, \"mod_reason_title\": null, \"gilded\": 0, \"clicked\": false, \"title\": \"A controversial startup that charges $8,000 to fill your veins with young blood now claims to be up and running in 5 cities across the US\", \"link_flair_richtext\": [], \"subreddit_name_prefixed\": \"r/Futurology\", \"hidden\": false, \"pwls\": 6, \"link_flair_css_class\": \"biotech\", \"downs\": 0, \"thumbnail_height\": 70, \"hide_score\": false, \"name\": \"t3_agqhhi\", \"quarantine\": false, \"link_flair_text_color\": \"dark\", \"author_flair_background_color\": \"\", \"subreddit_type\": \"public\", \"ups\": 13964, \"domain\": \"businessinsider.com\", \"media_embed\": {}, \"thumbnail_width\": 140, \"author_flair_template_id\": null, \"is_original_content\": false, \"user_reports\": [], \"secure_media\": null, \"is_reddit_media_domain\": false, \"is_meta\": false, \"category\": null, \"secure_media_embed\": {}, \"link_flair_text\": \"Biotech\", \"can_mod_post\": false, \"score\": 13964, \"approved_by\": null, \"thumbnail\": \"https://b.thumbs.redditmedia.com/1g0PGj4_1_JyPo_0lLcCV-bCABSWThrKyRtLuwRFE5M.jpg\", \"edited\": false, \"author_flair_css_class\": \"verified\", \"author_flair_richtext\": [], \"gildings\": {\"gid_1\": 0, \"gid_2\": 0, \"gid_3\": 0}, \"post_hint\": \"link\", \"content_categories\": null, \"is_self\": false, \"mod_note\": null, \"created\": 1547705240.0, \"link_flair_type\": \"text\", \"wls\": 6, \"banned_by\": null, \"author_flair_type\": \"text\", \"contest_mode\": false, \"selftext_html\": null, \"likes\": null, \"suggested_sort\": null, \"banned_at_utc\": null, \"view_count\": null, \"archived\": false, \"no_follow\": false, \"is_crosspostable\": false, \"pinned\": false, \"over_18\": false, \"preview\": {\"images\": [{\"source\": {\"url\": \"https://external-preview.redd.it/kWOELGhtvrtrt8_PJxI7zT3bgpVTZOvpdECxiRrfUiA.jpg?auto=webp&amp;s=04a154c2ba0f08f626dc5575f1b1091cf361a6ec\", \"width\": 1920, \"height\": 960}, \"resolutions\": [{\"url\": \"https://external-preview.redd.it/kWOELGhtvrtrt8_PJxI7zT3bgpVTZOvpdECxiRrfUiA.jpg?width=108&amp;crop=smart&amp;auto=webp&amp;s=577faceb2c3733787b7ab44a137a52d295b1bac2\", \"width\": 108, \"height\": 54}, {\"url\": \"https://external-preview.redd.it/kWOELGhtvrtrt8_PJxI7zT3bgpVTZOvpdECxiRrfUiA.jpg?width=216&amp;crop=smart&amp;auto=webp&amp;s=5f95fce7f6f81bb1dc668174db6f061dcca503cb\", \"width\": 216, \"height\": 108}, {\"url\": \"https://external-preview.redd.it/kWOELGhtvrtrt8_PJxI7zT3bgpVTZOvpdECxiRrfUiA.jpg?width=320&amp;crop=smart&amp;auto=webp&amp;s=1d4f340d5281c1ebef4e3936cf1a4741b40a3900\", \"width\": 320, \"height\": 160}, {\"url\": \"https://external-preview.redd.it/kWOELGhtvrtrt8_PJxI7zT3bgpVTZOvpdECxiRrfUiA.jpg?width=640&amp;crop=smart&amp;auto=webp&amp;s=463adc109c0d83575187c48397d2d922ade2f012\", \"width\": 640, \"height\": 320}, {\"url\": \"https://external-preview.redd.it/kWOELGhtvrtrt8_PJxI7zT3bgpVTZOvpdECxiRrfUiA.jpg?width=960&amp;crop=smart&amp;auto=webp&amp;s=4a8dab5e8a7c4da3ec036eb4d3006e36950e74ed\", \"width\": 960, \"height\": 480}, {\"url\": \"https://external-preview.redd.it/kWOELGhtvrtrt8_PJxI7zT3bgpVTZOvpdECxiRrfUiA.jpg?width=1080&amp;crop=smart&amp;auto=webp&amp;s=05dd0303248213d1264da980674c73c761d8f0c3\", \"width\": 1080, \"height\": 540}], \"variants\": {}, \"id\": \"1bKnt9SXgkKTkKkuJfM_PbKBm8H-VJirE9zmceAOTis\"}], \"enabled\": false}, \"media_only\": false, \"link_flair_template_id\": \"dc868cc6-e558-11e6-892d-0ee5464b8f94\", \"can_gild\": false, \"spoiler\": false, \"locked\": false, \"author_flair_text\": \"MD-PhD-MBA\", \"visited\": false, \"num_reports\": null, \"distinguished\": null, \"subreddit_id\": \"t5_2t7no\", \"mod_reason_by\": null, \"removal_reason\": null, \"link_flair_background_color\": \"\", \"id\": \"agqhhi\", \"is_robot_indexable\": true, \"report_reasons\": null, \"author\": \"mvea\", \"num_crossposts\": 19, \"num_comments\": 1707, \"send_replies\": false, \"whitelist_status\": \"all_ads\", \"mod_reports\": [], \"author_patreon_flair\": false, \"author_flair_text_color\": \"dark\", \"permalink\": \"/r/Futurology/comments/agqhhi/a_controversial_startup_that_charges_8000_to_fill/\", \"parent_whitelist_status\": \"all_ads\", \"stickied\": false, \"url\": \"https://www.businessinsider.com/young-blood-transfusions-open-accepting-paypal-payments-cities-ambrosia-2019-1?r=US&amp;IR=T\", \"subreddit_subscribers\": 13593446, \"created_utc\": 1547676440.0, \"media\": null, \"is_video\": false}}, {\"kind\": \"t3\", \"data\": {\"approved_at_utc\": null, \"subreddit\": \"Futurology\", \"selftext\": \"\", \"author_fullname\": \"t2_152s8pek\", \"saved\": false, \"mod_reason_title\": null, \"gilded\": 0, \"clicked\": false, \"title\": \"Facebook\\'s \\'10 Year Challenge\\' Is Just a Harmless Meme\\\\u2014Right? | WIRED\", \"link_flair_richtext\": [], \"subreddit_name_prefixed\": \"r/Futurology\", \"hidden\": false, \"pwls\": 6, \"link_flair_css_class\": null, \"downs\": 0, \"thumbnail_height\": 73, \"hide_score\": false, \"name\": \"t3_agyiqs\", \"quarantine\": false, \"link_flair_text_color\": \"dark\", \"author_flair_background_color\": null, \"subreddit_type\": \"public\", \"ups\": 288, \"domain\": \"wired.com\", \"media_embed\": {}, \"thumbnail_width\": 140, \"author_flair_template_id\": null, \"is_original_content\": false, \"user_reports\": [], \"secure_media\": null, \"is_reddit_media_domain\": false, \"is_meta\": false, \"category\": null, \"secure_media_embed\": {}, \"link_flair_text\": null, \"can_mod_post\": false, \"score\": 288, \"approved_by\": null, \"thumbnail\": \"https://a.thumbs.redditmedia.com/JmKhyMKwIu6c4Fs0obv2OL5ExJkTU7TOrq3muZdawS0.jpg\", \"edited\": false, \"author_flair_css_class\": null, \"author_flair_richtext\": [], \"gildings\": {\"gid_1\": 0, \"gid_2\": 0, \"gid_3\": 0}, \"post_hint\": \"link\", \"content_categories\": null, \"is_self\": false, \"mod_note\": null, \"created\": 1547765682.0, \"link_flair_type\": \"text\", \"wls\": 6, \"banned_by\": null, \"author_flair_type\": \"text\", \"contest_mode\": false, \"selftext_html\": null, \"likes\": null, \"suggested_sort\": null, \"banned_at_utc\": null, \"view_count\": null, \"archived\": false, \"no_follow\": false, \"is_crosspostable\": false, \"pinned\": false, \"over_18\": false, \"preview\": {\"images\": [{\"source\": {\"url\": \"https://external-preview.redd.it/eF2fyeA4N29X0oAZB_DJh-xT86vVs4qwFsQm3uui7vg.jpg?auto=webp&amp;s=65e9da84b1fc15f0ff4effc686054ff020844518\", \"width\": 3086, \"height\": 1616}, \"resolutions\": [{\"url\": \"https://external-preview.redd.it/eF2fyeA4N29X0oAZB_DJh-xT86vVs4qwFsQm3uui7vg.jpg?width=108&amp;crop=smart&amp;auto=webp&amp;s=16ca2376161c7145174a6f2c83b05590cb36fd58\", \"width\": 108, \"height\": 56}, {\"url\": \"https://external-preview.redd.it/eF2fyeA4N29X0oAZB_DJh-xT86vVs4qwFsQm3uui7vg.jpg?width=216&amp;crop=smart&amp;auto=webp&amp;s=638f96170a96e1a491382c57aa3f5bc2e381a5c2\", \"width\": 216, \"height\": 113}, {\"url\": \"https://external-preview.redd.it/eF2fyeA4N29X0oAZB_DJh-xT86vVs4qwFsQm3uui7vg.jpg?width=320&amp;crop=smart&amp;auto=webp&amp;s=a191e326f38a3436fa770e7b7ddd31d0a20aff15\", \"width\": 320, \"height\": 167}, {\"url\": \"https://external-preview.redd.it/eF2fyeA4N29X0oAZB_DJh-xT86vVs4qwFsQm3uui7vg.jpg?width=640&amp;crop=smart&amp;auto=webp&amp;s=70a4821a39e56058fa6e84340acd2cef4a360b2f\", \"width\": 640, \"height\": 335}, {\"url\": \"https://external-preview.redd.it/eF2fyeA4N29X0oAZB_DJh-xT86vVs4qwFsQm3uui7vg.jpg?width=960&amp;crop=smart&amp;auto=webp&amp;s=40b00b05566cbe0e4682b0a9d6d86816cb027f7f\", \"width\": 960, \"height\": 502}, {\"url\": \"https://external-preview.redd.it/eF2fyeA4N29X0oAZB_DJh-xT86vVs4qwFsQm3uui7vg.jpg?width=1080&amp;crop=smart&amp;auto=webp&amp;s=ee806de2fcd422725212224839ea6b7cfa9b99ad\", \"width\": 1080, \"height\": 565}], \"variants\": {}, \"id\": \"13r9nJr-yZr3r6H-Fup7kEdzi3UpyXZPZTVB0jYyFmw\"}], \"enabled\": false}, \"media_only\": false, \"link_flair_template_id\": null, \"can_gild\": false, \"spoiler\": false, \"locked\": false, \"author_flair_text\": null, \"visited\": false, \"num_reports\": null, \"distinguished\": null, \"subreddit_id\": \"t5_2t7no\", \"mod_reason_by\": null, \"removal_reason\": null, \"link_flair_background_color\": \"\", \"id\": \"agyiqs\", \"is_robot_indexable\": true, \"report_reasons\": null, \"author\": \"ilovejellyilovejelly\", \"num_crossposts\": 0, \"num_comments\": 53, \"send_replies\": true, \"whitelist_status\": \"all_ads\", \"mod_reports\": [], \"author_patreon_flair\": false, \"author_flair_text_color\": null, \"permalink\": \"/r/Futurology/comments/agyiqs/facebooks_10_year_challenge_is_just_a_harmless/\", \"parent_whitelist_status\": \"all_ads\", \"stickied\": false, \"url\": \"https://www.wired.com/story/facebook-10-year-meme-challenge/\", \"subreddit_subscribers\": 13593446, \"created_utc\": 1547736882.0, \"media\": null, \"is_video\": false}}, {\"kind\": \"t3\", \"data\": {\"approved_at_utc\": null, \"subreddit\": \"Futurology\", \"selftext\": \"\", \"author_fullname\": \"t2_6hji\", \"saved\": false, \"mod_reason_title\": null, \"gilded\": 0, \"clicked\": false, \"title\": \"New plant-focused diet would \\\\u2018transform\\\\u2019 planet\\\\u2019s future, say scientists: \\\\u2018Planetary health diet\\\\u2019 would prevent millions of deaths a year and avoid climate change\", \"link_flair_richtext\": [], \"subreddit_name_prefixed\": \"r/Futurology\", \"hidden\": false, \"pwls\": 6, \"link_flair_css_class\": \"environment\", \"downs\": 0, \"thumbnail_height\": 73, \"hide_score\": false, \"name\": \"t3_agwnkw\", \"quarantine\": false, \"link_flair_text_color\": \"dark\", \"author_flair_background_color\": \"\", \"subreddit_type\": \"public\", \"ups\": 409, \"domain\": \"theguardian.com\", \"media_embed\": {}, \"thumbnail_width\": 140, \"author_flair_template_id\": null, \"is_original_content\": false, \"user_reports\": [], \"secure_media\": null, \"is_reddit_media_domain\": false, \"is_meta\": false, \"category\": null, \"secure_media_embed\": {}, \"link_flair_text\": \"Environment\", \"can_mod_post\": false, \"score\": 409, \"approved_by\": null, \"thumbnail\": \"https://b.thumbs.redditmedia.com/_9utalvWHJNH1-rtAq3bibj_EIRtzGQGd6oZkpuAAWk.jpg\", \"edited\": false, \"author_flair_css_class\": \"verified\", \"author_flair_richtext\": [], \"gildings\": {\"gid_1\": 0, \"gid_2\": 0, \"gid_3\": 0}, \"post_hint\": \"link\", \"content_categories\": null, \"is_self\": false, \"mod_note\": null, \"created\": 1547751660.0, \"link_flair_type\": \"text\", \"wls\": 6, \"banned_by\": null, \"author_flair_type\": \"text\", \"contest_mode\": false, \"selftext_html\": null, \"likes\": null, \"suggested_sort\": null, \"banned_at_utc\": null, \"view_count\": null, \"archived\": false, \"no_follow\": false, \"is_crosspostable\": false, \"pinned\": false, \"over_18\": false, \"preview\": {\"images\": [{\"source\": {\"url\": \"https://external-preview.redd.it/Ub-TPw0ZS0_FiipmcKbT2ya1q03P18n3TgtcRCpcRiE.jpg?auto=webp&amp;s=1b1c39f628f5dea3947b107327d44a59ca55cdb4\", \"width\": 1200, \"height\": 630}, \"resolutions\": [{\"url\": \"https://external-preview.redd.it/Ub-TPw0ZS0_FiipmcKbT2ya1q03P18n3TgtcRCpcRiE.jpg?width=108&amp;crop=smart&amp;auto=webp&amp;s=9e1b3579fc25be0f84aabe4d8a1c2ecea7fd2ae1\", \"width\": 108, \"height\": 56}, {\"url\": \"https://external-preview.redd.it/Ub-TPw0ZS0_FiipmcKbT2ya1q03P18n3TgtcRCpcRiE.jpg?width=216&amp;crop=smart&amp;auto=webp&amp;s=7684da268d11a26ee05e92d61dcd0de81064a1c4\", \"width\": 216, \"height\": 113}, {\"url\": \"https://external-preview.redd.it/Ub-TPw0ZS0_FiipmcKbT2ya1q03P18n3TgtcRCpcRiE.jpg?width=320&amp;crop=smart&amp;auto=webp&amp;s=24110bfa88467e5e964b0afb68712305afaeb5fe\", \"width\": 320, \"height\": 168}, {\"url\": \"https://external-preview.redd.it/Ub-TPw0ZS0_FiipmcKbT2ya1q03P18n3TgtcRCpcRiE.jpg?width=640&amp;crop=smart&amp;auto=webp&amp;s=839dc4701f2a986ce11d8e5d87b90f4c4363f4c8\", \"width\": 640, \"height\": 336}, {\"url\": \"https://external-preview.redd.it/Ub-TPw0ZS0_FiipmcKbT2ya1q03P18n3TgtcRCpcRiE.jpg?width=960&amp;crop=smart&amp;auto=webp&amp;s=585ca4d4c66dc192e1a2e2df40d4c5b4a6663bdf\", \"width\": 960, \"height\": 504}, {\"url\": \"https://external-preview.redd.it/Ub-TPw0ZS0_FiipmcKbT2ya1q03P18n3TgtcRCpcRiE.jpg?width=1080&amp;crop=smart&amp;auto=webp&amp;s=56537ba874381c1d782924b0a14608e5f51686a8\", \"width\": 1080, \"height\": 567}], \"variants\": {}, \"id\": \"QaQSHdAKHxArtOP7hFdOs8C0D7G5YainCqzV_dqE3zU\"}], \"enabled\": false}, \"media_only\": false, \"link_flair_template_id\": \"3f2be2b8-e559-11e6-a14f-0e651cc4a034\", \"can_gild\": false, \"spoiler\": false, \"locked\": false, \"author_flair_text\": \"MD-PhD-MBA\", \"visited\": false, \"num_reports\": null, \"distinguished\": null, \"subreddit_id\": \"t5_2t7no\", \"mod_reason_by\": null, \"removal_reason\": null, \"link_flair_background_color\": \"\", \"id\": \"agwnkw\", \"is_robot_indexable\": true, \"report_reasons\": null, \"author\": \"mvea\", \"num_crossposts\": 1, \"num_comments\": 137, \"send_replies\": true, \"whitelist_status\": \"all_ads\", \"mod_reports\": [], \"author_patreon_flair\": false, \"author_flair_text_color\": \"dark\", \"permalink\": \"/r/Futurology/comments/agwnkw/new_plantfocused_diet_would_transform_planets/\", \"parent_whitelist_status\": \"all_ads\", \"stickied\": false, \"url\": \"https://www.theguardian.com/environment/2019/jan/16/new-plant-focused-diet-would-transform-planets-future-say-scientists\", \"subreddit_subscribers\": 13593446, \"created_utc\": 1547722860.0, \"media\": null, \"is_video\": false}}, {\"kind\": \"t3\", \"data\": {\"approved_at_utc\": null, \"subreddit\": \"Futurology\", \"selftext\": \"\", \"author_fullname\": \"t2_bwpxx\", \"saved\": false, \"mod_reason_title\": null, \"gilded\": 0, \"clicked\": false, \"title\": \"We\\\\u2019d have more quantum computers if it weren\\\\u2019t so hard to find the damn cables\", \"link_flair_richtext\": [], \"subreddit_name_prefixed\": \"r/Futurology\", \"hidden\": false, \"pwls\": 6, \"link_flair_css_class\": \"computing\", \"downs\": 0, \"thumbnail_height\": 78, \"hide_score\": false, \"name\": \"t3_agxzwj\", \"quarantine\": false, \"link_flair_text_color\": \"dark\", \"author_flair_background_color\": null, \"subreddit_type\": \"public\", \"ups\": 75, \"domain\": \"technologyreview.com\", \"media_embed\": {}, \"thumbnail_width\": 140, \"author_flair_template_id\": null, \"is_original_content\": false, \"user_reports\": [], \"secure_media\": null, \"is_reddit_media_domain\": false, \"is_meta\": false, \"category\": null, \"secure_media_embed\": {}, \"link_flair_text\": \"Computing\", \"can_mod_post\": false, \"score\": 75, \"approved_by\": null, \"thumbnail\": \"https://a.thumbs.redditmedia.com/U4oBZrIw_ZyP7bbtJJaRmEoYUQPiMk-_0C8h3qFJKf4.jpg\", \"edited\": false, \"author_flair_css_class\": null, \"author_flair_richtext\": [], \"gildings\": {\"gid_1\": 0, \"gid_2\": 0, \"gid_3\": 0}, \"post_hint\": \"link\", \"content_categories\": null, \"is_self\": false, \"mod_note\": null, \"created\": 1547762246.0, \"link_flair_type\": \"text\", \"wls\": 6, \"banned_by\": null, \"author_flair_type\": \"text\", \"contest_mode\": false, \"selftext_html\": null, \"likes\": null, \"suggested_sort\": null, \"banned_at_utc\": null, \"view_count\": null, \"archived\": false, \"no_follow\": false, \"is_crosspostable\": false, \"pinned\": false, \"over_18\": false, \"preview\": {\"images\": [{\"source\": {\"url\": \"https://external-preview.redd.it/5D6y4UnysemUss869lAEhRv0oxkljv1rwvPCEDl8urk.jpg?auto=webp&amp;s=9ea9418b615582bc1a30ce25047d36fc6eb9bf26\", \"width\": 1056, \"height\": 594}, \"resolutions\": [{\"url\": \"https://external-preview.redd.it/5D6y4UnysemUss869lAEhRv0oxkljv1rwvPCEDl8urk.jpg?width=108&amp;crop=smart&amp;auto=webp&amp;s=8504bffa2001445b0a1526e6ac20b1dee32d0d14\", \"width\": 108, \"height\": 60}, {\"url\": \"https://external-preview.redd.it/5D6y4UnysemUss869lAEhRv0oxkljv1rwvPCEDl8urk.jpg?width=216&amp;crop=smart&amp;auto=webp&amp;s=6c9e9d614ef390e02bcccac37519ccc93804db67\", \"width\": 216, \"height\": 121}, {\"url\": \"https://external-preview.redd.it/5D6y4UnysemUss869lAEhRv0oxkljv1rwvPCEDl8urk.jpg?width=320&amp;crop=smart&amp;auto=webp&amp;s=1dc1b9ee42f5293de00d31975892596772c1421a\", \"width\": 320, \"height\": 180}, {\"url\": \"https://external-preview.redd.it/5D6y4UnysemUss869lAEhRv0oxkljv1rwvPCEDl8urk.jpg?width=640&amp;crop=smart&amp;auto=webp&amp;s=93267e38099584fd472d6e40c075907ccdca6e31\", \"width\": 640, \"height\": 360}, {\"url\": \"https://external-preview.redd.it/5D6y4UnysemUss869lAEhRv0oxkljv1rwvPCEDl8urk.jpg?width=960&amp;crop=smart&amp;auto=webp&amp;s=aa71fb7073888ef6c4872ddfb8ea26997103498d\", \"width\": 960, \"height\": 540}], \"variants\": {}, \"id\": \"TlVIPJkhtL7A1xV0_fsmcynJlB2t8Ylo8X-kJJptG5E\"}], \"enabled\": false}, \"media_only\": false, \"link_flair_template_id\": \"f17b3230-e558-11e6-8dca-0e016ebf80aa\", \"can_gild\": false, \"spoiler\": false, \"locked\": false, \"author_flair_text\": null, \"visited\": false, \"num_reports\": null, \"distinguished\": null, \"subreddit_id\": \"t5_2t7no\", \"mod_reason_by\": null, \"removal_reason\": null, \"link_flair_background_color\": \"\", \"id\": \"agxzwj\", \"is_robot_indexable\": true, \"report_reasons\": null, \"author\": \"izumi3682\", \"num_crossposts\": 0, \"num_comments\": 3, \"send_replies\": true, \"whitelist_status\": \"all_ads\", \"mod_reports\": [], \"author_patreon_flair\": false, \"author_flair_text_color\": null, \"permalink\": \"/r/Futurology/comments/agxzwj/wed_have_more_quantum_computers_if_it_werent_so/\", \"parent_whitelist_status\": \"all_ads\", \"stickied\": false, \"url\": \"https://www.technologyreview.com/s/612760/quantum-computers-component-shortage/\", \"subreddit_subscribers\": 13593446, \"created_utc\": 1547733446.0, \"media\": null, \"is_video\": false}}, {\"kind\": \"t3\", \"data\": {\"approved_at_utc\": null, \"subreddit\": \"Futurology\", \"selftext\": \"\", \"author_fullname\": \"t2_lulxq\", \"saved\": false, \"mod_reason_title\": null, \"gilded\": 0, \"clicked\": false, \"title\": \"Tiny silicon particles could power lithium ion batteries with 10 times more capacity - Canada Research Chair in Nanomaterials for Energy\", \"link_flair_richtext\": [], \"subreddit_name_prefixed\": \"r/Futurology\", \"hidden\": false, \"pwls\": 6, \"link_flair_css_class\": \"nanotech\", \"downs\": 0, \"thumbnail_height\": 75, \"hide_score\": false, \"name\": \"t3_agxa51\", \"quarantine\": false, \"link_flair_text_color\": \"dark\", \"author_flair_background_color\": null, \"subreddit_type\": \"public\", \"ups\": 83, \"domain\": \"phys.org\", \"media_embed\": {}, \"thumbnail_width\": 140, \"author_flair_template_id\": null, \"is_original_content\": false, \"user_reports\": [], \"secure_media\": null, \"is_reddit_media_domain\": false, \"is_meta\": false, \"category\": null, \"secure_media_embed\": {}, \"link_flair_text\": \"Nanotech\", \"can_mod_post\": false, \"score\": 83, \"approved_by\": null, \"thumbnail\": \"https://a.thumbs.redditmedia.com/KGvrqMht10cFfUrFhUvK1DIrZY4obxMBhtK7WyosCw0.jpg\", \"edited\": false, \"author_flair_css_class\": null, \"author_flair_richtext\": [], \"gildings\": {\"gid_1\": 0, \"gid_2\": 0, \"gid_3\": 0}, \"post_hint\": \"link\", \"content_categories\": null, \"is_self\": false, \"mod_note\": null, \"created\": 1547756876.0, \"link_flair_type\": \"text\", \"wls\": 6, \"banned_by\": null, \"author_flair_type\": \"text\", \"contest_mode\": false, \"selftext_html\": null, \"likes\": null, \"suggested_sort\": null, \"banned_at_utc\": null, \"view_count\": null, \"archived\": false, \"no_follow\": false, \"is_crosspostable\": false, \"pinned\": false, \"over_18\": false, \"preview\": {\"images\": [{\"source\": {\"url\": \"https://external-preview.redd.it/Szvc_q8Cigcatrswlg_EGxizU2TgAoFqOb52Yx7YRFo.jpg?auto=webp&amp;s=f6eadf13536036d12371043730a648b7d32c91a2\", \"width\": 1280, \"height\": 692}, \"resolutions\": [{\"url\": \"https://external-preview.redd.it/Szvc_q8Cigcatrswlg_EGxizU2TgAoFqOb52Yx7YRFo.jpg?width=108&amp;crop=smart&amp;auto=webp&amp;s=30ce6f6e7f14e23183e00ff2cb830e871b105ba2\", \"width\": 108, \"height\": 58}, {\"url\": \"https://external-preview.redd.it/Szvc_q8Cigcatrswlg_EGxizU2TgAoFqOb52Yx7YRFo.jpg?width=216&amp;crop=smart&amp;auto=webp&amp;s=0e0c740d4733348499e4215a1f82ef66c5456e5b\", \"width\": 216, \"height\": 116}, {\"url\": \"https://external-preview.redd.it/Szvc_q8Cigcatrswlg_EGxizU2TgAoFqOb52Yx7YRFo.jpg?width=320&amp;crop=smart&amp;auto=webp&amp;s=7f0dbb1401b90b26bbc33cac627f529cd3451f78\", \"width\": 320, \"height\": 173}, {\"url\": \"https://external-preview.redd.it/Szvc_q8Cigcatrswlg_EGxizU2TgAoFqOb52Yx7YRFo.jpg?width=640&amp;crop=smart&amp;auto=webp&amp;s=8a9fd3428f16d9f9c330496f714e8129ca423631\", \"width\": 640, \"height\": 346}, {\"url\": \"https://external-preview.redd.it/Szvc_q8Cigcatrswlg_EGxizU2TgAoFqOb52Yx7YRFo.jpg?width=960&amp;crop=smart&amp;auto=webp&amp;s=7901fcb0c398ba5363359c90d84764bb453de768\", \"width\": 960, \"height\": 519}, {\"url\": \"https://external-preview.redd.it/Szvc_q8Cigcatrswlg_EGxizU2TgAoFqOb52Yx7YRFo.jpg?width=1080&amp;crop=smart&amp;auto=webp&amp;s=e20101117ae348a48740b670134126f4fbebc86a\", \"width\": 1080, \"height\": 583}], \"variants\": {}, \"id\": \"hkDAGZDKL8mZA8qpwhPvz3qZSnxWEFzr6teE8zQQCSk\"}], \"enabled\": false}, \"media_only\": false, \"link_flair_template_id\": \"487fcfbe-e559-11e6-8750-0efe6d0e6e18\", \"can_gild\": false, \"spoiler\": false, \"locked\": false, \"author_flair_text\": null, \"visited\": false, \"num_reports\": null, \"distinguished\": null, \"subreddit_id\": \"t5_2t7no\", \"mod_reason_by\": null, \"removal_reason\": null, \"link_flair_background_color\": \"\", \"id\": \"agxa51\", \"is_robot_indexable\": true, \"report_reasons\": null, \"author\": \"bebesiege\", \"num_crossposts\": 0, \"num_comments\": 8, \"send_replies\": true, \"whitelist_status\": \"all_ads\", \"mod_reports\": [], \"author_patreon_flair\": false, \"author_flair_text_color\": null, \"permalink\": \"/r/Futurology/comments/agxa51/tiny_silicon_particles_could_power_lithium_ion/\", \"parent_whitelist_status\": \"all_ads\", \"stickied\": false, \"url\": \"https://phys.org/news/2019-01-tiny-silicon-particles-power-lithium.html\", \"subreddit_subscribers\": 13593446, \"created_utc\": 1547728076.0, \"media\": null, \"is_video\": false}}, {\"kind\": \"t3\", \"data\": {\"approved_at_utc\": null, \"subreddit\": \"Futurology\", \"selftext\": \"\", \"author_fullname\": \"t2_3q2kz\", \"saved\": false, \"mod_reason_title\": null, \"gilded\": 0, \"clicked\": false, \"title\": \"Shareholders are pushing Amazon to stop selling its facial recognition tool - Proposal requests a civil rights review\", \"link_flair_richtext\": [], \"subreddit_name_prefixed\": \"r/Futurology\", \"hidden\": false, \"pwls\": 6, \"link_flair_css_class\": \"ai\", \"downs\": 0, \"thumbnail_height\": 73, \"hide_score\": false, \"name\": \"t3_agz9y1\", \"quarantine\": false, \"link_flair_text_color\": \"dark\", \"author_flair_background_color\": null, \"subreddit_type\": \"public\", \"ups\": 37, \"domain\": \"theverge.com\", \"media_embed\": {}, \"thumbnail_width\": 140, \"author_flair_template_id\": null, \"is_original_content\": false, \"user_reports\": [], \"secure_media\": null, \"is_reddit_media_domain\": false, \"is_meta\": false, \"category\": null, \"secure_media_embed\": {}, \"link_flair_text\": \"AI\", \"can_mod_post\": false, \"score\": 37, \"approved_by\": null, \"thumbnail\": \"https://b.thumbs.redditmedia.com/zSYv5Jeqwh5RLU3dYo9PwxrVKqBAug9eqNxKzHDE4kI.jpg\", \"edited\": false, \"author_flair_css_class\": null, \"author_flair_richtext\": [], \"gildings\": {\"gid_1\": 0, \"gid_2\": 0, \"gid_3\": 0}, \"post_hint\": \"link\", \"content_categories\": null, \"is_self\": false, \"mod_note\": null, \"created\": 1547770139.0, \"link_flair_type\": \"text\", \"wls\": 6, \"banned_by\": null, \"author_flair_type\": \"text\", \"contest_mode\": false, \"selftext_html\": null, \"likes\": null, \"suggested_sort\": null, \"banned_at_utc\": null, \"view_count\": null, \"archived\": false, \"no_follow\": false, \"is_crosspostable\": false, \"pinned\": false, \"over_18\": false, \"preview\": {\"images\": [{\"source\": {\"url\": \"https://external-preview.redd.it/BAXJk5xdEniYBbBpxtK_8jjwBE9b30QhvgvYcBTnEfw.jpg?auto=webp&amp;s=5bd4ebd1dbf3bfc70d521249a03a80086f3b0259\", \"width\": 1200, \"height\": 628}, \"resolutions\": [{\"url\": \"https://external-preview.redd.it/BAXJk5xdEniYBbBpxtK_8jjwBE9b30QhvgvYcBTnEfw.jpg?width=108&amp;crop=smart&amp;auto=webp&amp;s=12f5fc1cc2cb09946175d903efa92c49ad278cf1\", \"width\": 108, \"height\": 56}, {\"url\": \"https://external-preview.redd.it/BAXJk5xdEniYBbBpxtK_8jjwBE9b30QhvgvYcBTnEfw.jpg?width=216&amp;crop=smart&amp;auto=webp&amp;s=31586cecaaa856ee5f62a531856def33d9dd42c1\", \"width\": 216, \"height\": 113}, {\"url\": \"https://external-preview.redd.it/BAXJk5xdEniYBbBpxtK_8jjwBE9b30QhvgvYcBTnEfw.jpg?width=320&amp;crop=smart&amp;auto=webp&amp;s=418c55a41478faae5ab8a15741f7abcb1f146cb9\", \"width\": 320, \"height\": 167}, {\"url\": \"https://external-preview.redd.it/BAXJk5xdEniYBbBpxtK_8jjwBE9b30QhvgvYcBTnEfw.jpg?width=640&amp;crop=smart&amp;auto=webp&amp;s=6c4d4cf20c6566479d6eb5dce5e0480d018cabf3\", \"width\": 640, \"height\": 334}, {\"url\": \"https://external-preview.redd.it/BAXJk5xdEniYBbBpxtK_8jjwBE9b30QhvgvYcBTnEfw.jpg?width=960&amp;crop=smart&amp;auto=webp&amp;s=0eda999844b04ec783cc3d57d3b7407924b4a455\", \"width\": 960, \"height\": 502}, {\"url\": \"https://external-preview.redd.it/BAXJk5xdEniYBbBpxtK_8jjwBE9b30QhvgvYcBTnEfw.jpg?width=1080&amp;crop=smart&amp;auto=webp&amp;s=e15b6c284e094cc6da08612a74334428be6322ff\", \"width\": 1080, \"height\": 565}], \"variants\": {}, \"id\": \"JyupKfc1MzKEDhEnW31gwkQn2X39teniyWjkqOrks58\"}], \"enabled\": false}, \"media_only\": false, \"link_flair_template_id\": \"cd06dca6-e558-11e6-94f7-0e304598dd4a\", \"can_gild\": false, \"spoiler\": false, \"locked\": false, \"author_flair_text\": null, \"visited\": false, \"num_reports\": null, \"distinguished\": null, \"subreddit_id\": \"t5_2t7no\", \"mod_reason_by\": null, \"removal_reason\": null, \"link_flair_background_color\": \"\", \"id\": \"agz9y1\", \"is_robot_indexable\": true, \"report_reasons\": null, \"author\": \"jocker12\", \"num_crossposts\": 0, \"num_comments\": 0, \"send_replies\": true, \"whitelist_status\": \"all_ads\", \"mod_reports\": [], \"author_patreon_flair\": false, \"author_flair_text_color\": null, \"permalink\": \"/r/Futurology/comments/agz9y1/shareholders_are_pushing_amazon_to_stop_selling/\", \"parent_whitelist_status\": \"all_ads\", \"stickied\": false, \"url\": \"https://www.theverge.com/2019/1/17/18185591/amazon-rekognition-facial-recognition-shareholder-proposal\", \"subreddit_subscribers\": 13593446, \"created_utc\": 1547741339.0, \"media\": null, \"is_video\": false}}, {\"kind\": \"t3\", \"data\": {\"approved_at_utc\": null, \"subreddit\": \"Futurology\", \"selftext\": \"\", \"author_fullname\": \"t2_6hji\", \"saved\": false, \"mod_reason_title\": null, \"gilded\": 0, \"clicked\": false, \"title\": \"A Future with Elon Musk\\\\u2019s Neuralink: His plan for the company is to \\\\u2018save the human race\\\\u2019. Elon\\\\u2019s main goal, he explains, is to wire a chip into your skull. This chip would give you the digital intelligence needed to progress beyond the limits of our biological intelligence.\", \"link_flair_richtext\": [], \"subreddit_name_prefixed\": \"r/Futurology\", \"hidden\": false, \"pwls\": 6, \"link_flair_css_class\": \"biotech\", \"downs\": 0, \"thumbnail_height\": 92, \"hide_score\": false, \"name\": \"t3_agk949\", \"quarantine\": false, \"link_flair_text_color\": \"dark\", \"author_flair_background_color\": \"\", \"subreddit_type\": \"public\", \"ups\": 38232, \"domain\": \"itmunch.com\", \"media_embed\": {}, \"thumbnail_width\": 140, \"author_flair_template_id\": null, \"is_original_content\": false, \"user_reports\": [], \"secure_media\": null, \"is_reddit_media_domain\": false, \"is_meta\": false, \"category\": null, \"secure_media_embed\": {}, \"link_flair_text\": \"Biotech\", \"can_mod_post\": false, \"score\": 38232, \"approved_by\": null, \"thumbnail\": \"https://b.thumbs.redditmedia.com/l1ug5A_j0ergjWL9Wr1EonSNhHE09GXGLNBBOdtjhOU.jpg\", \"edited\": false, \"author_flair_css_class\": \"verified\", \"author_flair_richtext\": [], \"gildings\": {\"gid_1\": 0, \"gid_2\": 0, \"gid_3\": 0}, \"post_hint\": \"link\", \"content_categories\": null, \"is_self\": false, \"mod_note\": null, \"created\": 1547667015.0, \"link_flair_type\": \"text\", \"wls\": 6, \"banned_by\": null, \"author_flair_type\": \"text\", \"contest_mode\": false, \"selftext_html\": null, \"likes\": null, \"suggested_sort\": null, \"banned_at_utc\": null, \"view_count\": null, \"archived\": false, \"no_follow\": false, \"is_crosspostable\": false, \"pinned\": false, \"over_18\": false, \"preview\": {\"images\": [{\"source\": {\"url\": \"https://external-preview.redd.it/CQnYEvvzQY46WAysKEOP1C2De_JPZDhxbe2yix2yv58.jpg?auto=webp&amp;s=1089a20c9689b7ead7cd4d48e74dffbfa697d0d7\", \"width\": 799, \"height\": 530}, \"resolutions\": [{\"url\": \"https://external-preview.redd.it/CQnYEvvzQY46WAysKEOP1C2De_JPZDhxbe2yix2yv58.jpg?width=108&amp;crop=smart&amp;auto=webp&amp;s=7e010fb8d2b647a656b094e542eb19906c55d9f5\", \"width\": 108, \"height\": 71}, {\"url\": \"https://external-preview.redd.it/CQnYEvvzQY46WAysKEOP1C2De_JPZDhxbe2yix2yv58.jpg?width=216&amp;crop=smart&amp;auto=webp&amp;s=fe1ef09800fd9398e59bdaec98300f2ba38c76c5\", \"width\": 216, \"height\": 143}, {\"url\": \"https://external-preview.redd.it/CQnYEvvzQY46WAysKEOP1C2De_JPZDhxbe2yix2yv58.jpg?width=320&amp;crop=smart&amp;auto=webp&amp;s=173b742c1b89cebb3197779960c01f56daeff6de\", \"width\": 320, \"height\": 212}, {\"url\": \"https://external-preview.redd.it/CQnYEvvzQY46WAysKEOP1C2De_JPZDhxbe2yix2yv58.jpg?width=640&amp;crop=smart&amp;auto=webp&amp;s=11cc41c53ce0f321d0b48e8c0cfe07d9f1f69542\", \"width\": 640, \"height\": 424}], \"variants\": {}, \"id\": \"OrraYvYElPeHLSh5rgrSe6z-QWZV9C1eVgHwK-_3n3o\"}], \"enabled\": false}, \"media_only\": false, \"link_flair_template_id\": \"dc868cc6-e558-11e6-892d-0ee5464b8f94\", \"can_gild\": false, \"spoiler\": false, \"locked\": false, \"author_flair_text\": \"MD-PhD-MBA\", \"visited\": false, \"num_reports\": null, \"distinguished\": null, \"subreddit_id\": \"t5_2t7no\", \"mod_reason_by\": null, \"removal_reason\": null, \"link_flair_background_color\": \"\", \"id\": \"agk949\", \"is_robot_indexable\": true, \"report_reasons\": null, \"author\": \"mvea\", \"num_crossposts\": 22, \"num_comments\": 4508, \"send_replies\": false, \"whitelist_status\": \"all_ads\", \"mod_reports\": [], \"author_patreon_flair\": false, \"author_flair_text_color\": \"dark\", \"permalink\": \"/r/Futurology/comments/agk949/a_future_with_elon_musks_neuralink_his_plan_for/\", \"parent_whitelist_status\": \"all_ads\", \"stickied\": false, \"url\": \"https://itmunch.com/future-elon-musks-neuralink/\", \"subreddit_subscribers\": 13593446, \"created_utc\": 1547638215.0, \"media\": null, \"is_video\": false}}, {\"kind\": \"t3\", \"data\": {\"approved_at_utc\": null, \"subreddit\": \"Futurology\", \"selftext\": \"\", \"author_fullname\": \"t2_7ccf\", \"saved\": false, \"mod_reason_title\": null, \"gilded\": 0, \"clicked\": false, \"title\": \"Clean Energy Investment Exceeded $300 Billion Once Again in 2018 | Solar commitments declined 24% in dollar terms even though there was record new photovoltaic capacity added, breaking 100GW barrier for the first time.\", \"link_flair_richtext\": [], \"subreddit_name_prefixed\": \"r/Futurology\", \"hidden\": false, \"pwls\": 6, \"link_flair_css_class\": \"energy\", \"downs\": 0, \"thumbnail_height\": 72, \"hide_score\": false, \"name\": \"t3_agy79w\", \"quarantine\": false, \"link_flair_text_color\": \"dark\", \"author_flair_background_color\": null, \"subreddit_type\": \"public\", \"ups\": 26, \"domain\": \"about.bnef.com\", \"media_embed\": {}, \"thumbnail_width\": 140, \"author_flair_template_id\": null, \"is_original_content\": false, \"user_reports\": [], \"secure_media\": null, \"is_reddit_media_domain\": false, \"is_meta\": false, \"category\": null, \"secure_media_embed\": {}, \"link_flair_text\": \"Energy\", \"can_mod_post\": false, \"score\": 26, \"approved_by\": null, \"thumbnail\": \"https://a.thumbs.redditmedia.com/j4ufq3TfIOAKcFo_N4fChQvHcowfxvStfqBrxkjsMd8.jpg\", \"edited\": false, \"author_flair_css_class\": null, \"author_flair_richtext\": [], \"gildings\": {\"gid_1\": 0, \"gid_2\": 0, \"gid_3\": 0}, \"post_hint\": \"link\", \"content_categories\": null, \"is_self\": false, \"mod_note\": null, \"created\": 1547763578.0, \"link_flair_type\": \"text\", \"wls\": 6, \"banned_by\": null, \"author_flair_type\": \"text\", \"contest_mode\": false, \"selftext_html\": null, \"likes\": null, \"suggested_sort\": null, \"banned_at_utc\": null, \"view_count\": null, \"archived\": false, \"no_follow\": false, \"is_crosspostable\": false, \"pinned\": false, \"over_18\": false, \"preview\": {\"images\": [{\"source\": {\"url\": \"https://external-preview.redd.it/KRqalllTGkEaIn0n0X21JWvupafN6ERNQZ1V0B5BMz8.jpg?auto=webp&amp;s=2ea1f3bd7ef16b3bcce0585f7dffdb8af46d0c94\", \"width\": 4000, \"height\": 2083}, \"resolutions\": [{\"url\": \"https://external-preview.redd.it/KRqalllTGkEaIn0n0X21JWvupafN6ERNQZ1V0B5BMz8.jpg?width=108&amp;crop=smart&amp;auto=webp&amp;s=839f73ab35940614beaa53796d607507b5f3d456\", \"width\": 108, \"height\": 56}, {\"url\": \"https://external-preview.redd.it/KRqalllTGkEaIn0n0X21JWvupafN6ERNQZ1V0B5BMz8.jpg?width=216&amp;crop=smart&amp;auto=webp&amp;s=c9ce3ccd428b816a3fd59daf5124a90f87b02bbd\", \"width\": 216, \"height\": 112}, {\"url\": \"https://external-preview.redd.it/KRqalllTGkEaIn0n0X21JWvupafN6ERNQZ1V0B5BMz8.jpg?width=320&amp;crop=smart&amp;auto=webp&amp;s=8bda11c4be363860e78d7eac16ec16641284d47f\", \"width\": 320, \"height\": 166}, {\"url\": \"https://external-preview.redd.it/KRqalllTGkEaIn0n0X21JWvupafN6ERNQZ1V0B5BMz8.jpg?width=640&amp;crop=smart&amp;auto=webp&amp;s=9e750b9d2a60ef78b3740333b3146196e99e97bf\", \"width\": 640, \"height\": 333}, {\"url\": \"https://external-preview.redd.it/KRqalllTGkEaIn0n0X21JWvupafN6ERNQZ1V0B5BMz8.jpg?width=960&amp;crop=smart&amp;auto=webp&amp;s=33c67c2e91a6d2dadfac0dbed17b94b5723788d3\", \"width\": 960, \"height\": 499}, {\"url\": \"https://external-preview.redd.it/KRqalllTGkEaIn0n0X21JWvupafN6ERNQZ1V0B5BMz8.jpg?width=1080&amp;crop=smart&amp;auto=webp&amp;s=04c97e6a328d5faa5daa96bc21fceb91bb744690\", \"width\": 1080, \"height\": 562}], \"variants\": {}, \"id\": \"QC82SsvHN4YmQdkqcQZ5f0MEkLR9tZ2NTW-5ywFxYK4\"}], \"enabled\": false}, \"media_only\": false, \"link_flair_template_id\": \"331ef532-e559-11e6-9a6d-0ee5464b8f94\", \"can_gild\": false, \"spoiler\": false, \"locked\": false, \"author_flair_text\": null, \"visited\": false, \"num_reports\": null, \"distinguished\": null, \"subreddit_id\": \"t5_2t7no\", \"mod_reason_by\": null, \"removal_reason\": null, \"link_flair_background_color\": \"\", \"id\": \"agy79w\", \"is_robot_indexable\": true, \"report_reasons\": null, \"author\": \"speckz\", \"num_crossposts\": 0, \"num_comments\": 0, \"send_replies\": true, \"whitelist_status\": \"all_ads\", \"mod_reports\": [], \"author_patreon_flair\": false, \"author_flair_text_color\": null, \"permalink\": \"/r/Futurology/comments/agy79w/clean_energy_investment_exceeded_300_billion_once/\", \"parent_whitelist_status\": \"all_ads\", \"stickied\": false, \"url\": \"https://about.bnef.com/blog/clean-energy-investment-exceeded-300-billion-2018/\", \"subreddit_subscribers\": 13593446, \"created_utc\": 1547734778.0, \"media\": null, \"is_video\": false}}, {\"kind\": \"t3\", \"data\": {\"approved_at_utc\": null, \"subreddit\": \"Futurology\", \"selftext\": \"\", \"author_fullname\": \"t2_6hji\", \"saved\": false, \"mod_reason_title\": null, \"gilded\": 0, \"clicked\": false, \"title\": \"Psychedelics and entactogens showed positive effects e.g. on well-being, prosocial behaviours, empathy, creativity, personality, values and mindfulness.\", \"link_flair_richtext\": [], \"subreddit_name_prefixed\": \"r/Futurology\", \"hidden\": false, \"pwls\": 6, \"link_flair_css_class\": \"biotech\", \"downs\": 0, \"thumbnail_height\": 70, \"hide_score\": false, \"name\": \"t3_agu6hs\", \"quarantine\": false, \"link_flair_text_color\": \"dark\", \"author_flair_background_color\": \"\", \"subreddit_type\": \"public\", \"ups\": 110, \"domain\": \"sciencedirect.com\", \"media_embed\": {}, \"thumbnail_width\": 70, \"author_flair_template_id\": null, \"is_original_content\": false, \"user_reports\": [], \"secure_media\": null, \"is_reddit_media_domain\": false, \"is_meta\": false, \"category\": null, \"secure_media_embed\": {}, \"link_flair_text\": \"Biotech\", \"can_mod_post\": false, \"score\": 110, \"approved_by\": null, \"thumbnail\": \"https://b.thumbs.redditmedia.com/MynhJ6dle7pVBN0wbaPJ7PmrSHYA4uVurd_NXsZ-m3U.jpg\", \"edited\": false, \"author_flair_css_class\": \"verified\", \"author_flair_richtext\": [], \"gildings\": {\"gid_1\": 0, \"gid_2\": 0, \"gid_3\": 0}, \"post_hint\": \"link\", \"content_categories\": null, \"is_self\": false, \"mod_note\": null, \"created\": 1547729013.0, \"link_flair_type\": \"text\", \"wls\": 6, \"banned_by\": null, \"author_flair_type\": \"text\", \"contest_mode\": false, \"selftext_html\": null, \"likes\": null, \"suggested_sort\": null, \"banned_at_utc\": null, \"view_count\": null, \"archived\": false, \"no_follow\": false, \"is_crosspostable\": false, \"pinned\": false, \"over_18\": false, \"preview\": {\"images\": [{\"source\": {\"url\": \"https://external-preview.redd.it/jRMcVHeDqavhLgME6HGfsTg_sm2ielfLbJ7iwFTGkV8.jpg?auto=webp&amp;s=d274e73525575f9a8969cd92222613f8f132e5a6\", \"width\": 113, \"height\": 150}, \"resolutions\": [{\"url\": \"https://external-preview.redd.it/jRMcVHeDqavhLgME6HGfsTg_sm2ielfLbJ7iwFTGkV8.jpg?width=108&amp;crop=smart&amp;auto=webp&amp;s=a613e30d367f7438691ee3073cb171dec40b13a5\", \"width\": 108, \"height\": 143}], \"variants\": {}, \"id\": \"mQ-vOKt2stUt-cKDBKMRpD7IppsHf50g4k0yxiBXpA4\"}], \"enabled\": false}, \"media_only\": false, \"link_flair_template_id\": \"dc868cc6-e558-11e6-892d-0ee5464b8f94\", \"can_gild\": false, \"spoiler\": false, \"locked\": false, \"author_flair_text\": \"MD-PhD-MBA\", \"visited\": false, \"num_reports\": null, \"distinguished\": null, \"subreddit_id\": \"t5_2t7no\", \"mod_reason_by\": null, \"removal_reason\": null, \"link_flair_background_color\": \"\", \"id\": \"agu6hs\", \"is_robot_indexable\": true, \"report_reasons\": null, \"author\": \"mvea\", \"num_crossposts\": 1, \"num_comments\": 32, \"send_replies\": true, \"whitelist_status\": \"all_ads\", \"mod_reports\": [], \"author_patreon_flair\": false, \"author_flair_text_color\": \"dark\", \"permalink\": \"/r/Futurology/comments/agu6hs/psychedelics_and_entactogens_showed_positive/\", \"parent_whitelist_status\": \"all_ads\", \"stickied\": false, \"url\": \"https://www.sciencedirect.com/science/article/pii/S0028390818303368\", \"subreddit_subscribers\": 13593446, \"created_utc\": 1547700213.0, \"media\": null, \"is_video\": false}}, {\"kind\": \"t3\", \"data\": {\"approved_at_utc\": null, \"subreddit\": \"Futurology\", \"selftext\": \"\", \"author_fullname\": \"t2_guf36\", \"saved\": false, \"mod_reason_title\": null, \"gilded\": 0, \"clicked\": false, \"title\": \"Thousands of Australian Animals Die in Unprecedented Heatwave. Freshwater fish suffer from low levels of oxygen in the country\\\\u2019s rivers, while bats are unable to survive the extreme air temperatures.\", \"link_flair_richtext\": [], \"subreddit_name_prefixed\": \"r/Futurology\", \"hidden\": false, \"pwls\": 6, \"link_flair_css_class\": \"environment\", \"downs\": 0, \"thumbnail_height\": 98, \"hide_score\": true, \"name\": \"t3_ah03za\", \"quarantine\": false, \"link_flair_text_color\": \"dark\", \"author_flair_background_color\": null, \"subreddit_type\": \"public\", \"ups\": 10, \"domain\": \"the-scientist.com\", \"media_embed\": {}, \"thumbnail_width\": 140, \"author_flair_template_id\": null, \"is_original_content\": false, \"user_reports\": [], \"secure_media\": null, \"is_reddit_media_domain\": false, \"is_meta\": false, \"category\": null, \"secure_media_embed\": {}, \"link_flair_text\": \"Environment\", \"can_mod_post\": false, \"score\": 10, \"approved_by\": null, \"thumbnail\": \"https://b.thumbs.redditmedia.com/qcsyeTlkDffeo8ljyoE_HGtP4lPCCWgqKkTp9fPCfaM.jpg\", \"edited\": false, \"author_flair_css_class\": null, \"author_flair_richtext\": [], \"gildings\": {\"gid_1\": 0, \"gid_2\": 0, \"gid_3\": 0}, \"post_hint\": \"link\", \"content_categories\": null, \"is_self\": false, \"mod_note\": null, \"created\": 1547774849.0, \"link_flair_type\": \"text\", \"wls\": 6, \"banned_by\": null, \"author_flair_type\": \"text\", \"contest_mode\": false, \"selftext_html\": null, \"likes\": null, \"suggested_sort\": null, \"banned_at_utc\": null, \"view_count\": null, \"archived\": false, \"no_follow\": false, \"is_crosspostable\": false, \"pinned\": false, \"over_18\": false, \"preview\": {\"images\": [{\"source\": {\"url\": \"https://external-preview.redd.it/6U9SX8m4-ckRwvvSM7Imr0uuvioSez7-SB9Y5gkX1Wk.jpg?auto=webp&amp;s=4bb8830a029d19e583078f05c41983b3b8cf6fec\", \"width\": 800, \"height\": 560}, \"resolutions\": [{\"url\": \"https://external-preview.redd.it/6U9SX8m4-ckRwvvSM7Imr0uuvioSez7-SB9Y5gkX1Wk.jpg?width=108&amp;crop=smart&amp;auto=webp&amp;s=30fbf1982914dff10039aada48ce98606295b324\", \"width\": 108, \"height\": 75}, {\"url\": \"https://external-preview.redd.it/6U9SX8m4-ckRwvvSM7Imr0uuvioSez7-SB9Y5gkX1Wk.jpg?width=216&amp;crop=smart&amp;auto=webp&amp;s=d9d8deea443ec51be5dd0fc45b5ba7b329f46245\", \"width\": 216, \"height\": 151}, {\"url\": \"https://external-preview.redd.it/6U9SX8m4-ckRwvvSM7Imr0uuvioSez7-SB9Y5gkX1Wk.jpg?width=320&amp;crop=smart&amp;auto=webp&amp;s=d13e4cfc875a7ebf320521ebe7f0541cef9768df\", \"width\": 320, \"height\": 224}, {\"url\": \"https://external-preview.redd.it/6U9SX8m4-ckRwvvSM7Imr0uuvioSez7-SB9Y5gkX1Wk.jpg?width=640&amp;crop=smart&amp;auto=webp&amp;s=e449dff17ef954d2aa1d3e6108b23cf4e37a19aa\", \"width\": 640, \"height\": 448}], \"variants\": {}, \"id\": \"D9a9Ottrd_SFsX-O75tdorNkVdm3dirQbqCZJZFRdBM\"}], \"enabled\": false}, \"media_only\": false, \"link_flair_template_id\": \"3f2be2b8-e559-11e6-a14f-0e651cc4a034\", \"can_gild\": false, \"spoiler\": false, \"locked\": false, \"author_flair_text\": null, \"visited\": false, \"num_reports\": null, \"distinguished\": null, \"subreddit_id\": \"t5_2t7no\", \"mod_reason_by\": null, \"removal_reason\": null, \"link_flair_background_color\": \"\", \"id\": \"ah03za\", \"is_robot_indexable\": true, \"report_reasons\": null, \"author\": \"Wagamaga\", \"num_crossposts\": 1, \"num_comments\": 2, \"send_replies\": true, \"whitelist_status\": \"all_ads\", \"mod_reports\": [], \"author_patreon_flair\": false, \"author_flair_text_color\": null, \"permalink\": \"/r/Futurology/comments/ah03za/thousands_of_australian_animals_die_in/\", \"parent_whitelist_status\": \"all_ads\", \"stickied\": false, \"url\": \"https://www.the-scientist.com/news-opinion/thousands-of-australian-animals-die-in-unprecedented-heatwave-65331\", \"subreddit_subscribers\": 13593446, \"created_utc\": 1547746049.0, \"media\": null, \"is_video\": false}}, {\"kind\": \"t3\", \"data\": {\"approved_at_utc\": null, \"subreddit\": \"Futurology\", \"selftext\": \"\", \"author_fullname\": \"t2_bwpxx\", \"saved\": false, \"mod_reason_title\": null, \"gilded\": 0, \"clicked\": false, \"title\": \"5 Discoveries That Made 2018 a Huge Year for Neuroscience\", \"link_flair_richtext\": [], \"subreddit_name_prefixed\": \"r/Futurology\", \"hidden\": false, \"pwls\": 6, \"link_flair_css_class\": null, \"downs\": 0, \"thumbnail_height\": 78, \"hide_score\": false, \"name\": \"t3_agyl77\", \"quarantine\": false, \"link_flair_text_color\": \"dark\", \"author_flair_background_color\": null, \"subreddit_type\": \"public\", \"ups\": 14, \"domain\": \"singularityhub.com\", \"media_embed\": {}, \"thumbnail_width\": 140, \"author_flair_template_id\": null, \"is_original_content\": false, \"user_reports\": [], \"secure_media\": null, \"is_reddit_media_domain\": false, \"is_meta\": false, \"category\": null, \"secure_media_embed\": {}, \"link_flair_text\": null, \"can_mod_post\": false, \"score\": 14, \"approved_by\": null, \"thumbnail\": \"https://b.thumbs.redditmedia.com/_Gl3Lm0gc4OVWpyUK3rA1xbrZ47A-GXdMdZuKS5Xnsw.jpg\", \"edited\": false, \"author_flair_css_class\": null, \"author_flair_richtext\": [], \"gildings\": {\"gid_1\": 0, \"gid_2\": 0, \"gid_3\": 0}, \"post_hint\": \"link\", \"content_categories\": null, \"is_self\": false, \"mod_note\": null, \"created\": 1547766104.0, \"link_flair_type\": \"text\", \"wls\": 6, \"banned_by\": null, \"author_flair_type\": \"text\", \"contest_mode\": false, \"selftext_html\": null, \"likes\": null, \"suggested_sort\": null, \"banned_at_utc\": null, \"view_count\": null, \"archived\": false, \"no_follow\": false, \"is_crosspostable\": false, \"pinned\": false, \"over_18\": false, \"preview\": {\"images\": [{\"source\": {\"url\": \"https://external-preview.redd.it/HpXvHBqNhPY_d1RwSp1QnIznkHv2lecODKCvXS2iz6M.jpg?auto=webp&amp;s=acccd562e44d41b5e98bfd82ab4b8983639554ef\", \"width\": 1068, \"height\": 601}, \"resolutions\": [{\"url\": \"https://external-preview.redd.it/HpXvHBqNhPY_d1RwSp1QnIznkHv2lecODKCvXS2iz6M.jpg?width=108&amp;crop=smart&amp;auto=webp&amp;s=b1649f40ab8a8bb3acbf4ba51ce7b7785fd9baaf\", \"width\": 108, \"height\": 60}, {\"url\": \"https://external-preview.redd.it/HpXvHBqNhPY_d1RwSp1QnIznkHv2lecODKCvXS2iz6M.jpg?width=216&amp;crop=smart&amp;auto=webp&amp;s=3df3ed16b769e02750045c69c5bed66889ee7fc5\", \"width\": 216, \"height\": 121}, {\"url\": \"https://external-preview.redd.it/HpXvHBqNhPY_d1RwSp1QnIznkHv2lecODKCvXS2iz6M.jpg?width=320&amp;crop=smart&amp;auto=webp&amp;s=04835cae0b6b40f07b058f0a0d7063437d985db8\", \"width\": 320, \"height\": 180}, {\"url\": \"https://external-preview.redd.it/HpXvHBqNhPY_d1RwSp1QnIznkHv2lecODKCvXS2iz6M.jpg?width=640&amp;crop=smart&amp;auto=webp&amp;s=3343326b525cf1f259a8f5a77465c14947f73bc8\", \"width\": 640, \"height\": 360}, {\"url\": \"https://external-preview.redd.it/HpXvHBqNhPY_d1RwSp1QnIznkHv2lecODKCvXS2iz6M.jpg?width=960&amp;crop=smart&amp;auto=webp&amp;s=8b1773326bf5e0e968445ea5e7b4e1f6fe772162\", \"width\": 960, \"height\": 540}], \"variants\": {}, \"id\": \"6i0iXq_JbHgzHD1FTgucTadnmbq6ri3XEkEvT_c-ojc\"}], \"enabled\": false}, \"media_only\": false, \"link_flair_template_id\": null, \"can_gild\": false, \"spoiler\": false, \"locked\": false, \"author_flair_text\": null, \"visited\": false, \"num_reports\": null, \"distinguished\": null, \"subreddit_id\": \"t5_2t7no\", \"mod_reason_by\": null, \"removal_reason\": null, \"link_flair_background_color\": \"\", \"id\": \"agyl77\", \"is_robot_indexable\": true, \"report_reasons\": null, \"author\": \"izumi3682\", \"num_crossposts\": 0, \"num_comments\": 0, \"send_replies\": true, \"whitelist_status\": \"all_ads\", \"mod_reports\": [], \"author_patreon_flair\": false, \"author_flair_text_color\": null, \"permalink\": \"/r/Futurology/comments/agyl77/5_discoveries_that_made_2018_a_huge_year_for/\", \"parent_whitelist_status\": \"all_ads\", \"stickied\": false, \"url\": \"https://singularityhub.com/2019/01/17/5-discoveries-that-made-2018-a-huge-year-for-neuroscience/#sm.00001r2qw8yppmdmzrc73me0zar09\", \"subreddit_subscribers\": 13593446, \"created_utc\": 1547737304.0, \"media\": null, \"is_video\": false}}, {\"kind\": \"t3\", \"data\": {\"approved_at_utc\": null, \"subreddit\": \"Futurology\", \"selftext\": \"\", \"author_fullname\": \"t2_z3t9v\", \"saved\": false, \"mod_reason_title\": null, \"gilded\": 0, \"clicked\": false, \"title\": \"China is poised to overtake the United States as the world\\'s top economy as early as next year. By 2020, a majority of the world population will be classified as middle class. Asia will lead the increase in middle-class populations even as middle classes stagnate in the West.\", \"link_flair_richtext\": [], \"subreddit_name_prefixed\": \"r/Futurology\", \"hidden\": false, \"pwls\": 6, \"link_flair_css_class\": \"economics\", \"downs\": 0, \"thumbnail_height\": 70, \"hide_score\": false, \"name\": \"t3_aguu8s\", \"quarantine\": false, \"link_flair_text_color\": \"dark\", \"author_flair_background_color\": null, \"subreddit_type\": \"public\", \"ups\": 68, \"domain\": \"bigthink.com\", \"media_embed\": {}, \"thumbnail_width\": 140, \"author_flair_template_id\": null, \"is_original_content\": false, \"user_reports\": [], \"secure_media\": null, \"is_reddit_media_domain\": false, \"is_meta\": false, \"category\": null, \"secure_media_embed\": {}, \"link_flair_text\": \"Economics\", \"can_mod_post\": false, \"score\": 68, \"approved_by\": null, \"thumbnail\": \"https://b.thumbs.redditmedia.com/jDlYtxhlXuLb2SWgOxvOMadRidZcHxnzN0ewxZw1sMI.jpg\", \"edited\": false, \"author_flair_css_class\": null, \"author_flair_richtext\": [], \"gildings\": {\"gid_1\": 0, \"gid_2\": 0, \"gid_3\": 0}, \"post_hint\": \"link\", \"content_categories\": null, \"is_self\": false, \"mod_note\": null, \"created\": 1547734362.0, \"link_flair_type\": \"text\", \"wls\": 6, \"banned_by\": null, \"author_flair_type\": \"text\", \"contest_mode\": false, \"selftext_html\": null, \"likes\": null, \"suggested_sort\": null, \"banned_at_utc\": null, \"view_count\": null, \"archived\": false, \"no_follow\": false, \"is_crosspostable\": false, \"pinned\": false, \"over_18\": false, \"preview\": {\"images\": [{\"source\": {\"url\": \"https://external-preview.redd.it/FRni75o5hTbWyuTSB4PSOTMsM3vtnMVYbDcE5KXvDTM.jpg?auto=webp&amp;s=ed3122533db0061bf34c398c2206d8a2daec967d\", \"width\": 2000, \"height\": 1000}, \"resolutions\": [{\"url\": \"https://external-preview.redd.it/FRni75o5hTbWyuTSB4PSOTMsM3vtnMVYbDcE5KXvDTM.jpg?width=108&amp;crop=smart&amp;auto=webp&amp;s=4038ab919ef918975c68bfcfd10186f419ddb469\", \"width\": 108, \"height\": 54}, {\"url\": \"https://external-preview.redd.it/FRni75o5hTbWyuTSB4PSOTMsM3vtnMVYbDcE5KXvDTM.jpg?width=216&amp;crop=smart&amp;auto=webp&amp;s=bd48216e24e5f784564510550bab62582b599797\", \"width\": 216, \"height\": 108}, {\"url\": \"https://external-preview.redd.it/FRni75o5hTbWyuTSB4PSOTMsM3vtnMVYbDcE5KXvDTM.jpg?width=320&amp;crop=smart&amp;auto=webp&amp;s=62e3270a07cfd83c633fb49c351b33976906ef22\", \"width\": 320, \"height\": 160}, {\"url\": \"https://external-preview.redd.it/FRni75o5hTbWyuTSB4PSOTMsM3vtnMVYbDcE5KXvDTM.jpg?width=640&amp;crop=smart&amp;auto=webp&amp;s=d9e8c9ed733577dd72434bba395b6084a1b4dee6\", \"width\": 640, \"height\": 320}, {\"url\": \"https://external-preview.redd.it/FRni75o5hTbWyuTSB4PSOTMsM3vtnMVYbDcE5KXvDTM.jpg?width=960&amp;crop=smart&amp;auto=webp&amp;s=fe7926863a910fdd4fcd5e624b3630fb23766c03\", \"width\": 960, \"height\": 480}, {\"url\": \"https://external-preview.redd.it/FRni75o5hTbWyuTSB4PSOTMsM3vtnMVYbDcE5KXvDTM.jpg?width=1080&amp;crop=smart&amp;auto=webp&amp;s=e8d977162faa69f03948979f41ca130243336031\", \"width\": 1080, \"height\": 540}], \"variants\": {}, \"id\": \"L07-MmwJhRSqJ6VyW7HLQGm3AM6-pUTBEnr_84xSJTo\"}], \"enabled\": false}, \"media_only\": false, \"link_flair_template_id\": \"2a44fad8-e559-11e6-a42d-0e23c4f80b72\", \"can_gild\": false, \"spoiler\": false, \"locked\": false, \"author_flair_text\": null, \"visited\": false, \"num_reports\": null, \"distinguished\": null, \"subreddit_id\": \"t5_2t7no\", \"mod_reason_by\": null, \"removal_reason\": null, \"link_flair_background_color\": \"\", \"id\": \"aguu8s\", \"is_robot_indexable\": true, \"report_reasons\": null, \"author\": \"Crs2Per\", \"num_crossposts\": 1, \"num_comments\": 17, \"send_replies\": true, \"whitelist_status\": \"all_ads\", \"mod_reports\": [], \"author_patreon_flair\": false, \"author_flair_text_color\": null, \"permalink\": \"/r/Futurology/comments/aguu8s/china_is_poised_to_overtake_the_united_states_as/\", \"parent_whitelist_status\": \"all_ads\", \"stickied\": false, \"url\": \"https://bigthink.com/politics-current-affairs/china-worlds-biggest-economy-2020\", \"subreddit_subscribers\": 13593446, \"created_utc\": 1547705562.0, \"media\": null, \"is_video\": false}}, {\"kind\": \"t3\", \"data\": {\"approved_at_utc\": null, \"subreddit\": \"Futurology\", \"selftext\": \"\", \"author_fullname\": \"t2_i6tl3ju\", \"saved\": false, \"mod_reason_title\": null, \"gilded\": 0, \"clicked\": false, \"title\": \"Scientists grow perfect human blood vessels in a petri dish: Breakthrough technology advances research of vascular diseases like diabetes\", \"link_flair_richtext\": [], \"subreddit_name_prefixed\": \"r/Futurology\", \"hidden\": false, \"pwls\": 6, \"link_flair_css_class\": \"biotech\", \"downs\": 0, \"thumbnail_height\": null, \"hide_score\": false, \"name\": \"t3_agyig7\", \"quarantine\": false, \"link_flair_text_color\": \"dark\", \"author_flair_background_color\": null, \"subreddit_type\": \"public\", \"ups\": 14, \"domain\": \"sciencedaily.com\", \"media_embed\": {}, \"thumbnail_width\": null, \"author_flair_template_id\": null, \"is_original_content\": false, \"user_reports\": [], \"secure_media\": null, \"is_reddit_media_domain\": false, \"is_meta\": false, \"category\": null, \"secure_media_embed\": {}, \"link_flair_text\": \"Biotech\", \"can_mod_post\": false, \"score\": 14, \"approved_by\": null, \"thumbnail\": \"default\", \"edited\": false, \"author_flair_css_class\": null, \"author_flair_richtext\": [], \"gildings\": {\"gid_1\": 0, \"gid_2\": 0, \"gid_3\": 0}, \"content_categories\": null, \"is_self\": false, \"mod_note\": null, \"created\": 1547765633.0, \"link_flair_type\": \"text\", \"wls\": 6, \"banned_by\": null, \"author_flair_type\": \"text\", \"contest_mode\": false, \"selftext_html\": null, \"likes\": null, \"suggested_sort\": null, \"banned_at_utc\": null, \"view_count\": null, \"archived\": false, \"no_follow\": false, \"is_crosspostable\": false, \"pinned\": false, \"over_18\": false, \"media_only\": false, \"link_flair_template_id\": null, \"can_gild\": false, \"spoiler\": false, \"locked\": false, \"author_flair_text\": null, \"visited\": false, \"num_reports\": null, \"distinguished\": null, \"subreddit_id\": \"t5_2t7no\", \"mod_reason_by\": null, \"removal_reason\": null, \"link_flair_background_color\": \"\", \"id\": \"agyig7\", \"is_robot_indexable\": true, \"report_reasons\": null, \"author\": \"gone_his_own_way\", \"num_crossposts\": 0, \"num_comments\": 0, \"send_replies\": false, \"whitelist_status\": \"all_ads\", \"mod_reports\": [], \"author_patreon_flair\": false, \"author_flair_text_color\": null, \"permalink\": \"/r/Futurology/comments/agyig7/scientists_grow_perfect_human_blood_vessels_in_a/\", \"parent_whitelist_status\": \"all_ads\", \"stickied\": false, \"url\": \"https://www.sciencedaily.com/releases/2019/01/190116130820.htm\", \"subreddit_subscribers\": 13593446, \"created_utc\": 1547736833.0, \"media\": null, \"is_video\": false}}, {\"kind\": \"t3\", \"data\": {\"approved_at_utc\": null, \"subreddit\": \"Futurology\", \"selftext\": \"\", \"author_fullname\": \"t2_guf36\", \"saved\": false, \"mod_reason_title\": null, \"gilded\": 0, \"clicked\": false, \"title\": \"Hundreds more species under threat of extinction than previously thought. Around 600 animal species may be inaccurately classified as non-threatened under current measurements, according to a new study.\", \"link_flair_richtext\": [], \"subreddit_name_prefixed\": \"r/Futurology\", \"hidden\": false, \"pwls\": 6, \"link_flair_css_class\": \"environment\", \"downs\": 0, \"thumbnail_height\": 93, \"hide_score\": false, \"name\": \"t3_agwmkk\", \"quarantine\": false, \"link_flair_text_color\": \"dark\", \"author_flair_background_color\": null, \"subreddit_type\": \"public\", \"ups\": 20, \"domain\": \"independent.co.uk\", \"media_embed\": {}, \"thumbnail_width\": 140, \"author_flair_template_id\": null, \"is_original_content\": false, \"user_reports\": [], \"secure_media\": null, \"is_reddit_media_domain\": false, \"is_meta\": false, \"category\": null, \"secure_media_embed\": {}, \"link_flair_text\": \"Environment\", \"can_mod_post\": false, \"score\": 20, \"approved_by\": null, \"thumbnail\": \"https://b.thumbs.redditmedia.com/f5JqoBISVw2wNYDGmXMfTwpkUrUYlxfZbQEsDn_VRuU.jpg\", \"edited\": false, \"author_flair_css_class\": null, \"author_flair_richtext\": [], \"gildings\": {\"gid_1\": 0, \"gid_2\": 0, \"gid_3\": 0}, \"content_categories\": null, \"is_self\": false, \"mod_note\": null, \"crosspost_parent_list\": [{\"approved_at_utc\": null, \"subreddit\": \"science\", \"selftext\": \"[deleted]\", \"user_reports\": [], \"saved\": false, \"mod_reason_title\": null, \"gilded\": 0, \"clicked\": false, \"title\": \"Hundreds more species under threat of extinction than previously thought. Around 600 animal species may be inaccurately classified as non-threatened under current measurements, according to a new study.\", \"link_flair_richtext\": [{\"e\": \"text\", \"t\": \"Animal Science\"}], \"subreddit_name_prefixed\": \"r/science\", \"hidden\": false, \"pwls\": 6, \"link_flair_css_class\": \"animalsci\", \"downs\": 0, \"thumbnail_height\": 93, \"parent_whitelist_status\": \"all_ads\", \"hide_score\": false, \"name\": \"t3_agwmfx\", \"quarantine\": false, \"link_flair_text_color\": \"light\", \"author_flair_background_color\": \"\", \"subreddit_type\": \"public\", \"ups\": 0, \"domain\": \"independent.co.uk\", \"media_embed\": {}, \"thumbnail_width\": 140, \"author_flair_template_id\": null, \"is_original_content\": false, \"secure_media\": null, \"is_reddit_media_domain\": false, \"is_meta\": false, \"category\": null, \"secure_media_embed\": {}, \"link_flair_text\": \"Animal Science\", \"can_mod_post\": false, \"score\": 0, \"approved_by\": null, \"thumbnail\": \"default\", \"edited\": false, \"author_flair_css_class\": null, \"gildings\": {\"gid_1\": 0, \"gid_2\": 0, \"gid_3\": 0}, \"content_categories\": null, \"is_self\": false, \"mod_note\": null, \"created\": 1547751370.0, \"link_flair_type\": \"richtext\", \"wls\": 6, \"banned_by\": null, \"contest_mode\": false, \"selftext_html\": \"&lt;!-- SC_OFF --&gt;&lt;div class=\\\\\"md\\\\\"&gt;&lt;p&gt;[deleted]&lt;/p&gt;\\\\n&lt;/div&gt;&lt;!-- SC_ON --&gt;\", \"likes\": null, \"suggested_sort\": \"confidence\", \"banned_at_utc\": null, \"view_count\": null, \"archived\": false, \"no_follow\": true, \"is_crosspostable\": false, \"pinned\": false, \"over_18\": false, \"media_only\": false, \"link_flair_template_id\": \"109e172c-4638-11e3-abe9-12313b04ceaf\", \"can_gild\": false, \"spoiler\": false, \"locked\": false, \"author_flair_text\": null, \"visited\": false, \"num_reports\": null, \"distinguished\": null, \"subreddit_id\": \"t5_mouw\", \"mod_reason_by\": null, \"removal_reason\": null, \"link_flair_background_color\": \"#7ac877\", \"id\": \"agwmfx\", \"is_robot_indexable\": false, \"report_reasons\": null, \"author\": \"[deleted]\", \"num_crossposts\": 1, \"num_comments\": 0, \"send_replies\": true, \"mod_reports\": [], \"author_flair_text_color\": \"dark\", \"permalink\": \"/r/science/comments/agwmfx/hundreds_more_species_under_threat_of_extinction/\", \"whitelist_status\": \"all_ads\", \"stickied\": false, \"url\": \"https://www.independent.co.uk/environment/endangered-species-extinction-mammals-conservation-iucn-red-list-science-a8732001.html\", \"subreddit_subscribers\": 20328552, \"created_utc\": 1547722570.0, \"media\": null, \"is_video\": false}], \"created\": 1547751405.0, \"link_flair_type\": \"text\", \"wls\": 6, \"banned_by\": null, \"author_flair_type\": \"text\", \"contest_mode\": false, \"selftext_html\": null, \"likes\": null, \"suggested_sort\": null, \"banned_at_utc\": null, \"view_count\": null, \"archived\": false, \"no_follow\": false, \"is_crosspostable\": false, \"pinned\": false, \"over_18\": false, \"media_only\": false, \"link_flair_template_id\": \"3f2be2b8-e559-11e6-a14f-0e651cc4a034\", \"can_gild\": false, \"spoiler\": false, \"locked\": false, \"author_flair_text\": null, \"visited\": false, \"num_reports\": null, \"distinguished\": null, \"subreddit_id\": \"t5_2t7no\", \"mod_reason_by\": null, \"removal_reason\": null, \"link_flair_background_color\": \"\", \"id\": \"agwmkk\", \"is_robot_indexable\": true, \"report_reasons\": null, \"author\": \"Wagamaga\", \"num_crossposts\": 0, \"num_comments\": 1, \"send_replies\": true, \"whitelist_status\": \"all_ads\", \"mod_reports\": [], \"author_patreon_flair\": false, \"crosspost_parent\": \"t3_agwmfx\", \"author_flair_text_color\": null, \"permalink\": \"/r/Futurology/comments/agwmkk/hundreds_more_species_under_threat_of_extinction/\", \"parent_whitelist_status\": \"all_ads\", \"stickied\": false, \"url\": \"https://www.independent.co.uk/environment/endangered-species-extinction-mammals-conservation-iucn-red-list-science-a8732001.html\", \"subreddit_subscribers\": 13593446, \"created_utc\": 1547722605.0, \"media\": null, \"is_video\": false}}, {\"kind\": \"t3\", \"data\": {\"approved_at_utc\": null, \"subreddit\": \"Futurology\", \"selftext\": \"*\\\\\"Re-cycling the radiation around us to power sticker-size sensors can enable new ways for consumers to interact with products that were previously not feasible. Products can share when they are picked up, their temperature, or when they need to be replenished. Without batteries or other high-cost components, tags have unlimited power and lifespan, so can be embedded inside of products that were previously unconnected to the Internet of Things.\\\\\"* \\\\\\\\- Tal Tamir, Wiliot CEO and co-founder\", \"author_fullname\": \"t2_1zotmrj2\", \"saved\": false, \"mod_reason_title\": null, \"gilded\": 0, \"clicked\": false, \"title\": \"First Battery-Free Bluetooth\\\\u00ae Sticker Sensor Tag Demonstrated at NRF\", \"link_flair_richtext\": [], \"subreddit_name_prefixed\": \"r/Futurology\", \"hidden\": false, \"pwls\": 6, \"link_flair_css_class\": \"discussion\", \"downs\": 0, \"thumbnail_height\": null, \"hide_score\": false, \"name\": \"t3_agycwk\", \"quarantine\": false, \"link_flair_text_color\": \"dark\", \"author_flair_background_color\": null, \"subreddit_type\": \"public\", \"ups\": 11, \"domain\": \"self.Futurology\", \"media_embed\": {}, \"thumbnail_width\": null, \"author_flair_template_id\": null, \"is_original_content\": false, \"user_reports\": [], \"secure_media\": null, \"is_reddit_media_domain\": false, \"is_meta\": false, \"category\": null, \"secure_media_embed\": {}, \"link_flair_text\": \"Discussion\", \"can_mod_post\": false, \"score\": 11, \"approved_by\": null, \"thumbnail\": \"self\", \"edited\": false, \"author_flair_css_class\": null, \"author_flair_richtext\": [], \"gildings\": {\"gid_1\": 0, \"gid_2\": 0, \"gid_3\": 0}, \"content_categories\": null, \"is_self\": true, \"mod_note\": null, \"created\": 1547764625.0, \"link_flair_type\": \"text\", \"wls\": 6, \"banned_by\": null, \"author_flair_type\": \"text\", \"contest_mode\": false, \"selftext_html\": \"&lt;!-- SC_OFF --&gt;&lt;div class=\\\\\"md\\\\\"&gt;&lt;p&gt;&lt;em&gt;&amp;quot;Re-cycling the radiation around us to power sticker-size sensors can enable new ways for consumers to interact with products that were previously not feasible. Products can share when they are picked up, their temperature, or when they need to be replenished. Without batteries or other high-cost components, tags have unlimited power and lifespan, so can be embedded inside of products that were previously unconnected to the Internet of Things.&amp;quot;&lt;/em&gt; - Tal Tamir, Wiliot CEO and co-founder&lt;/p&gt;\\\\n&lt;/div&gt;&lt;!-- SC_ON --&gt;\", \"likes\": null, \"suggested_sort\": null, \"banned_at_utc\": null, \"view_count\": null, \"archived\": false, \"no_follow\": false, \"is_crosspostable\": false, \"pinned\": false, \"over_18\": false, \"media_only\": false, \"link_flair_template_id\": null, \"can_gild\": false, \"spoiler\": false, \"locked\": false, \"author_flair_text\": null, \"visited\": false, \"num_reports\": null, \"distinguished\": null, \"subreddit_id\": \"t5_2t7no\", \"mod_reason_by\": null, \"removal_reason\": null, \"link_flair_background_color\": \"\", \"id\": \"agycwk\", \"is_robot_indexable\": true, \"report_reasons\": null, \"author\": \"Superbeta01\", \"num_crossposts\": 0, \"num_comments\": 1, \"send_replies\": true, \"whitelist_status\": \"all_ads\", \"mod_reports\": [], \"author_patreon_flair\": false, \"author_flair_text_color\": null, \"permalink\": \"/r/Futurology/comments/agycwk/first_batteryfree_bluetooth_sticker_sensor_tag/\", \"parent_whitelist_status\": \"all_ads\", \"stickied\": false, \"url\": \"https://www.reddit.com/r/Futurology/comments/agycwk/first_batteryfree_bluetooth_sticker_sensor_tag/\", \"subreddit_subscribers\": 13593446, \"created_utc\": 1547735825.0, \"media\": null, \"is_video\": false}}, {\"kind\": \"t3\", \"data\": {\"approved_at_utc\": null, \"subreddit\": \"Futurology\", \"selftext\": \"\", \"author_fullname\": \"t2_5737j\", \"saved\": false, \"mod_reason_title\": null, \"gilded\": 0, \"clicked\": false, \"title\": \"Feather-inspired technology brings materials together better than Velcro\", \"link_flair_richtext\": [], \"subreddit_name_prefixed\": \"r/Futurology\", \"hidden\": false, \"pwls\": 6, \"link_flair_css_class\": null, \"downs\": 0, \"thumbnail_height\": 78, \"hide_score\": false, \"name\": \"t3_agyapz\", \"quarantine\": false, \"link_flair_text_color\": \"dark\", \"author_flair_background_color\": \"\", \"subreddit_type\": \"public\", \"ups\": 10, \"domain\": \"newatlas.com\", \"media_embed\": {}, \"thumbnail_width\": 140, \"author_flair_template_id\": null, \"is_original_content\": false, \"user_reports\": [], \"secure_media\": null, \"is_reddit_media_domain\": false, \"is_meta\": false, \"category\": null, \"secure_media_embed\": {}, \"link_flair_text\": null, \"can_mod_post\": false, \"score\": 10, \"approved_by\": null, \"thumbnail\": \"https://b.thumbs.redditmedia.com/G7je-2AJi8EGWDhm5Mpu6XtNSYAnqojTgM_2c52hdvM.jpg\", \"edited\": false, \"author_flair_css_class\": \"blue\", \"author_flair_richtext\": [], \"gildings\": {\"gid_1\": 0, \"gid_2\": 0, \"gid_3\": 0}, \"post_hint\": \"link\", \"content_categories\": null, \"is_self\": false, \"mod_note\": null, \"created\": 1547764228.0, \"link_flair_type\": \"text\", \"wls\": 6, \"banned_by\": null, \"author_flair_type\": \"text\", \"contest_mode\": false, \"selftext_html\": null, \"likes\": null, \"suggested_sort\": null, \"banned_at_utc\": null, \"view_count\": null, \"archived\": false, \"no_follow\": false, \"is_crosspostable\": false, \"pinned\": false, \"over_18\": false, \"preview\": {\"images\": [{\"source\": {\"url\": \"https://external-preview.redd.it/YurusC7fAp062k7X1xiIvx_k8G_1jxWxvXgh7eHrdIE.jpg?auto=webp&amp;s=76544829e5434e83a440eafc3ce787953c583bf0\", \"width\": 616, \"height\": 347}, \"resolutions\": [{\"url\": \"https://external-preview.redd.it/YurusC7fAp062k7X1xiIvx_k8G_1jxWxvXgh7eHrdIE.jpg?width=108&amp;crop=smart&amp;auto=webp&amp;s=84e21fc5afe45cd8e1257826291024b39210857a\", \"width\": 108, \"height\": 60}, {\"url\": \"https://external-preview.redd.it/YurusC7fAp062k7X1xiIvx_k8G_1jxWxvXgh7eHrdIE.jpg?width=216&amp;crop=smart&amp;auto=webp&amp;s=bb0734f1514a1a9bcfa72aa13fdc86bb013b5047\", \"width\": 216, \"height\": 121}, {\"url\": \"https://external-preview.redd.it/YurusC7fAp062k7X1xiIvx_k8G_1jxWxvXgh7eHrdIE.jpg?width=320&amp;crop=smart&amp;auto=webp&amp;s=39a2cde2f6ac9bd7b6baefc64ae29473e9da60d0\", \"width\": 320, \"height\": 180}], \"variants\": {}, \"id\": \"YXxYG0S-IDtjmIfLuUjNLCA0XJQ4v2DocG0bWR4kNto\"}], \"enabled\": false}, \"media_only\": false, \"link_flair_template_id\": null, \"can_gild\": false, \"spoiler\": false, \"locked\": false, \"author_flair_text\": \"Infographic Guy\", \"visited\": false, \"num_reports\": null, \"distinguished\": null, \"subreddit_id\": \"t5_2t7no\", \"mod_reason_by\": null, \"removal_reason\": null, \"link_flair_background_color\": \"\", \"id\": \"agyapz\", \"is_robot_indexable\": true, \"report_reasons\": null, \"author\": \"Portis403\", \"num_crossposts\": 0, \"num_comments\": 1, \"send_replies\": true, \"whitelist_status\": \"all_ads\", \"mod_reports\": [], \"author_patreon_flair\": false, \"author_flair_text_color\": \"dark\", \"permalink\": \"/r/Futurology/comments/agyapz/featherinspired_technology_brings_materials/\", \"parent_whitelist_status\": \"all_ads\", \"stickied\": false, \"url\": \"https://newatlas.com/feather-inspired-materials/58077/\", \"subreddit_subscribers\": 13593446, \"created_utc\": 1547735428.0, \"media\": null, \"is_video\": false}}, {\"kind\": \"t3\", \"data\": {\"approved_at_utc\": null, \"subreddit\": \"Futurology\", \"selftext\": \"\", \"author_fullname\": \"t2_6hji\", \"saved\": false, \"mod_reason_title\": null, \"gilded\": 0, \"clicked\": false, \"title\": \"Scientists have managed to grow perfect human blood vessels as organoids in a petri dish for the first time, outlined in a new study published in Nature, which advances research of vascular diseases like diabetes, identifying a key pathway to potentially prevent changes to blood vessels.\", \"link_flair_richtext\": [], \"subreddit_name_prefixed\": \"r/Futurology\", \"hidden\": false, \"pwls\": 6, \"link_flair_css_class\": \"biotech\", \"downs\": 0, \"thumbnail_height\": 104, \"hide_score\": false, \"name\": \"t3_agqeee\", \"quarantine\": false, \"link_flair_text_color\": \"dark\", \"author_flair_background_color\": \"\", \"subreddit_type\": \"public\", \"ups\": 209, \"domain\": \"news.ubc.ca\", \"media_embed\": {}, \"thumbnail_width\": 140, \"author_flair_template_id\": null, \"is_original_content\": false, \"user_reports\": [], \"secure_media\": null, \"is_reddit_media_domain\": false, \"is_meta\": false, \"category\": null, \"secure_media_embed\": {}, \"link_flair_text\": \"Biotech\", \"can_mod_post\": false, \"score\": 209, \"approved_by\": null, \"thumbnail\": \"https://b.thumbs.redditmedia.com/NfZDi-AG4nuroYvC7Q_QVN8BTxvMQ81Bp5D0Wy4ntww.jpg\", \"edited\": false, \"author_flair_css_class\": \"verified\", \"author_flair_richtext\": [], \"gildings\": {\"gid_1\": 0, \"gid_2\": 0, \"gid_3\": 0}, \"post_hint\": \"link\", \"content_categories\": null, \"is_self\": false, \"mod_note\": null, \"created\": 1547704818.0, \"link_flair_type\": \"text\", \"wls\": 6, \"banned_by\": null, \"author_flair_type\": \"text\", \"contest_mode\": false, \"selftext_html\": null, \"likes\": null, \"suggested_sort\": null, \"banned_at_utc\": null, \"view_count\": null, \"archived\": false, \"no_follow\": false, \"is_crosspostable\": false, \"pinned\": false, \"over_18\": false, \"preview\": {\"images\": [{\"source\": {\"url\": \"https://external-preview.redd.it/OJcS_wlKRKssGD9-UKLare13t2w3nIrvOqYfF5IzvvA.jpg?auto=webp&amp;s=e8471a3496306f5df4bd703360126cdf5ff61b16\", \"width\": 1445, \"height\": 1081}, \"resolutions\": [{\"url\": \"https://external-preview.redd.it/OJcS_wlKRKssGD9-UKLare13t2w3nIrvOqYfF5IzvvA.jpg?width=108&amp;crop=smart&amp;auto=webp&amp;s=8357b323b7b847a65f5e36a51c9e6e6760958712\", \"width\": 108, \"height\": 80}, {\"url\": \"https://external-preview.redd.it/OJcS_wlKRKssGD9-UKLare13t2w3nIrvOqYfF5IzvvA.jpg?width=216&amp;crop=smart&amp;auto=webp&amp;s=b962f3c8b0b7b7d00877ee1578d6667c34cd36fc\", \"width\": 216, \"height\": 161}, {\"url\": \"https://external-preview.redd.it/OJcS_wlKRKssGD9-UKLare13t2w3nIrvOqYfF5IzvvA.jpg?width=320&amp;crop=smart&amp;auto=webp&amp;s=b9a234251e97a4c83abd7e51af40496bc6424366\", \"width\": 320, \"height\": 239}, {\"url\": \"https://external-preview.redd.it/OJcS_wlKRKssGD9-UKLare13t2w3nIrvOqYfF5IzvvA.jpg?width=640&amp;crop=smart&amp;auto=webp&amp;s=c84281ece1d377fa797744560336c8a4ff648a4b\", \"width\": 640, \"height\": 478}, {\"url\": \"https://external-preview.redd.it/OJcS_wlKRKssGD9-UKLare13t2w3nIrvOqYfF5IzvvA.jpg?width=960&amp;crop=smart&amp;auto=webp&amp;s=c2b60adfe17f6edaebc4ee52eef08a97f5ca5a2c\", \"width\": 960, \"height\": 718}, {\"url\": \"https://external-preview.redd.it/OJcS_wlKRKssGD9-UKLare13t2w3nIrvOqYfF5IzvvA.jpg?width=1080&amp;crop=smart&amp;auto=webp&amp;s=ee8ba9ddf2605869eecf68b0d7a10b6862f302dd\", \"width\": 1080, \"height\": 807}], \"variants\": {}, \"id\": \"fClV9Tw7FCbf02VriMOHCg_v17ynSTtXrytyz6fmDnw\"}], \"enabled\": false}, \"media_only\": false, \"link_flair_template_id\": \"dc868cc6-e558-11e6-892d-0ee5464b8f94\", \"can_gild\": false, \"spoiler\": false, \"locked\": false, \"author_flair_text\": \"MD-PhD-MBA\", \"visited\": false, \"num_reports\": null, \"distinguished\": null, \"subreddit_id\": \"t5_2t7no\", \"mod_reason_by\": null, \"removal_reason\": null, \"link_flair_background_color\": \"\", \"id\": \"agqeee\", \"is_robot_indexable\": true, \"report_reasons\": null, \"author\": \"mvea\", \"num_crossposts\": 0, \"num_comments\": 4, \"send_replies\": false, \"whitelist_status\": \"all_ads\", \"mod_reports\": [], \"author_patreon_flair\": false, \"author_flair_text_color\": \"dark\", \"permalink\": \"/r/Futurology/comments/agqeee/scientists_have_managed_to_grow_perfect_human/\", \"parent_whitelist_status\": \"all_ads\", \"stickied\": false, \"url\": \"https://news.ubc.ca/2019/01/16/scientists-grow-perfect-human-blood-vessels-in-a-petri-dish/\", \"subreddit_subscribers\": 13593446, \"created_utc\": 1547676018.0, \"media\": null, \"is_video\": false}}, {\"kind\": \"t3\", \"data\": {\"approved_at_utc\": null, \"subreddit\": \"Futurology\", \"selftext\": \"\", \"author_fullname\": \"t2_6hji\", \"saved\": false, \"mod_reason_title\": null, \"gilded\": 0, \"clicked\": false, \"title\": \"Feeding a growing population of 10 billion people by 2050 with a healthy and sustainable diet will be impossible without transforming eating habits, improving food production, and reducing food waste.\", \"link_flair_richtext\": [], \"subreddit_name_prefixed\": \"r/Futurology\", \"hidden\": false, \"pwls\": 6, \"link_flair_css_class\": \"society\", \"downs\": 0, \"thumbnail_height\": 140, \"hide_score\": false, \"name\": \"t3_agu4a6\", \"quarantine\": false, \"link_flair_text_color\": \"dark\", \"author_flair_background_color\": \"\", \"subreddit_type\": \"public\", \"ups\": 59, \"domain\": \"eurekalert.org\", \"media_embed\": {}, \"thumbnail_width\": 140, \"author_flair_template_id\": null, \"is_original_content\": false, \"user_reports\": [], \"secure_media\": null, \"is_reddit_media_domain\": false, \"is_meta\": false, \"category\": null, \"secure_media_embed\": {}, \"link_flair_text\": \"Society\", \"can_mod_post\": false, \"score\": 59, \"approved_by\": null, \"thumbnail\": \"https://a.thumbs.redditmedia.com/LXTjufL09L45sGTmvktbr0_ZhAP9R7wd8nGJieN4X24.jpg\", \"edited\": false, \"author_flair_css_class\": \"verified\", \"author_flair_richtext\": [], \"gildings\": {\"gid_1\": 0, \"gid_2\": 0, \"gid_3\": 0}, \"post_hint\": \"link\", \"content_categories\": null, \"is_self\": false, \"mod_note\": null, \"created\": 1547728513.0, \"link_flair_type\": \"text\", \"wls\": 6, \"banned_by\": null, \"author_flair_type\": \"text\", \"contest_mode\": false, \"selftext_html\": null, \"likes\": null, \"suggested_sort\": null, \"banned_at_utc\": null, \"view_count\": null, \"archived\": false, \"no_follow\": false, \"is_crosspostable\": false, \"pinned\": false, \"over_18\": false, \"preview\": {\"images\": [{\"source\": {\"url\": \"https://external-preview.redd.it/RbdBFD9OO3t3l-R5zeeMhcQunOzkimQ0DoJ6rgcaPg4.jpg?auto=webp&amp;s=95a6245ddc0a0794d8b02c07146f257e5f21b4cc\", \"width\": 400, \"height\": 446}, \"resolutions\": [{\"url\": \"https://external-preview.redd.it/RbdBFD9OO3t3l-R5zeeMhcQunOzkimQ0DoJ6rgcaPg4.jpg?width=108&amp;crop=smart&amp;auto=webp&amp;s=38aec091cf870d6138966e85b182e1fee24728c9\", \"width\": 108, \"height\": 120}, {\"url\": \"https://external-preview.redd.it/RbdBFD9OO3t3l-R5zeeMhcQunOzkimQ0DoJ6rgcaPg4.jpg?width=216&amp;crop=smart&amp;auto=webp&amp;s=d43f9462ff570ca796e90f36edab85c4a99f65f6\", \"width\": 216, \"height\": 240}, {\"url\": \"https://external-preview.redd.it/RbdBFD9OO3t3l-R5zeeMhcQunOzkimQ0DoJ6rgcaPg4.jpg?width=320&amp;crop=smart&amp;auto=webp&amp;s=c8fcbfb186b9f196b03b08ef6ecdb50c23eda0bf\", \"width\": 320, \"height\": 356}], \"variants\": {}, \"id\": \"PEw2a1ohnBMAX8QKO5j80WEUJp8Ru5GlVsz36blco_Y\"}], \"enabled\": false}, \"media_only\": false, \"link_flair_template_id\": \"550de52c-e559-11e6-bef7-0eee6de7faf4\", \"can_gild\": false, \"spoiler\": false, \"locked\": false, \"author_flair_text\": \"MD-PhD-MBA\", \"visited\": false, \"num_reports\": null, \"distinguished\": null, \"subreddit_id\": \"t5_2t7no\", \"mod_reason_by\": null, \"removal_reason\": null, \"link_flair_background_color\": \"\", \"id\": \"agu4a6\", \"is_robot_indexable\": true, \"report_reasons\": null, \"author\": \"mvea\", \"num_crossposts\": 0, \"num_comments\": 14, \"send_replies\": true, \"whitelist_status\": \"all_ads\", \"mod_reports\": [], \"author_patreon_flair\": false, \"author_flair_text_color\": \"dark\", \"permalink\": \"/r/Futurology/comments/agu4a6/feeding_a_growing_population_of_10_billion_people/\", \"parent_whitelist_status\": \"all_ads\", \"stickied\": false, \"url\": \"https://www.eurekalert.org/pub_releases/2019-01/tl-pss011419.php\", \"subreddit_subscribers\": 13593446, \"created_utc\": 1547699713.0, \"media\": null, \"is_video\": false}}, {\"kind\": \"t3\", \"data\": {\"approved_at_utc\": null, \"subreddit\": \"Futurology\", \"selftext\": \"\", \"author_fullname\": \"t2_i6tl3ju\", \"saved\": false, \"mod_reason_title\": null, \"gilded\": 0, \"clicked\": false, \"title\": \"Amazon is launching a new conference dedicated to AI and robots - The event is an extension of Amazon\\\\u2019s semi-secret MARS conference, but will include plenty of self-promotion\", \"link_flair_richtext\": [], \"subreddit_name_prefixed\": \"r/Futurology\", \"hidden\": false, \"pwls\": 6, \"link_flair_css_class\": \"ai\", \"downs\": 0, \"thumbnail_height\": 73, \"hide_score\": false, \"name\": \"t3_agye4l\", \"quarantine\": false, \"link_flair_text_color\": \"dark\", \"author_flair_background_color\": null, \"subreddit_type\": \"public\", \"ups\": 9, \"domain\": \"theverge.com\", \"media_embed\": {}, \"thumbnail_width\": 140, \"author_flair_template_id\": null, \"is_original_content\": false, \"user_reports\": [], \"secure_media\": null, \"is_reddit_media_domain\": false, \"is_meta\": false, \"category\": null, \"secure_media_embed\": {}, \"link_flair_text\": \"AI\", \"can_mod_post\": false, \"score\": 9, \"approved_by\": null, \"thumbnail\": \"https://b.thumbs.redditmedia.com/FqqHK-kahNaauoBuoglvswu1lci9s4v78mvj6_r4M_w.jpg\", \"edited\": false, \"author_flair_css_class\": null, \"author_flair_richtext\": [], \"gildings\": {\"gid_1\": 0, \"gid_2\": 0, \"gid_3\": 0}, \"post_hint\": \"link\", \"content_categories\": null, \"is_self\": false, \"mod_note\": null, \"created\": 1547764850.0, \"link_flair_type\": \"text\", \"wls\": 6, \"banned_by\": null, \"author_flair_type\": \"text\", \"contest_mode\": false, \"selftext_html\": null, \"likes\": null, \"suggested_sort\": null, \"banned_at_utc\": null, \"view_count\": null, \"archived\": false, \"no_follow\": false, \"is_crosspostable\": false, \"pinned\": false, \"over_18\": false, \"preview\": {\"images\": [{\"source\": {\"url\": \"https://external-preview.redd.it/sd99_iTZBnveVdlXe0L29o8CAeRBEcEZfTlnpz_UNus.jpg?auto=webp&amp;s=05c0a94159e7b120643b1c52dbad11a9cefe2c87\", \"width\": 1200, \"height\": 629}, \"resolutions\": [{\"url\": \"https://external-preview.redd.it/sd99_iTZBnveVdlXe0L29o8CAeRBEcEZfTlnpz_UNus.jpg?width=108&amp;crop=smart&amp;auto=webp&amp;s=c059fa1ea34828d85c293f2fcfc3734daf41aec8\", \"width\": 108, \"height\": 56}, {\"url\": \"https://external-preview.redd.it/sd99_iTZBnveVdlXe0L29o8CAeRBEcEZfTlnpz_UNus.jpg?width=216&amp;crop=smart&amp;auto=webp&amp;s=f2b134864ae65f9e0315500ff7bdb306ca6c91ab\", \"width\": 216, \"height\": 113}, {\"url\": \"https://external-preview.redd.it/sd99_iTZBnveVdlXe0L29o8CAeRBEcEZfTlnpz_UNus.jpg?width=320&amp;crop=smart&amp;auto=webp&amp;s=0173ad2ba8bd183731fb1cb9711238e487fb0c89\", \"width\": 320, \"height\": 167}, {\"url\": \"https://external-preview.redd.it/sd99_iTZBnveVdlXe0L29o8CAeRBEcEZfTlnpz_UNus.jpg?width=640&amp;crop=smart&amp;auto=webp&amp;s=de34d96778f1d8bcfe9fe77b4b1ced8e46343574\", \"width\": 640, \"height\": 335}, {\"url\": \"https://external-preview.redd.it/sd99_iTZBnveVdlXe0L29o8CAeRBEcEZfTlnpz_UNus.jpg?width=960&amp;crop=smart&amp;auto=webp&amp;s=7e18a731e1c795d8d4efab537145838cd75d5684\", \"width\": 960, \"height\": 503}, {\"url\": \"https://external-preview.redd.it/sd99_iTZBnveVdlXe0L29o8CAeRBEcEZfTlnpz_UNus.jpg?width=1080&amp;crop=smart&amp;auto=webp&amp;s=e3f3e0187507ab42248a5f6fab243a89e98f0270\", \"width\": 1080, \"height\": 566}], \"variants\": {}, \"id\": \"7FACSbjOl6yoh7rk8HU0B1F-DIOqb0Mms404h-k4zlQ\"}], \"enabled\": false}, \"media_only\": false, \"link_flair_template_id\": null, \"can_gild\": false, \"spoiler\": false, \"locked\": false, \"author_flair_text\": null, \"visited\": false, \"num_reports\": null, \"distinguished\": null, \"subreddit_id\": \"t5_2t7no\", \"mod_reason_by\": null, \"removal_reason\": null, \"link_flair_background_color\": \"\", \"id\": \"agye4l\", \"is_robot_indexable\": true, \"report_reasons\": null, \"author\": \"gone_his_own_way\", \"num_crossposts\": 0, \"num_comments\": 0, \"send_replies\": false, \"whitelist_status\": \"all_ads\", \"mod_reports\": [], \"author_patreon_flair\": false, \"author_flair_text_color\": null, \"permalink\": \"/r/Futurology/comments/agye4l/amazon_is_launching_a_new_conference_dedicated_to/\", \"parent_whitelist_status\": \"all_ads\", \"stickied\": false, \"url\": \"https://www.theverge.com/2019/1/17/18186481/amazon-remars-jeff-bezos-conference-ai-machine-learning-robotics-space\", \"subreddit_subscribers\": 13593446, \"created_utc\": 1547736050.0, \"media\": null, \"is_video\": false}}, {\"kind\": \"t3\", \"data\": {\"approved_at_utc\": null, \"subreddit\": \"Futurology\", \"selftext\": \"Not sure if it\\'s the right subreddit (for here feom google) but here goes. One question I\\'ve been pondering about. There\\'s always the bit about copying your entire brain into a computer and destroying your brain in the process, creating a perfect artificial duplicate of your brain. The new version of you isn\\'t really \\\\\"you\\\\\", you died when your brain was destroyed, what remains is a perfect duplicate with your same memories and personality, but you are really dead (kind of like the whole bit of whether teleportation is really the same person, or whether it\\'s killing that person and creating a duplicate on the other end).\\\\n\\\\n&amp;#x200B;\\\\n\\\\nNow let\\'s say that the same process was done but slowly over time, let\\'s say that a computer system is installed in your brain that can take over the function of a single neuron or a small group one at a time. Let\\'s assume that the system works good, and all limitations (physical, biological and so on) are solved, the system is set so that the computer analyzes a neuron or small group of neurons at a time, isolate them and instantly take over their functions perfectly and then destroys them, maybe leaves a little time for the rest of the brain to adapt, then continues on to the next group. As there are only small groups of neurons destroyed at a time and their functions replaced perfectly you don\\'t even notice anything, and it\\'s set so that once it starts, your entire brain will be taken over by the computer (and destroyed) in a long time (let\\'s say 5 years or so).\\\\n\\\\n&amp;#x200B;\\\\n\\\\nThe end result is exactly the same, your brain was destroyed and is now replaced by a computer that\\'s a perfect duplicate in all senses (memories, personality, everything), the only difference would be that one was done instantly while the other was done over a long period of time. Are you still dead? If you are, at which point you stop being you?... at 10% of your brain replaced?... 50%... 100%?. Would you even notice anything?\", \"author_fullname\": \"t2_48qkw\", \"saved\": false, \"mod_reason_title\": null, \"gilded\": 0, \"clicked\": false, \"title\": \"If your brain is replaced by a perfect computer duplicate but a little bit at a time over a long time, would it still be you?\", \"link_flair_richtext\": [], \"subreddit_name_prefixed\": \"r/Futurology\", \"hidden\": false, \"pwls\": 6, \"link_flair_css_class\": \"discussion\", \"downs\": 0, \"thumbnail_height\": null, \"hide_score\": false, \"name\": \"t3_agz3cx\", \"quarantine\": false, \"link_flair_text_color\": \"dark\", \"author_flair_background_color\": null, \"subreddit_type\": \"public\", \"ups\": 9, \"domain\": \"self.Futurology\", \"media_embed\": {}, \"thumbnail_width\": null, \"author_flair_template_id\": null, \"is_original_content\": false, \"user_reports\": [], \"secure_media\": null, \"is_reddit_media_domain\": false, \"is_meta\": false, \"category\": null, \"secure_media_embed\": {}, \"link_flair_text\": \"Discussion\", \"can_mod_post\": false, \"score\": 9, \"approved_by\": null, \"thumbnail\": \"self\", \"edited\": false, \"author_flair_css_class\": null, \"author_flair_richtext\": [], \"gildings\": {\"gid_1\": 0, \"gid_2\": 0, \"gid_3\": 0}, \"content_categories\": null, \"is_self\": true, \"mod_note\": null, \"created\": 1547769091.0, \"link_flair_type\": \"text\", \"wls\": 6, \"banned_by\": null, \"author_flair_type\": \"text\", \"contest_mode\": false, \"selftext_html\": \"&lt;!-- SC_OFF --&gt;&lt;div class=\\\\\"md\\\\\"&gt;&lt;p&gt;Not sure if it&amp;#39;s the right subreddit (for here feom google) but here goes. One question I&amp;#39;ve been pondering about. There&amp;#39;s always the bit about copying your entire brain into a computer and destroying your brain in the process, creating a perfect artificial duplicate of your brain. The new version of you isn&amp;#39;t really &amp;quot;you&amp;quot;, you died when your brain was destroyed, what remains is a perfect duplicate with your same memories and personality, but you are really dead (kind of like the whole bit of whether teleportation is really the same person, or whether it&amp;#39;s killing that person and creating a duplicate on the other end).&lt;/p&gt;\\\\n\\\\n&lt;p&gt;&amp;#x200B;&lt;/p&gt;\\\\n\\\\n&lt;p&gt;Now let&amp;#39;s say that the same process was done but slowly over time, let&amp;#39;s say that a computer system is installed in your brain that can take over the function of a single neuron or a small group one at a time. Let&amp;#39;s assume that the system works good, and all limitations (physical, biological and so on) are solved, the system is set so that the computer analyzes a neuron or small group of neurons at a time, isolate them and instantly take over their functions perfectly and then destroys them, maybe leaves a little time for the rest of the brain to adapt, then continues on to the next group. As there are only small groups of neurons destroyed at a time and their functions replaced perfectly you don&amp;#39;t even notice anything, and it&amp;#39;s set so that once it starts, your entire brain will be taken over by the computer (and destroyed) in a long time (let&amp;#39;s say 5 years or so).&lt;/p&gt;\\\\n\\\\n&lt;p&gt;&amp;#x200B;&lt;/p&gt;\\\\n\\\\n&lt;p&gt;The end result is exactly the same, your brain was destroyed and is now replaced by a computer that&amp;#39;s a perfect duplicate in all senses (memories, personality, everything), the only difference would be that one was done instantly while the other was done over a long period of time. Are you still dead? If you are, at which point you stop being you?... at 10% of your brain replaced?... 50%... 100%?. Would you even notice anything?&lt;/p&gt;\\\\n&lt;/div&gt;&lt;!-- SC_ON --&gt;\", \"likes\": null, \"suggested_sort\": null, \"banned_at_utc\": null, \"view_count\": null, \"archived\": false, \"no_follow\": true, \"is_crosspostable\": false, \"pinned\": false, \"over_18\": false, \"media_only\": false, \"link_flair_template_id\": null, \"can_gild\": false, \"spoiler\": false, \"locked\": false, \"author_flair_text\": null, \"visited\": false, \"num_reports\": null, \"distinguished\": null, \"subreddit_id\": \"t5_2t7no\", \"mod_reason_by\": null, \"removal_reason\": null, \"link_flair_background_color\": \"\", \"id\": \"agz3cx\", \"is_robot_indexable\": true, \"report_reasons\": null, \"author\": \"Namocol\", \"num_crossposts\": 0, \"num_comments\": 10, \"send_replies\": true, \"whitelist_status\": \"all_ads\", \"mod_reports\": [], \"author_patreon_flair\": false, \"author_flair_text_color\": null, \"permalink\": \"/r/Futurology/comments/agz3cx/if_your_brain_is_replaced_by_a_perfect_computer/\", \"parent_whitelist_status\": \"all_ads\", \"stickied\": false, \"url\": \"https://www.reddit.com/r/Futurology/comments/agz3cx/if_your_brain_is_replaced_by_a_perfect_computer/\", \"subreddit_subscribers\": 13593446, \"created_utc\": 1547740291.0, \"media\": null, \"is_video\": false}}, {\"kind\": \"t3\", \"data\": {\"approved_at_utc\": null, \"subreddit\": \"Futurology\", \"selftext\": \"\", \"author_fullname\": \"t2_bwpxx\", \"saved\": false, \"mod_reason_title\": null, \"gilded\": 0, \"clicked\": false, \"title\": \"Artificial intelligence applied to the genome identifies an unknown human ancestor\", \"link_flair_richtext\": [], \"subreddit_name_prefixed\": \"r/Futurology\", \"hidden\": false, \"pwls\": 6, \"link_flair_css_class\": \"ai\", \"downs\": 0, \"thumbnail_height\": null, \"hide_score\": false, \"name\": \"t3_agy0dr\", \"quarantine\": false, \"link_flair_text_color\": \"dark\", \"author_flair_background_color\": null, \"subreddit_type\": \"public\", \"ups\": 9, \"domain\": \"sciencedaily.com\", \"media_embed\": {}, \"thumbnail_width\": null, \"author_flair_template_id\": null, \"is_original_content\": false, \"user_reports\": [], \"secure_media\": null, \"is_reddit_media_domain\": false, \"is_meta\": false, \"category\": null, \"secure_media_embed\": {}, \"link_flair_text\": \"AI\", \"can_mod_post\": false, \"score\": 9, \"approved_by\": null, \"thumbnail\": \"default\", \"edited\": false, \"author_flair_css_class\": null, \"author_flair_richtext\": [], \"gildings\": {\"gid_1\": 0, \"gid_2\": 0, \"gid_3\": 0}, \"content_categories\": null, \"is_self\": false, \"mod_note\": null, \"created\": 1547762344.0, \"link_flair_type\": \"text\", \"wls\": 6, \"banned_by\": null, \"author_flair_type\": \"text\", \"contest_mode\": false, \"selftext_html\": null, \"likes\": null, \"suggested_sort\": null, \"banned_at_utc\": null, \"view_count\": null, \"archived\": false, \"no_follow\": false, \"is_crosspostable\": false, \"pinned\": false, \"over_18\": false, \"media_only\": false, \"link_flair_template_id\": null, \"can_gild\": false, \"spoiler\": false, \"locked\": false, \"author_flair_text\": null, \"visited\": false, \"num_reports\": null, \"distinguished\": null, \"subreddit_id\": \"t5_2t7no\", \"mod_reason_by\": null, \"removal_reason\": null, \"link_flair_background_color\": \"\", \"id\": \"agy0dr\", \"is_robot_indexable\": true, \"report_reasons\": null, \"author\": \"izumi3682\", \"num_crossposts\": 0, \"num_comments\": 3, \"send_replies\": true, \"whitelist_status\": \"all_ads\", \"mod_reports\": [], \"author_patreon_flair\": false, \"author_flair_text_color\": null, \"permalink\": \"/r/Futurology/comments/agy0dr/artificial_intelligence_applied_to_the_genome/\", \"parent_whitelist_status\": \"all_ads\", \"stickied\": false, \"url\": \"https://www.sciencedaily.com/releases/2019/01/190116122650.htm\", \"subreddit_subscribers\": 13593446, \"created_utc\": 1547733544.0, \"media\": null, \"is_video\": false}}, {\"kind\": \"t3\", \"data\": {\"approved_at_utc\": null, \"subreddit\": \"Futurology\", \"selftext\": \"\", \"author_fullname\": \"t2_guf36\", \"saved\": false, \"mod_reason_title\": null, \"gilded\": 0, \"clicked\": false, \"title\": \"Nearly half (48.6 percent) of U.S. CFOs believe that the US will be in recession by the end of 2019, and 82 percent believe that a recession will have begun by the end of 2020.\", \"link_flair_richtext\": [], \"subreddit_name_prefixed\": \"r/Futurology\", \"hidden\": false, \"pwls\": 6, \"link_flair_css_class\": \"economics\", \"downs\": 0, \"thumbnail_height\": 68, \"hide_score\": false, \"name\": \"t3_agw3ov\", \"quarantine\": false, \"link_flair_text_color\": \"dark\", \"author_flair_background_color\": null, \"subreddit_type\": \"public\", \"ups\": 19, \"domain\": \"theconversation.com\", \"media_embed\": {}, \"thumbnail_width\": 140, \"author_flair_template_id\": null, \"is_original_content\": false, \"user_reports\": [], \"secure_media\": null, \"is_reddit_media_domain\": false, \"is_meta\": false, \"category\": null, \"secure_media_embed\": {}, \"link_flair_text\": \"Economics\", \"can_mod_post\": false, \"score\": 19, \"approved_by\": null, \"thumbnail\": \"https://b.thumbs.redditmedia.com/bhw4sfNNYCjfnznZMD5Kwd-r0b-byxZgWK7RlWFVk6k.jpg\", \"edited\": false, \"author_flair_css_class\": null, \"author_flair_richtext\": [], \"gildings\": {\"gid_1\": 0, \"gid_2\": 0, \"gid_3\": 0}, \"post_hint\": \"link\", \"content_categories\": null, \"is_self\": false, \"mod_note\": null, \"created\": 1547746424.0, \"link_flair_type\": \"text\", \"wls\": 6, \"banned_by\": null, \"author_flair_type\": \"text\", \"contest_mode\": false, \"selftext_html\": null, \"likes\": null, \"suggested_sort\": null, \"banned_at_utc\": null, \"view_count\": null, \"archived\": false, \"no_follow\": false, \"is_crosspostable\": false, \"pinned\": false, \"over_18\": false, \"preview\": {\"images\": [{\"source\": {\"url\": \"https://external-preview.redd.it/E0lljx_QDmjViyGW5G3fFRkSypxIign2A2Oq2rCiBp8.jpg?auto=webp&amp;s=e080611a06e57ab5fdd44e2a54ee77aece6e6b2a\", \"width\": 1356, \"height\": 668}, \"resolutions\": [{\"url\": \"https://external-preview.redd.it/E0lljx_QDmjViyGW5G3fFRkSypxIign2A2Oq2rCiBp8.jpg?width=108&amp;crop=smart&amp;auto=webp&amp;s=c4b7be8d0198a80bef881068775355a83b656d81\", \"width\": 108, \"height\": 53}, {\"url\": \"https://external-preview.redd.it/E0lljx_QDmjViyGW5G3fFRkSypxIign2A2Oq2rCiBp8.jpg?width=216&amp;crop=smart&amp;auto=webp&amp;s=db9169e0e6d67fcfed96b6b968b745b2899683b2\", \"width\": 216, \"height\": 106}, {\"url\": \"https://external-preview.redd.it/E0lljx_QDmjViyGW5G3fFRkSypxIign2A2Oq2rCiBp8.jpg?width=320&amp;crop=smart&amp;auto=webp&amp;s=41c2a725260633af588559d85db6f5494340f131\", \"width\": 320, \"height\": 157}, {\"url\": \"https://external-preview.redd.it/E0lljx_QDmjViyGW5G3fFRkSypxIign2A2Oq2rCiBp8.jpg?width=640&amp;crop=smart&amp;auto=webp&amp;s=369ae0a4d57c142acf4a98262bdd750c144a0e02\", \"width\": 640, \"height\": 315}, {\"url\": \"https://external-preview.redd.it/E0lljx_QDmjViyGW5G3fFRkSypxIign2A2Oq2rCiBp8.jpg?width=960&amp;crop=smart&amp;auto=webp&amp;s=f134f4cc18dc1dedfde8dc3218e49af5980d3ac6\", \"width\": 960, \"height\": 472}, {\"url\": \"https://external-preview.redd.it/E0lljx_QDmjViyGW5G3fFRkSypxIign2A2Oq2rCiBp8.jpg?width=1080&amp;crop=smart&amp;auto=webp&amp;s=320cf6d4923a0c79e9a4939f462366baa2bf147a\", \"width\": 1080, \"height\": 532}], \"variants\": {}, \"id\": \"I0Ts1d_eA0ZirIuYBA9_9l0HCcVAT2yXQp8R0ZGttU4\"}], \"enabled\": false}, \"media_only\": false, \"link_flair_template_id\": \"2a44fad8-e559-11e6-a42d-0e23c4f80b72\", \"can_gild\": false, \"spoiler\": false, \"locked\": false, \"author_flair_text\": null, \"visited\": false, \"num_reports\": null, \"distinguished\": null, \"subreddit_id\": \"t5_2t7no\", \"mod_reason_by\": null, \"removal_reason\": null, \"link_flair_background_color\": \"\", \"id\": \"agw3ov\", \"is_robot_indexable\": true, \"report_reasons\": null, \"author\": \"Wagamaga\", \"num_crossposts\": 0, \"num_comments\": 7, \"send_replies\": true, \"whitelist_status\": \"all_ads\", \"mod_reports\": [], \"author_patreon_flair\": false, \"author_flair_text_color\": null, \"permalink\": \"/r/Futurology/comments/agw3ov/nearly_half_486_percent_of_us_cfos_believe_that/\", \"parent_whitelist_status\": \"all_ads\", \"stickied\": false, \"url\": \"https://theconversation.com/cfo-survey-us-likely-to-enter-a-recession-by-the-end-of-2019-109979\", \"subreddit_subscribers\": 13593446, \"created_utc\": 1547717624.0, \"media\": null, \"is_video\": false}}, {\"kind\": \"t3\", \"data\": {\"approved_at_utc\": null, \"subreddit\": \"Futurology\", \"selftext\": \"\", \"author_fullname\": \"t2_6dn2d\", \"saved\": false, \"mod_reason_title\": null, \"gilded\": 0, \"clicked\": false, \"title\": \"Ford planning a battery-electric F-150\", \"link_flair_richtext\": [], \"subreddit_name_prefixed\": \"r/Futurology\", \"hidden\": false, \"pwls\": 6, \"link_flair_css_class\": \"transport\", \"downs\": 0, \"thumbnail_height\": 79, \"hide_score\": false, \"name\": \"t3_agzdaa\", \"quarantine\": false, \"link_flair_text_color\": \"dark\", \"author_flair_background_color\": null, \"subreddit_type\": \"public\", \"ups\": 5, \"domain\": \"detroitnews.com\", \"media_embed\": {}, \"thumbnail_width\": 140, \"author_flair_template_id\": null, \"is_original_content\": false, \"user_reports\": [], \"secure_media\": null, \"is_reddit_media_domain\": false, \"is_meta\": false, \"category\": null, \"secure_media_embed\": {}, \"link_flair_text\": \"Transport\", \"can_mod_post\": false, \"score\": 5, \"approved_by\": null, \"thumbnail\": \"https://b.thumbs.redditmedia.com/1SRkzaXzJ_lHBPDfrGnoQEg5Uj8VbYEdItubIzZ2Eyc.jpg\", \"edited\": false, \"author_flair_css_class\": null, \"author_flair_richtext\": [], \"gildings\": {\"gid_1\": 0, \"gid_2\": 0, \"gid_3\": 0}, \"post_hint\": \"link\", \"content_categories\": null, \"is_self\": false, \"mod_note\": null, \"created\": 1547770664.0, \"link_flair_type\": \"text\", \"wls\": 6, \"banned_by\": null, \"author_flair_type\": \"text\", \"contest_mode\": false, \"selftext_html\": null, \"likes\": null, \"suggested_sort\": null, \"banned_at_utc\": null, \"view_count\": null, \"archived\": false, \"no_follow\": false, \"is_crosspostable\": false, \"pinned\": false, \"over_18\": false, \"preview\": {\"images\": [{\"source\": {\"url\": \"https://external-preview.redd.it/8RtD28u28xmPkRWSXOpaditituLSC99QyFvEYsm3ajA.jpg?auto=webp&amp;s=10fa49ff3f0fffdbe1b60bfd09d507360dd33fcd\", \"width\": 2972, \"height\": 1680}, \"resolutions\": [{\"url\": \"https://external-preview.redd.it/8RtD28u28xmPkRWSXOpaditituLSC99QyFvEYsm3ajA.jpg?width=108&amp;crop=smart&amp;auto=webp&amp;s=2283e0a8ab0673a9b466d18ae27d77dc74ca7e96\", \"width\": 108, \"height\": 61}, {\"url\": \"https://external-preview.redd.it/8RtD28u28xmPkRWSXOpaditituLSC99QyFvEYsm3ajA.jpg?width=216&amp;crop=smart&amp;auto=webp&amp;s=cdee2538bcbd42064ab8af473df040f7cd874322\", \"width\": 216, \"height\": 122}, {\"url\": \"https://external-preview.redd.it/8RtD28u28xmPkRWSXOpaditituLSC99QyFvEYsm3ajA.jpg?width=320&amp;crop=smart&amp;auto=webp&amp;s=fa6c104917d73b46e1fe3458b752f8239cea038c\", \"width\": 320, \"height\": 180}, {\"url\": \"https://external-preview.redd.it/8RtD28u28xmPkRWSXOpaditituLSC99QyFvEYsm3ajA.jpg?width=640&amp;crop=smart&amp;auto=webp&amp;s=fe1ce000837a0cadc25de8df592b8e107c2b6dae\", \"width\": 640, \"height\": 361}, {\"url\": \"https://external-preview.redd.it/8RtD28u28xmPkRWSXOpaditituLSC99QyFvEYsm3ajA.jpg?width=960&amp;crop=smart&amp;auto=webp&amp;s=02f79f3aa928a2af51f9f089516557004047234a\", \"width\": 960, \"height\": 542}, {\"url\": \"https://external-preview.redd.it/8RtD28u28xmPkRWSXOpaditituLSC99QyFvEYsm3ajA.jpg?width=1080&amp;crop=smart&amp;auto=webp&amp;s=d8a6da2a5ec693d4e749c64b3c02565de0c529ea\", \"width\": 1080, \"height\": 610}], \"variants\": {}, \"id\": \"M3p3Oqd45C9fbfobKkefZbPo5aeHZnAKr_bjOPJxruc\"}], \"enabled\": false}, \"media_only\": false, \"link_flair_template_id\": \"97aad31e-e567-11e6-8774-0ed84c9b14d0\", \"can_gild\": false, \"spoiler\": false, \"locked\": false, \"author_flair_text\": null, \"visited\": false, \"num_reports\": null, \"distinguished\": null, \"subreddit_id\": \"t5_2t7no\", \"mod_reason_by\": null, \"removal_reason\": null, \"link_flair_background_color\": \"\", \"id\": \"agzdaa\", \"is_robot_indexable\": true, \"report_reasons\": null, \"author\": \"trevize1138\", \"num_crossposts\": 0, \"num_comments\": 6, \"send_replies\": true, \"whitelist_status\": \"all_ads\", \"mod_reports\": [], \"author_patreon_flair\": false, \"author_flair_text_color\": null, \"permalink\": \"/r/Futurology/comments/agzdaa/ford_planning_a_batteryelectric_f150/\", \"parent_whitelist_status\": \"all_ads\", \"stickied\": false, \"url\": \"https://www.detroitnews.com/story/business/autos/ford/2019/01/16/ford-planning-battery-electric-f-150-pickup/2597647002/\", \"subreddit_subscribers\": 13593446, \"created_utc\": 1547741864.0, \"media\": null, \"is_video\": false}}, {\"kind\": \"t3\", \"data\": {\"approved_at_utc\": null, \"subreddit\": \"Futurology\", \"selftext\": \"\", \"author_fullname\": \"t2_guf36\", \"saved\": false, \"mod_reason_title\": null, \"gilded\": 0, \"clicked\": false, \"title\": \"8 percent of Americans recently changed their minds on climate. \\\\u201cAll kinds of people are changing their minds\\\\u201d and accepting the science, regardless of age, education level, or political affiliation\\\\\"\", \"link_flair_richtext\": [], \"subreddit_name_prefixed\": \"r/Futurology\", \"hidden\": false, \"pwls\": 6, \"link_flair_css_class\": \"environment\", \"downs\": 0, \"thumbnail_height\": 78, \"hide_score\": false, \"name\": \"t3_agkiz9\", \"quarantine\": false, \"link_flair_text_color\": \"dark\", \"author_flair_background_color\": null, \"subreddit_type\": \"public\", \"ups\": 859, \"domain\": \"grist.org\", \"media_embed\": {}, \"thumbnail_width\": 140, \"author_flair_template_id\": null, \"is_original_content\": false, \"user_reports\": [], \"secure_media\": null, \"is_reddit_media_domain\": false, \"is_meta\": false, \"category\": null, \"secure_media_embed\": {}, \"link_flair_text\": \"Environment\", \"can_mod_post\": false, \"score\": 859, \"approved_by\": null, \"thumbnail\": \"https://b.thumbs.redditmedia.com/1D4hJ80S3tI4dQd_zYu0AjPWPqfyMw4-goXMJ07kmuk.jpg\", \"edited\": false, \"author_flair_css_class\": null, \"author_flair_richtext\": [], \"gildings\": {\"gid_1\": 0, \"gid_2\": 0, \"gid_3\": 0}, \"post_hint\": \"link\", \"content_categories\": null, \"is_self\": false, \"mod_note\": null, \"created\": 1547669421.0, \"link_flair_type\": \"text\", \"wls\": 6, \"banned_by\": null, \"author_flair_type\": \"text\", \"contest_mode\": false, \"selftext_html\": null, \"likes\": null, \"suggested_sort\": null, \"banned_at_utc\": null, \"view_count\": null, \"archived\": false, \"no_follow\": false, \"is_crosspostable\": false, \"pinned\": false, \"over_18\": false, \"preview\": {\"images\": [{\"source\": {\"url\": \"https://external-preview.redd.it/jq_4nueMyHx9ZfKdwLsShxRpldNRyRsrorJQfxSbD74.jpg?auto=webp&amp;s=fbc1c91adf52512d0b2e127d22105b08263f20cc\", \"width\": 1200, \"height\": 675}, \"resolutions\": [{\"url\": \"https://external-preview.redd.it/jq_4nueMyHx9ZfKdwLsShxRpldNRyRsrorJQfxSbD74.jpg?width=108&amp;crop=smart&amp;auto=webp&amp;s=ade8f55899813b711b4e5800e3e3d29f6ef2ad4f\", \"width\": 108, \"height\": 60}, {\"url\": \"https://external-preview.redd.it/jq_4nueMyHx9ZfKdwLsShxRpldNRyRsrorJQfxSbD74.jpg?width=216&amp;crop=smart&amp;auto=webp&amp;s=f5453342eb145e4d61cfc3381e662d3df5dedf2f\", \"width\": 216, \"height\": 121}, {\"url\": \"https://external-preview.redd.it/jq_4nueMyHx9ZfKdwLsShxRpldNRyRsrorJQfxSbD74.jpg?width=320&amp;crop=smart&amp;auto=webp&amp;s=a18f88047ddbf2193fd88d7c5e1c85ceef47c68f\", \"width\": 320, \"height\": 180}, {\"url\": \"https://external-preview.redd.it/jq_4nueMyHx9ZfKdwLsShxRpldNRyRsrorJQfxSbD74.jpg?width=640&amp;crop=smart&amp;auto=webp&amp;s=9c9794f2f64cca40acddde8e3a0f40b210191632\", \"width\": 640, \"height\": 360}, {\"url\": \"https://external-preview.redd.it/jq_4nueMyHx9ZfKdwLsShxRpldNRyRsrorJQfxSbD74.jpg?width=960&amp;crop=smart&amp;auto=webp&amp;s=936b76e9eb70d56c2df79c4998118c695f0ef2d0\", \"width\": 960, \"height\": 540}, {\"url\": \"https://external-preview.redd.it/jq_4nueMyHx9ZfKdwLsShxRpldNRyRsrorJQfxSbD74.jpg?width=1080&amp;crop=smart&amp;auto=webp&amp;s=e52ecea892dce8a68e13c2a2c3c25586be5c8877\", \"width\": 1080, \"height\": 607}], \"variants\": {}, \"id\": \"kMRFC_Y8Ozt-SyFgUrfvuZQ7xpzLayGrpmwZCVFiEao\"}], \"enabled\": false}, \"media_only\": false, \"link_flair_template_id\": null, \"can_gild\": false, \"spoiler\": false, \"locked\": false, \"author_flair_text\": null, \"visited\": false, \"num_reports\": null, \"distinguished\": null, \"subreddit_id\": \"t5_2t7no\", \"mod_reason_by\": null, \"removal_reason\": null, \"link_flair_background_color\": \"\", \"id\": \"agkiz9\", \"is_robot_indexable\": true, \"report_reasons\": null, \"author\": \"Wagamaga\", \"num_crossposts\": 3, \"num_comments\": 118, \"send_replies\": true, \"whitelist_status\": \"all_ads\", \"mod_reports\": [], \"author_patreon_flair\": false, \"author_flair_text_color\": null, \"permalink\": \"/r/Futurology/comments/agkiz9/8_percent_of_americans_recently_changed_their/\", \"parent_whitelist_status\": \"all_ads\", \"stickied\": false, \"url\": \"https://grist.org/article/8-percent-of-americans-recently-changed-their-minds-on-climate-what-gives/\", \"subreddit_subscribers\": 13593446, \"created_utc\": 1547640621.0, \"media\": null, \"is_video\": false}}, {\"kind\": \"t3\", \"data\": {\"approved_at_utc\": null, \"subreddit\": \"Futurology\", \"selftext\": \"\", \"author_fullname\": \"t2_g2kb5\", \"saved\": false, \"mod_reason_title\": null, \"gilded\": 0, \"clicked\": false, \"title\": \"Researchers at the University of Basel have discovered a molecular approach for preventing rejection of a transplanted graft while simultaneously maintaining the ability to fight against infections.\", \"link_flair_richtext\": [], \"subreddit_name_prefixed\": \"r/Futurology\", \"hidden\": false, \"pwls\": 6, \"link_flair_css_class\": null, \"downs\": 0, \"thumbnail_height\": null, \"hide_score\": false, \"name\": \"t3_agx76w\", \"quarantine\": false, \"link_flair_text_color\": \"dark\", \"author_flair_background_color\": \"\", \"subreddit_type\": \"public\", \"ups\": 9, \"domain\": \"unibas.ch\", \"media_embed\": {}, \"thumbnail_width\": null, \"author_flair_template_id\": null, \"is_original_content\": false, \"user_reports\": [], \"secure_media\": null, \"is_reddit_media_domain\": false, \"is_meta\": false, \"category\": null, \"secure_media_embed\": {}, \"link_flair_text\": null, \"can_mod_post\": false, \"score\": 9, \"approved_by\": null, \"thumbnail\": \"default\", \"edited\": false, \"author_flair_css_class\": \"verified\", \"author_flair_richtext\": [], \"gildings\": {\"gid_1\": 0, \"gid_2\": 0, \"gid_3\": 0}, \"content_categories\": null, \"is_self\": false, \"mod_note\": null, \"crosspost_parent_list\": [{\"approved_at_utc\": null, \"subreddit\": \"sciences\", \"selftext\": \"\", \"author_fullname\": \"t2_g2kb5\", \"saved\": false, \"mod_reason_title\": null, \"gilded\": 0, \"clicked\": false, \"title\": \"Researchers at the University of Basel have discovered a molecular approach for preventing rejection of a transplanted graft while simultaneously maintaining the ability to fight against infections.\", \"link_flair_richtext\": [], \"subreddit_name_prefixed\": \"r/sciences\", \"hidden\": false, \"pwls\": null, \"link_flair_css_class\": null, \"downs\": 0, \"thumbnail_height\": null, \"hide_score\": false, \"name\": \"t3_agx75j\", \"quarantine\": false, \"link_flair_text_color\": \"dark\", \"author_flair_background_color\": null, \"subreddit_type\": \"public\", \"ups\": 2, \"domain\": \"unibas.ch\", \"media_embed\": {}, \"thumbnail_width\": null, \"author_flair_template_id\": null, \"is_original_content\": false, \"user_reports\": [], \"secure_media\": null, \"is_reddit_media_domain\": false, \"is_meta\": false, \"category\": null, \"secure_media_embed\": {}, \"link_flair_text\": null, \"can_mod_post\": false, \"score\": 2, \"approved_by\": null, \"thumbnail\": \"default\", \"edited\": false, \"author_flair_css_class\": null, \"author_flair_richtext\": [], \"gildings\": {\"gid_1\": 0, \"gid_2\": 0, \"gid_3\": 0}, \"content_categories\": null, \"is_self\": false, \"mod_note\": null, \"created\": 1547756212.0, \"link_flair_type\": \"text\", \"wls\": null, \"banned_by\": null, \"author_flair_type\": \"text\", \"contest_mode\": false, \"selftext_html\": null, \"likes\": null, \"suggested_sort\": null, \"banned_at_utc\": null, \"view_count\": null, \"archived\": false, \"no_follow\": false, \"is_crosspostable\": false, \"pinned\": false, \"over_18\": false, \"media_only\": false, \"link_flair_template_id\": null, \"can_gild\": false, \"spoiler\": false, \"locked\": false, \"author_flair_text\": null, \"visited\": false, \"num_reports\": null, \"distinguished\": null, \"subreddit_id\": \"t5_2r5t2\", \"mod_reason_by\": null, \"removal_reason\": null, \"link_flair_background_color\": \"\", \"id\": \"agx75j\", \"is_robot_indexable\": true, \"report_reasons\": null, \"author\": \"SirT6\", \"num_crossposts\": 1, \"num_comments\": 0, \"send_replies\": true, \"whitelist_status\": null, \"mod_reports\": [], \"author_patreon_flair\": false, \"author_flair_text_color\": null, \"permalink\": \"/r/sciences/comments/agx75j/researchers_at_the_university_of_basel_have/\", \"parent_whitelist_status\": null, \"stickied\": false, \"url\": \"https://www.unibas.ch/en/News-Events/News/Uni-Research/Engineered-T-cells-prevent-organ-transplant-rejection.html\", \"subreddit_subscribers\": 18706, \"created_utc\": 1547727412.0, \"media\": null, \"is_video\": false}], \"created\": 1547756222.0, \"link_flair_type\": \"text\", \"wls\": 6, \"banned_by\": null, \"author_flair_type\": \"text\", \"contest_mode\": false, \"selftext_html\": null, \"likes\": null, \"suggested_sort\": null, \"banned_at_utc\": null, \"view_count\": null, \"archived\": false, \"no_follow\": false, \"is_crosspostable\": false, \"pinned\": false, \"over_18\": false, \"media_only\": false, \"link_flair_template_id\": null, \"can_gild\": false, \"spoiler\": false, \"locked\": false, \"author_flair_text\": \"PhD-MBA-Biology-Biogerontology\", \"visited\": false, \"num_reports\": null, \"distinguished\": null, \"subreddit_id\": \"t5_2t7no\", \"mod_reason_by\": null, \"removal_reason\": null, \"link_flair_background_color\": \"\", \"id\": \"agx76w\", \"is_robot_indexable\": true, \"report_reasons\": null, \"author\": \"SirT6\", \"num_crossposts\": 0, \"num_comments\": 1, \"send_replies\": true, \"whitelist_status\": \"all_ads\", \"mod_reports\": [], \"author_patreon_flair\": false, \"crosspost_parent\": \"t3_agx75j\", \"author_flair_text_color\": \"dark\", \"permalink\": \"/r/Futurology/comments/agx76w/researchers_at_the_university_of_basel_have/\", \"parent_whitelist_status\": \"all_ads\", \"stickied\": false, \"url\": \"https://www.unibas.ch/en/News-Events/News/Uni-Research/Engineered-T-cells-prevent-organ-transplant-rejection.html\", \"subreddit_subscribers\": 13593446, \"created_utc\": 1547727422.0, \"media\": null, \"is_video\": false}}], \"after\": \"t3_agx76w\", \"before\": null}}'"
      ]
     },
     "execution_count": 7,
     "metadata": {},
     "output_type": "execute_result"
    }
   ],
   "source": [
    "response.text"
   ]
  },
  {
   "cell_type": "code",
   "execution_count": 4,
   "metadata": {
    "collapsed": true
   },
   "outputs": [
    {
     "ename": "NameError",
     "evalue": "name 'params' is not defined",
     "output_type": "error",
     "traceback": [
      "\u001b[1;31m---------------------------------------------------------------------------\u001b[0m",
      "\u001b[1;31mNameError\u001b[0m                                 Traceback (most recent call last)",
      "\u001b[1;32m<ipython-input-4-2f1d8cc170f9>\u001b[0m in \u001b[0;36m<module>\u001b[1;34m()\u001b[0m\n\u001b[0;32m      1\u001b[0m \u001b[0mposts\u001b[0m \u001b[1;33m=\u001b[0m \u001b[1;33m[\u001b[0m\u001b[1;33m]\u001b[0m  \u001b[1;31m# data dump, won't store previous grabs of 1000 posts by default\u001b[0m\u001b[1;33m\u001b[0m\u001b[0m\n\u001b[1;32m----> 2\u001b[1;33m \u001b[0mposts\u001b[0m\u001b[1;33m,\u001b[0m \u001b[0mparams\u001b[0m \u001b[1;33m=\u001b[0m \u001b[0madd1000posts\u001b[0m\u001b[1;33m(\u001b[0m\u001b[0murl\u001b[0m\u001b[1;33m,\u001b[0m \u001b[0mposts\u001b[0m\u001b[1;33m,\u001b[0m \u001b[0mheaders\u001b[0m\u001b[1;33m=\u001b[0m\u001b[0mheaders\u001b[0m\u001b[1;33m,\u001b[0m \u001b[0mparams\u001b[0m\u001b[1;33m=\u001b[0m\u001b[0mparams\u001b[0m\u001b[1;33m)\u001b[0m\u001b[1;33m\u001b[0m\u001b[0m\n\u001b[0m",
      "\u001b[1;31mNameError\u001b[0m: name 'params' is not defined"
     ]
    }
   ],
   "source": [
    "posts = []  # data dump, won't store previous grabs of 1000 posts by default\n",
    "posts, params = add1000posts(url, posts, headers=headers, params=params)"
   ]
  },
  {
   "cell_type": "code",
   "execution_count": 190,
   "metadata": {},
   "outputs": [
    {
     "data": {
      "text/plain": [
       "994"
      ]
     },
     "execution_count": 190,
     "metadata": {},
     "output_type": "execute_result"
    }
   ],
   "source": [
    "len(posts)"
   ]
  },
  {
   "cell_type": "code",
   "execution_count": 191,
   "metadata": {},
   "outputs": [
    {
     "data": {
      "text/plain": [
       "{'after': 't3_a5hoix', 'count': 3000}"
      ]
     },
     "execution_count": 191,
     "metadata": {},
     "output_type": "execute_result"
    }
   ],
   "source": [
    "params"
   ]
  },
  {
   "cell_type": "code",
   "execution_count": 159,
   "metadata": {},
   "outputs": [
    {
     "data": {
      "text/plain": [
       "{'after': 't3_a61pyx', 'count': 1000}"
      ]
     },
     "execution_count": 159,
     "metadata": {},
     "output_type": "execute_result"
    }
   ],
   "source": [
    "params"
   ]
  },
  {
   "cell_type": "code",
   "execution_count": 192,
   "metadata": {
    "scrolled": true
   },
   "outputs": [
    {
     "data": {
      "text/plain": [
       "{'kind': 't3',\n",
       " 'data': {'approved_at_utc': None,\n",
       "  'subreddit': 'Futurology',\n",
       "  'selftext': '',\n",
       "  'author_fullname': 't2_i6tl3ju',\n",
       "  'saved': False,\n",
       "  'mod_reason_title': None,\n",
       "  'gilded': 0,\n",
       "  'clicked': False,\n",
       "  'title': 'The AI boom is happening all over the world, and it’s accelerating quickly',\n",
       "  'link_flair_richtext': [],\n",
       "  'subreddit_name_prefixed': 'r/Futurology',\n",
       "  'hidden': False,\n",
       "  'pwls': 6,\n",
       "  'link_flair_css_class': 'ai',\n",
       "  'downs': 0,\n",
       "  'thumbnail_height': 73,\n",
       "  'hide_score': False,\n",
       "  'name': 't3_a5tz1q',\n",
       "  'quarantine': False,\n",
       "  'link_flair_text_color': 'dark',\n",
       "  'author_flair_background_color': None,\n",
       "  'subreddit_type': 'public',\n",
       "  'ups': 4,\n",
       "  'domain': 'theverge.com',\n",
       "  'media_embed': {},\n",
       "  'thumbnail_width': 140,\n",
       "  'author_flair_template_id': None,\n",
       "  'is_original_content': False,\n",
       "  'user_reports': [],\n",
       "  'secure_media': None,\n",
       "  'is_reddit_media_domain': False,\n",
       "  'is_meta': False,\n",
       "  'category': None,\n",
       "  'secure_media_embed': {},\n",
       "  'link_flair_text': 'AI',\n",
       "  'can_mod_post': False,\n",
       "  'score': 4,\n",
       "  'approved_by': None,\n",
       "  'thumbnail': 'https://b.thumbs.redditmedia.com/OLyxn7b3-r2ihIYJochpn5eYTprvkU3QsZ8HSFDFzIc.jpg',\n",
       "  'edited': False,\n",
       "  'author_flair_css_class': None,\n",
       "  'author_flair_richtext': [],\n",
       "  'gildings': {'gid_1': 0, 'gid_2': 0, 'gid_3': 0},\n",
       "  'post_hint': 'link',\n",
       "  'content_categories': None,\n",
       "  'is_self': False,\n",
       "  'mod_note': None,\n",
       "  'created': 1544740269.0,\n",
       "  'link_flair_type': 'text',\n",
       "  'wls': 6,\n",
       "  'banned_by': None,\n",
       "  'author_flair_type': 'text',\n",
       "  'contest_mode': False,\n",
       "  'selftext_html': None,\n",
       "  'likes': None,\n",
       "  'suggested_sort': None,\n",
       "  'banned_at_utc': None,\n",
       "  'view_count': None,\n",
       "  'archived': False,\n",
       "  'no_follow': False,\n",
       "  'is_crosspostable': False,\n",
       "  'pinned': False,\n",
       "  'over_18': False,\n",
       "  'preview': {'images': [{'source': {'url': 'https://external-preview.redd.it/BjgvolB9WtifCMVsGqqYg_ZUtBTACPy-1U1zDBnn4GM.jpg?auto=webp&amp;s=c9093040a5c9be7158b30715878c0f89a26d09a1',\n",
       "      'width': 1200,\n",
       "      'height': 628},\n",
       "     'resolutions': [{'url': 'https://external-preview.redd.it/BjgvolB9WtifCMVsGqqYg_ZUtBTACPy-1U1zDBnn4GM.jpg?width=108&amp;crop=smart&amp;auto=webp&amp;s=c6559e889e5ec3767ceaadedc91d2151a300c6db',\n",
       "       'width': 108,\n",
       "       'height': 56},\n",
       "      {'url': 'https://external-preview.redd.it/BjgvolB9WtifCMVsGqqYg_ZUtBTACPy-1U1zDBnn4GM.jpg?width=216&amp;crop=smart&amp;auto=webp&amp;s=c30fe5134f5e5e1fa308533eee24edfdf3d40006',\n",
       "       'width': 216,\n",
       "       'height': 113},\n",
       "      {'url': 'https://external-preview.redd.it/BjgvolB9WtifCMVsGqqYg_ZUtBTACPy-1U1zDBnn4GM.jpg?width=320&amp;crop=smart&amp;auto=webp&amp;s=597d2fc1119bd0240593ddb87081e3f20064dd3b',\n",
       "       'width': 320,\n",
       "       'height': 167},\n",
       "      {'url': 'https://external-preview.redd.it/BjgvolB9WtifCMVsGqqYg_ZUtBTACPy-1U1zDBnn4GM.jpg?width=640&amp;crop=smart&amp;auto=webp&amp;s=7e73faa8473fb5480c13c335224bf23b3e227db9',\n",
       "       'width': 640,\n",
       "       'height': 334},\n",
       "      {'url': 'https://external-preview.redd.it/BjgvolB9WtifCMVsGqqYg_ZUtBTACPy-1U1zDBnn4GM.jpg?width=960&amp;crop=smart&amp;auto=webp&amp;s=d01802ac362d76dbf82ac8b2f7642a01ab069044',\n",
       "       'width': 960,\n",
       "       'height': 502},\n",
       "      {'url': 'https://external-preview.redd.it/BjgvolB9WtifCMVsGqqYg_ZUtBTACPy-1U1zDBnn4GM.jpg?width=1080&amp;crop=smart&amp;auto=webp&amp;s=5d11ccf071df03cd019de24ea73be2b19d0bd52f',\n",
       "       'width': 1080,\n",
       "       'height': 565}],\n",
       "     'variants': {},\n",
       "     'id': 'TzecaGPjf4m9TXfXVysyAWSnK9Y32IxzsScfh-wG3cg'}],\n",
       "   'enabled': False},\n",
       "  'media_only': False,\n",
       "  'link_flair_template_id': None,\n",
       "  'can_gild': False,\n",
       "  'spoiler': False,\n",
       "  'locked': False,\n",
       "  'author_flair_text': None,\n",
       "  'visited': False,\n",
       "  'num_reports': None,\n",
       "  'distinguished': None,\n",
       "  'subreddit_id': 't5_2t7no',\n",
       "  'mod_reason_by': None,\n",
       "  'removal_reason': None,\n",
       "  'link_flair_background_color': '',\n",
       "  'id': 'a5tz1q',\n",
       "  'is_robot_indexable': True,\n",
       "  'report_reasons': None,\n",
       "  'author': 'gone_his_own_way',\n",
       "  'num_crossposts': 0,\n",
       "  'num_comments': 1,\n",
       "  'send_replies': False,\n",
       "  'whitelist_status': 'all_ads',\n",
       "  'mod_reports': [],\n",
       "  'author_patreon_flair': False,\n",
       "  'author_flair_text_color': None,\n",
       "  'permalink': '/r/Futurology/comments/a5tz1q/the_ai_boom_is_happening_all_over_the_world_and/',\n",
       "  'parent_whitelist_status': 'all_ads',\n",
       "  'stickied': False,\n",
       "  'url': 'https://www.theverge.com/2018/12/12/18136929/artificial-intelligence-ai-index-report-2018-machine-learning-global-progress-research',\n",
       "  'subreddit_subscribers': 13497975,\n",
       "  'created_utc': 1544711469.0,\n",
       "  'media': None,\n",
       "  'is_video': False}}"
      ]
     },
     "execution_count": 192,
     "metadata": {},
     "output_type": "execute_result"
    }
   ],
   "source": [
    "posts[0]"
   ]
  },
  {
   "cell_type": "code",
   "execution_count": 163,
   "metadata": {
    "scrolled": true
   },
   "outputs": [
    {
     "data": {
      "text/plain": [
       "{'kind': 't3',\n",
       " 'data': {'approved_at_utc': None,\n",
       "  'subreddit': 'Futurology',\n",
       "  'selftext': '',\n",
       "  'author_fullname': 't2_hgbn6fv',\n",
       "  'saved': False,\n",
       "  'mod_reason_title': None,\n",
       "  'gilded': 0,\n",
       "  'clicked': False,\n",
       "  'title': \"r/Futurology's Official Discord - A relaxed place to chill and discuss all things Futurology.\",\n",
       "  'link_flair_richtext': [],\n",
       "  'subreddit_name_prefixed': 'r/Futurology',\n",
       "  'hidden': False,\n",
       "  'pwls': 6,\n",
       "  'link_flair_css_class': None,\n",
       "  'downs': 0,\n",
       "  'thumbnail_height': 73,\n",
       "  'hide_score': False,\n",
       "  'name': 't3_8r1jha',\n",
       "  'quarantine': False,\n",
       "  'link_flair_text_color': 'dark',\n",
       "  'author_flair_background_color': '',\n",
       "  'subreddit_type': 'public',\n",
       "  'ups': 324,\n",
       "  'domain': 'discordapp.com',\n",
       "  'media_embed': {},\n",
       "  'thumbnail_width': 140,\n",
       "  'author_flair_template_id': '20f6ec1e-1aa0-11e5-9574-0e610b6925bb',\n",
       "  'is_original_content': False,\n",
       "  'user_reports': [],\n",
       "  'secure_media': None,\n",
       "  'is_reddit_media_domain': False,\n",
       "  'is_meta': False,\n",
       "  'category': None,\n",
       "  'secure_media_embed': {},\n",
       "  'link_flair_text': None,\n",
       "  'can_mod_post': False,\n",
       "  'score': 324,\n",
       "  'approved_by': None,\n",
       "  'thumbnail': 'https://b.thumbs.redditmedia.com/iH1HFlvbGI6UWtjzZ_KHyRcQMSPXumc8K5MHnZdDmgU.jpg',\n",
       "  'edited': False,\n",
       "  'author_flair_css_class': 'blue',\n",
       "  'author_flair_richtext': [],\n",
       "  'gildings': {'gid_1': 0, 'gid_2': 0, 'gid_3': 0},\n",
       "  'post_hint': 'link',\n",
       "  'content_categories': None,\n",
       "  'is_self': False,\n",
       "  'mod_note': None,\n",
       "  'created': 1529009018.0,\n",
       "  'link_flair_type': 'text',\n",
       "  'wls': 6,\n",
       "  'banned_by': None,\n",
       "  'author_flair_type': 'text',\n",
       "  'contest_mode': False,\n",
       "  'selftext_html': None,\n",
       "  'likes': None,\n",
       "  'suggested_sort': None,\n",
       "  'banned_at_utc': None,\n",
       "  'view_count': None,\n",
       "  'archived': True,\n",
       "  'no_follow': False,\n",
       "  'is_crosspostable': False,\n",
       "  'pinned': False,\n",
       "  'over_18': False,\n",
       "  'preview': {'images': [{'source': {'url': 'https://external-preview.redd.it/c3S7qEINI4k1VcLmEgu9UCZkbOCH--V1YCM-Qh3AKBg.jpg?auto=webp&amp;s=3e72d342623188d4efcb37612ba1a890eb5a3647',\n",
       "      'width': 1200,\n",
       "      'height': 630},\n",
       "     'resolutions': [{'url': 'https://external-preview.redd.it/c3S7qEINI4k1VcLmEgu9UCZkbOCH--V1YCM-Qh3AKBg.jpg?width=108&amp;crop=smart&amp;auto=webp&amp;s=5ef7be3ded6d2d649391ab86abbab4e3b2ab0e2f',\n",
       "       'width': 108,\n",
       "       'height': 56},\n",
       "      {'url': 'https://external-preview.redd.it/c3S7qEINI4k1VcLmEgu9UCZkbOCH--V1YCM-Qh3AKBg.jpg?width=216&amp;crop=smart&amp;auto=webp&amp;s=c7d1535eea0937cf9414af62f46fe08faadc25c8',\n",
       "       'width': 216,\n",
       "       'height': 113},\n",
       "      {'url': 'https://external-preview.redd.it/c3S7qEINI4k1VcLmEgu9UCZkbOCH--V1YCM-Qh3AKBg.jpg?width=320&amp;crop=smart&amp;auto=webp&amp;s=8f80d9822c8ba0587b25321bfc0add5f96be4d81',\n",
       "       'width': 320,\n",
       "       'height': 168},\n",
       "      {'url': 'https://external-preview.redd.it/c3S7qEINI4k1VcLmEgu9UCZkbOCH--V1YCM-Qh3AKBg.jpg?width=640&amp;crop=smart&amp;auto=webp&amp;s=e474dccd0dbda8f4379df1bdd01c8661da513905',\n",
       "       'width': 640,\n",
       "       'height': 336},\n",
       "      {'url': 'https://external-preview.redd.it/c3S7qEINI4k1VcLmEgu9UCZkbOCH--V1YCM-Qh3AKBg.jpg?width=960&amp;crop=smart&amp;auto=webp&amp;s=942fb00c34ea22c3093e827f3684db4fc202c79a',\n",
       "       'width': 960,\n",
       "       'height': 504},\n",
       "      {'url': 'https://external-preview.redd.it/c3S7qEINI4k1VcLmEgu9UCZkbOCH--V1YCM-Qh3AKBg.jpg?width=1080&amp;crop=smart&amp;auto=webp&amp;s=24a7b9f6989f1a1ceeb508361c932e8c793ea7a0',\n",
       "       'width': 1080,\n",
       "       'height': 567}],\n",
       "     'variants': {},\n",
       "     'id': 'gLv1hXC5H-dOZA2ETOOv1wDrTJS5cy2707t3DYxxt1U'}],\n",
       "   'enabled': False},\n",
       "  'media_only': False,\n",
       "  'link_flair_template_id': None,\n",
       "  'can_gild': False,\n",
       "  'spoiler': False,\n",
       "  'locked': True,\n",
       "  'author_flair_text': 'Trans-Jovian Injection',\n",
       "  'visited': False,\n",
       "  'num_reports': None,\n",
       "  'distinguished': 'moderator',\n",
       "  'subreddit_id': 't5_2t7no',\n",
       "  'mod_reason_by': None,\n",
       "  'removal_reason': None,\n",
       "  'link_flair_background_color': '',\n",
       "  'id': '8r1jha',\n",
       "  'is_robot_indexable': True,\n",
       "  'report_reasons': None,\n",
       "  'author': 'TransPlanetInjection',\n",
       "  'num_crossposts': 0,\n",
       "  'num_comments': 54,\n",
       "  'send_replies': True,\n",
       "  'whitelist_status': 'all_ads',\n",
       "  'mod_reports': [],\n",
       "  'author_patreon_flair': False,\n",
       "  'author_flair_text_color': 'dark',\n",
       "  'permalink': '/r/Futurology/comments/8r1jha/rfuturologys_official_discord_a_relaxed_place_to/',\n",
       "  'parent_whitelist_status': 'all_ads',\n",
       "  'stickied': True,\n",
       "  'url': 'https://discordapp.com/invite/JtaYWC3',\n",
       "  'subreddit_subscribers': 13497919,\n",
       "  'created_utc': 1528980218.0,\n",
       "  'media': None,\n",
       "  'is_video': False}}"
      ]
     },
     "execution_count": 163,
     "metadata": {},
     "output_type": "execute_result"
    }
   ],
   "source": [
    "posts[0]"
   ]
  },
  {
   "cell_type": "code",
   "execution_count": null,
   "metadata": {},
   "outputs": [],
   "source": [
    "features = ['permalink','subreddit','url','title','author',\n",
    "            'ups','downs','num_crossposts','num_comments','selftext']\n",
    "\n",
    "df = pd.DataFrame(columns = features)"
   ]
  },
  {
   "cell_type": "code",
   "execution_count": 179,
   "metadata": {},
   "outputs": [],
   "source": [
    "df1 = df.copy()"
   ]
  },
  {
   "cell_type": "code",
   "execution_count": 182,
   "metadata": {},
   "outputs": [
    {
     "data": {
      "text/plain": [
       "(895, 10)"
      ]
     },
     "execution_count": 182,
     "metadata": {},
     "output_type": "execute_result"
    }
   ],
   "source": [
    "df1.shape"
   ]
  },
  {
   "cell_type": "code",
   "execution_count": 193,
   "metadata": {},
   "outputs": [
    {
     "data": {
      "text/plain": [
       "'/r/Futurology/comments/a5tz1q/the_ai_boom_is_happening_all_over_the_world_and/'"
      ]
     },
     "execution_count": 193,
     "metadata": {},
     "output_type": "execute_result"
    }
   ],
   "source": [
    "post_dict = posts[0]['data']\n",
    "post_dict['permalink']"
   ]
  },
  {
   "cell_type": "code",
   "execution_count": 194,
   "metadata": {},
   "outputs": [
    {
     "data": {
      "text/plain": [
       "permalink         /r/Futurology/comments/a5tz1q/the_ai_boom_is_h...\n",
       "subreddit                                                Futurology\n",
       "url               https://www.theverge.com/2018/12/12/18136929/a...\n",
       "title             The AI boom is happening all over the world, a...\n",
       "author                                             gone_his_own_way\n",
       "ups                                                               6\n",
       "downs                                                             0\n",
       "num_crossposts                                                    0\n",
       "num_comments                                                      1\n",
       "selftext                                                           \n",
       "Name: /r/Futurology/comments/a5tz1q/the_ai_boom_is_happening_all_over_the_world_and/, dtype: object"
      ]
     },
     "execution_count": 194,
     "metadata": {},
     "output_type": "execute_result"
    }
   ],
   "source": [
    "df.loc['/r/Futurology/comments/a5tz1q/the_ai_boom_is_happening_all_over_the_world_and/']"
   ]
  },
  {
   "cell_type": "code",
   "execution_count": 150,
   "metadata": {},
   "outputs": [
    {
     "data": {
      "text/plain": [
       "(971, 10)"
      ]
     },
     "execution_count": 150,
     "metadata": {},
     "output_type": "execute_result"
    }
   ],
   "source": [
    "for feature in features :  # dataframe indexed by reddit's post id\n",
    "    df.loc[post_dict['permalink'], feature] = post_dict[feature] \n",
    "df.shape"
   ]
  },
  {
   "cell_type": "code",
   "execution_count": 96,
   "metadata": {},
   "outputs": [],
   "source": [
    "def poststodf(posts, df) :\n",
    "    for post in posts :\n",
    "        post_dict = post['data']\n",
    "        for feature in features :  # dataframe indexed by reddit's post id\n",
    "            df.loc[post_dict['permalink'], feature] = post_dict[feature] "
   ]
  },
  {
   "cell_type": "code",
   "execution_count": 184,
   "metadata": {},
   "outputs": [
    {
     "data": {
      "text/plain": [
       "(895, 10)"
      ]
     },
     "execution_count": 184,
     "metadata": {},
     "output_type": "execute_result"
    }
   ],
   "source": [
    "poststodf(posts, df)\n",
    "\n",
    "df.shape"
   ]
  },
  {
   "cell_type": "code",
   "execution_count": 185,
   "metadata": {},
   "outputs": [
    {
     "data": {
      "text/plain": [
       "Index(['/r/Futurology/comments/8r1jha/rfuturologys_official_discord_a_relaxed_place_to/',\n",
       "       '/r/Futurology/comments/a6plqx/nasa_on_going_back_to_the_moon_this_time_when_we/',\n",
       "       '/r/Futurology/comments/a6loai/nearly_200_countries_have_agreed_on_a_set_of/',\n",
       "       '/r/Futurology/comments/a6paxa/gps_bikeshare_program_in_china_credited_with/',\n",
       "       '/r/Futurology/comments/a6mc3n/chinas_great_leap_backward_on_climate_change/',\n",
       "       '/r/Futurology/comments/a6rh3g/labgrown_meat_draws_big_investors_and_big/',\n",
       "       '/r/Futurology/comments/a6fcub/spy_virus_eavesdrops_on_bacteria_then_obliterates/',\n",
       "       '/r/Futurology/comments/a6o6t3/the_worlds_first_tissue_cultured_chicken_meat/',\n",
       "       '/r/Futurology/comments/a6oz2n/googles_dragonfly_will_intensify_surveillance_on/',\n",
       "       '/r/Futurology/comments/a6nz29/the_first_basic_income_experiment_in_germany_will/',\n",
       "       ...\n",
       "       '/r/Futurology/comments/a2m86p/we_are_last_generation_that_can_stop_climate/',\n",
       "       '/r/Futurology/comments/a2wntv/antibiotics_effectively_destroy_senescent_cells/',\n",
       "       '/r/Futurology/comments/a2p04r/robot_janitors_are_coming_to_mop_floors_at_a/',\n",
       "       '/r/Futurology/comments/a2xzgw/overcoming_ais_challenge_in_hiring_avoid_human/',\n",
       "       '/r/Futurology/comments/a2p8jc/blockchains_cant_do_everything_but_they_do_two/',\n",
       "       '/r/Futurology/comments/a2qskt/clean_coals_dirty_secret_more_pollution_not_less/',\n",
       "       '/r/Futurology/comments/a2qgf8/ai_can_boost_the_graphics_and_add_new_levels_to/',\n",
       "       '/r/Futurology/comments/a2qdwy/toyotas_thr3_humanoid_robot_is_now_equipped_with/',\n",
       "       '/r/Futurology/comments/a2ori0/brain_corp_will_supply_walmart_with_ai_services/',\n",
       "       '/r/Futurology/comments/a2s6l4/5g_smartphones_are_coming_in_2019_what_does_that/'],\n",
       "      dtype='object', length=895)"
      ]
     },
     "execution_count": 185,
     "metadata": {},
     "output_type": "execute_result"
    }
   ],
   "source": [
    "df.index"
   ]
  },
  {
   "cell_type": "code",
   "execution_count": 168,
   "metadata": {
    "scrolled": false
   },
   "outputs": [
    {
     "data": {
      "text/plain": [
       "Index(['/r/Futurology/comments/8r1jha/rfuturologys_official_discord_a_relaxed_place_to/',\n",
       "       '/r/Futurology/comments/a6plqx/nasa_on_going_back_to_the_moon_this_time_when_we/',\n",
       "       '/r/Futurology/comments/a6loai/nearly_200_countries_have_agreed_on_a_set_of/',\n",
       "       '/r/Futurology/comments/a6paxa/gps_bikeshare_program_in_china_credited_with/',\n",
       "       '/r/Futurology/comments/a6mc3n/chinas_great_leap_backward_on_climate_change/',\n",
       "       '/r/Futurology/comments/a6rh3g/labgrown_meat_draws_big_investors_and_big/',\n",
       "       '/r/Futurology/comments/a6fcub/spy_virus_eavesdrops_on_bacteria_then_obliterates/',\n",
       "       '/r/Futurology/comments/a6o6t3/the_worlds_first_tissue_cultured_chicken_meat/',\n",
       "       '/r/Futurology/comments/a6oz2n/googles_dragonfly_will_intensify_surveillance_on/',\n",
       "       '/r/Futurology/comments/a6nz29/the_first_basic_income_experiment_in_germany_will/',\n",
       "       ...\n",
       "       '/r/Futurology/comments/a2m86p/we_are_last_generation_that_can_stop_climate/',\n",
       "       '/r/Futurology/comments/a2wntv/antibiotics_effectively_destroy_senescent_cells/',\n",
       "       '/r/Futurology/comments/a2p04r/robot_janitors_are_coming_to_mop_floors_at_a/',\n",
       "       '/r/Futurology/comments/a2xzgw/overcoming_ais_challenge_in_hiring_avoid_human/',\n",
       "       '/r/Futurology/comments/a2p8jc/blockchains_cant_do_everything_but_they_do_two/',\n",
       "       '/r/Futurology/comments/a2qskt/clean_coals_dirty_secret_more_pollution_not_less/',\n",
       "       '/r/Futurology/comments/a2qgf8/ai_can_boost_the_graphics_and_add_new_levels_to/',\n",
       "       '/r/Futurology/comments/a2qdwy/toyotas_thr3_humanoid_robot_is_now_equipped_with/',\n",
       "       '/r/Futurology/comments/a2ori0/brain_corp_will_supply_walmart_with_ai_services/',\n",
       "       '/r/Futurology/comments/a2s6l4/5g_smartphones_are_coming_in_2019_what_does_that/'],\n",
       "      dtype='object', length=895)"
      ]
     },
     "execution_count": 168,
     "metadata": {},
     "output_type": "execute_result"
    }
   ],
   "source": [
    "df.index"
   ]
  },
  {
   "cell_type": "code",
   "execution_count": 169,
   "metadata": {
    "scrolled": true
   },
   "outputs": [
    {
     "data": {
      "text/html": [
       "<div>\n",
       "<style scoped>\n",
       "    .dataframe tbody tr th:only-of-type {\n",
       "        vertical-align: middle;\n",
       "    }\n",
       "\n",
       "    .dataframe tbody tr th {\n",
       "        vertical-align: top;\n",
       "    }\n",
       "\n",
       "    .dataframe thead th {\n",
       "        text-align: right;\n",
       "    }\n",
       "</style>\n",
       "<table border=\"1\" class=\"dataframe\">\n",
       "  <thead>\n",
       "    <tr style=\"text-align: right;\">\n",
       "      <th></th>\n",
       "      <th>permalink</th>\n",
       "      <th>subreddit</th>\n",
       "      <th>url</th>\n",
       "      <th>title</th>\n",
       "      <th>author</th>\n",
       "      <th>ups</th>\n",
       "      <th>downs</th>\n",
       "      <th>num_crossposts</th>\n",
       "      <th>num_comments</th>\n",
       "      <th>selftext</th>\n",
       "    </tr>\n",
       "  </thead>\n",
       "  <tbody>\n",
       "    <tr>\n",
       "      <th>/r/Futurology/comments/8r1jha/rfuturologys_official_discord_a_relaxed_place_to/</th>\n",
       "      <td>/r/Futurology/comments/8r1jha/rfuturologys_off...</td>\n",
       "      <td>Futurology</td>\n",
       "      <td>https://discordapp.com/invite/JtaYWC3</td>\n",
       "      <td>r/Futurology's Official Discord - A relaxed pl...</td>\n",
       "      <td>TransPlanetInjection</td>\n",
       "      <td>325</td>\n",
       "      <td>0</td>\n",
       "      <td>0</td>\n",
       "      <td>54</td>\n",
       "      <td></td>\n",
       "    </tr>\n",
       "    <tr>\n",
       "      <th>/r/Futurology/comments/a6plqx/nasa_on_going_back_to_the_moon_this_time_when_we/</th>\n",
       "      <td>/r/Futurology/comments/a6plqx/nasa_on_going_ba...</td>\n",
       "      <td>Futurology</td>\n",
       "      <td>https://www.smithsonianmag.com/smithsonian-ins...</td>\n",
       "      <td>NASA on going ‘back’ to the moon: “This time w...</td>\n",
       "      <td>SirT6</td>\n",
       "      <td>15899</td>\n",
       "      <td>0</td>\n",
       "      <td>0</td>\n",
       "      <td>850</td>\n",
       "      <td></td>\n",
       "    </tr>\n",
       "    <tr>\n",
       "      <th>/r/Futurology/comments/a6loai/nearly_200_countries_have_agreed_on_a_set_of/</th>\n",
       "      <td>/r/Futurology/comments/a6loai/nearly_200_count...</td>\n",
       "      <td>Futurology</td>\n",
       "      <td>https://www.bbc.com/news/science-environment-4...</td>\n",
       "      <td>Nearly 200 countries have agreed on a set of r...</td>\n",
       "      <td>SirT6</td>\n",
       "      <td>11242</td>\n",
       "      <td>0</td>\n",
       "      <td>1</td>\n",
       "      <td>539</td>\n",
       "      <td></td>\n",
       "    </tr>\n",
       "    <tr>\n",
       "      <th>/r/Futurology/comments/a6paxa/gps_bikeshare_program_in_china_credited_with/</th>\n",
       "      <td>/r/Futurology/comments/a6paxa/gps_bikeshare_pr...</td>\n",
       "      <td>Futurology</td>\n",
       "      <td>https://www.cbc.ca/news/technology/china-gps-b...</td>\n",
       "      <td>GPS bike-share program in China credited with ...</td>\n",
       "      <td>ManiaforBeatles</td>\n",
       "      <td>79</td>\n",
       "      <td>0</td>\n",
       "      <td>0</td>\n",
       "      <td>2</td>\n",
       "      <td></td>\n",
       "    </tr>\n",
       "    <tr>\n",
       "      <th>/r/Futurology/comments/a6mc3n/chinas_great_leap_backward_on_climate_change/</th>\n",
       "      <td>/r/Futurology/comments/a6mc3n/chinas_great_lea...</td>\n",
       "      <td>Futurology</td>\n",
       "      <td>https://www.theglobeandmail.com/opinion/articl...</td>\n",
       "      <td>China’s Great Leap Backward on climate change....</td>\n",
       "      <td>Bluest_waters</td>\n",
       "      <td>394</td>\n",
       "      <td>0</td>\n",
       "      <td>0</td>\n",
       "      <td>98</td>\n",
       "      <td></td>\n",
       "    </tr>\n",
       "  </tbody>\n",
       "</table>\n",
       "</div>"
      ],
      "text/plain": [
       "                                                                                            permalink  \\\n",
       "/r/Futurology/comments/8r1jha/rfuturologys_offi...  /r/Futurology/comments/8r1jha/rfuturologys_off...   \n",
       "/r/Futurology/comments/a6plqx/nasa_on_going_bac...  /r/Futurology/comments/a6plqx/nasa_on_going_ba...   \n",
       "/r/Futurology/comments/a6loai/nearly_200_countr...  /r/Futurology/comments/a6loai/nearly_200_count...   \n",
       "/r/Futurology/comments/a6paxa/gps_bikeshare_pro...  /r/Futurology/comments/a6paxa/gps_bikeshare_pr...   \n",
       "/r/Futurology/comments/a6mc3n/chinas_great_leap...  /r/Futurology/comments/a6mc3n/chinas_great_lea...   \n",
       "\n",
       "                                                     subreddit  \\\n",
       "/r/Futurology/comments/8r1jha/rfuturologys_offi...  Futurology   \n",
       "/r/Futurology/comments/a6plqx/nasa_on_going_bac...  Futurology   \n",
       "/r/Futurology/comments/a6loai/nearly_200_countr...  Futurology   \n",
       "/r/Futurology/comments/a6paxa/gps_bikeshare_pro...  Futurology   \n",
       "/r/Futurology/comments/a6mc3n/chinas_great_leap...  Futurology   \n",
       "\n",
       "                                                                                                  url  \\\n",
       "/r/Futurology/comments/8r1jha/rfuturologys_offi...              https://discordapp.com/invite/JtaYWC3   \n",
       "/r/Futurology/comments/a6plqx/nasa_on_going_bac...  https://www.smithsonianmag.com/smithsonian-ins...   \n",
       "/r/Futurology/comments/a6loai/nearly_200_countr...  https://www.bbc.com/news/science-environment-4...   \n",
       "/r/Futurology/comments/a6paxa/gps_bikeshare_pro...  https://www.cbc.ca/news/technology/china-gps-b...   \n",
       "/r/Futurology/comments/a6mc3n/chinas_great_leap...  https://www.theglobeandmail.com/opinion/articl...   \n",
       "\n",
       "                                                                                                title  \\\n",
       "/r/Futurology/comments/8r1jha/rfuturologys_offi...  r/Futurology's Official Discord - A relaxed pl...   \n",
       "/r/Futurology/comments/a6plqx/nasa_on_going_bac...  NASA on going ‘back’ to the moon: “This time w...   \n",
       "/r/Futurology/comments/a6loai/nearly_200_countr...  Nearly 200 countries have agreed on a set of r...   \n",
       "/r/Futurology/comments/a6paxa/gps_bikeshare_pro...  GPS bike-share program in China credited with ...   \n",
       "/r/Futurology/comments/a6mc3n/chinas_great_leap...  China’s Great Leap Backward on climate change....   \n",
       "\n",
       "                                                                  author  \\\n",
       "/r/Futurology/comments/8r1jha/rfuturologys_offi...  TransPlanetInjection   \n",
       "/r/Futurology/comments/a6plqx/nasa_on_going_bac...                 SirT6   \n",
       "/r/Futurology/comments/a6loai/nearly_200_countr...                 SirT6   \n",
       "/r/Futurology/comments/a6paxa/gps_bikeshare_pro...       ManiaforBeatles   \n",
       "/r/Futurology/comments/a6mc3n/chinas_great_leap...         Bluest_waters   \n",
       "\n",
       "                                                      ups downs  \\\n",
       "/r/Futurology/comments/8r1jha/rfuturologys_offi...    325     0   \n",
       "/r/Futurology/comments/a6plqx/nasa_on_going_bac...  15899     0   \n",
       "/r/Futurology/comments/a6loai/nearly_200_countr...  11242     0   \n",
       "/r/Futurology/comments/a6paxa/gps_bikeshare_pro...     79     0   \n",
       "/r/Futurology/comments/a6mc3n/chinas_great_leap...    394     0   \n",
       "\n",
       "                                                   num_crossposts  \\\n",
       "/r/Futurology/comments/8r1jha/rfuturologys_offi...              0   \n",
       "/r/Futurology/comments/a6plqx/nasa_on_going_bac...              0   \n",
       "/r/Futurology/comments/a6loai/nearly_200_countr...              1   \n",
       "/r/Futurology/comments/a6paxa/gps_bikeshare_pro...              0   \n",
       "/r/Futurology/comments/a6mc3n/chinas_great_leap...              0   \n",
       "\n",
       "                                                   num_comments selftext  \n",
       "/r/Futurology/comments/8r1jha/rfuturologys_offi...           54           \n",
       "/r/Futurology/comments/a6plqx/nasa_on_going_bac...          850           \n",
       "/r/Futurology/comments/a6loai/nearly_200_countr...          539           \n",
       "/r/Futurology/comments/a6paxa/gps_bikeshare_pro...            2           \n",
       "/r/Futurology/comments/a6mc3n/chinas_great_leap...           98           "
      ]
     },
     "execution_count": 169,
     "metadata": {},
     "output_type": "execute_result"
    }
   ],
   "source": [
    "df.head()"
   ]
  },
  {
   "cell_type": "code",
   "execution_count": 170,
   "metadata": {
    "scrolled": true
   },
   "outputs": [
    {
     "data": {
      "text/html": [
       "<div>\n",
       "<style scoped>\n",
       "    .dataframe tbody tr th:only-of-type {\n",
       "        vertical-align: middle;\n",
       "    }\n",
       "\n",
       "    .dataframe tbody tr th {\n",
       "        vertical-align: top;\n",
       "    }\n",
       "\n",
       "    .dataframe thead th {\n",
       "        text-align: right;\n",
       "    }\n",
       "</style>\n",
       "<table border=\"1\" class=\"dataframe\">\n",
       "  <thead>\n",
       "    <tr style=\"text-align: right;\">\n",
       "      <th></th>\n",
       "      <th>permalink</th>\n",
       "      <th>subreddit</th>\n",
       "      <th>url</th>\n",
       "      <th>title</th>\n",
       "      <th>author</th>\n",
       "      <th>ups</th>\n",
       "      <th>downs</th>\n",
       "      <th>num_crossposts</th>\n",
       "      <th>num_comments</th>\n",
       "      <th>selftext</th>\n",
       "    </tr>\n",
       "  </thead>\n",
       "  <tbody>\n",
       "    <tr>\n",
       "      <th>/r/Futurology/comments/8r1jha/rfuturologys_official_discord_a_relaxed_place_to/</th>\n",
       "      <td>/r/Futurology/comments/8r1jha/rfuturologys_off...</td>\n",
       "      <td>Futurology</td>\n",
       "      <td>https://discordapp.com/invite/JtaYWC3</td>\n",
       "      <td>r/Futurology's Official Discord - A relaxed pl...</td>\n",
       "      <td>TransPlanetInjection</td>\n",
       "      <td>325</td>\n",
       "      <td>0</td>\n",
       "      <td>0</td>\n",
       "      <td>54</td>\n",
       "      <td></td>\n",
       "    </tr>\n",
       "    <tr>\n",
       "      <th>/r/Futurology/comments/a6plqx/nasa_on_going_back_to_the_moon_this_time_when_we/</th>\n",
       "      <td>/r/Futurology/comments/a6plqx/nasa_on_going_ba...</td>\n",
       "      <td>Futurology</td>\n",
       "      <td>https://www.smithsonianmag.com/smithsonian-ins...</td>\n",
       "      <td>NASA on going ‘back’ to the moon: “This time w...</td>\n",
       "      <td>SirT6</td>\n",
       "      <td>15899</td>\n",
       "      <td>0</td>\n",
       "      <td>0</td>\n",
       "      <td>850</td>\n",
       "      <td></td>\n",
       "    </tr>\n",
       "    <tr>\n",
       "      <th>/r/Futurology/comments/a6loai/nearly_200_countries_have_agreed_on_a_set_of/</th>\n",
       "      <td>/r/Futurology/comments/a6loai/nearly_200_count...</td>\n",
       "      <td>Futurology</td>\n",
       "      <td>https://www.bbc.com/news/science-environment-4...</td>\n",
       "      <td>Nearly 200 countries have agreed on a set of r...</td>\n",
       "      <td>SirT6</td>\n",
       "      <td>11242</td>\n",
       "      <td>0</td>\n",
       "      <td>1</td>\n",
       "      <td>539</td>\n",
       "      <td></td>\n",
       "    </tr>\n",
       "    <tr>\n",
       "      <th>/r/Futurology/comments/a6paxa/gps_bikeshare_program_in_china_credited_with/</th>\n",
       "      <td>/r/Futurology/comments/a6paxa/gps_bikeshare_pr...</td>\n",
       "      <td>Futurology</td>\n",
       "      <td>https://www.cbc.ca/news/technology/china-gps-b...</td>\n",
       "      <td>GPS bike-share program in China credited with ...</td>\n",
       "      <td>ManiaforBeatles</td>\n",
       "      <td>79</td>\n",
       "      <td>0</td>\n",
       "      <td>0</td>\n",
       "      <td>2</td>\n",
       "      <td></td>\n",
       "    </tr>\n",
       "    <tr>\n",
       "      <th>/r/Futurology/comments/a6mc3n/chinas_great_leap_backward_on_climate_change/</th>\n",
       "      <td>/r/Futurology/comments/a6mc3n/chinas_great_lea...</td>\n",
       "      <td>Futurology</td>\n",
       "      <td>https://www.theglobeandmail.com/opinion/articl...</td>\n",
       "      <td>China’s Great Leap Backward on climate change....</td>\n",
       "      <td>Bluest_waters</td>\n",
       "      <td>394</td>\n",
       "      <td>0</td>\n",
       "      <td>0</td>\n",
       "      <td>98</td>\n",
       "      <td></td>\n",
       "    </tr>\n",
       "  </tbody>\n",
       "</table>\n",
       "</div>"
      ],
      "text/plain": [
       "                                                                                            permalink  \\\n",
       "/r/Futurology/comments/8r1jha/rfuturologys_offi...  /r/Futurology/comments/8r1jha/rfuturologys_off...   \n",
       "/r/Futurology/comments/a6plqx/nasa_on_going_bac...  /r/Futurology/comments/a6plqx/nasa_on_going_ba...   \n",
       "/r/Futurology/comments/a6loai/nearly_200_countr...  /r/Futurology/comments/a6loai/nearly_200_count...   \n",
       "/r/Futurology/comments/a6paxa/gps_bikeshare_pro...  /r/Futurology/comments/a6paxa/gps_bikeshare_pr...   \n",
       "/r/Futurology/comments/a6mc3n/chinas_great_leap...  /r/Futurology/comments/a6mc3n/chinas_great_lea...   \n",
       "\n",
       "                                                     subreddit  \\\n",
       "/r/Futurology/comments/8r1jha/rfuturologys_offi...  Futurology   \n",
       "/r/Futurology/comments/a6plqx/nasa_on_going_bac...  Futurology   \n",
       "/r/Futurology/comments/a6loai/nearly_200_countr...  Futurology   \n",
       "/r/Futurology/comments/a6paxa/gps_bikeshare_pro...  Futurology   \n",
       "/r/Futurology/comments/a6mc3n/chinas_great_leap...  Futurology   \n",
       "\n",
       "                                                                                                  url  \\\n",
       "/r/Futurology/comments/8r1jha/rfuturologys_offi...              https://discordapp.com/invite/JtaYWC3   \n",
       "/r/Futurology/comments/a6plqx/nasa_on_going_bac...  https://www.smithsonianmag.com/smithsonian-ins...   \n",
       "/r/Futurology/comments/a6loai/nearly_200_countr...  https://www.bbc.com/news/science-environment-4...   \n",
       "/r/Futurology/comments/a6paxa/gps_bikeshare_pro...  https://www.cbc.ca/news/technology/china-gps-b...   \n",
       "/r/Futurology/comments/a6mc3n/chinas_great_leap...  https://www.theglobeandmail.com/opinion/articl...   \n",
       "\n",
       "                                                                                                title  \\\n",
       "/r/Futurology/comments/8r1jha/rfuturologys_offi...  r/Futurology's Official Discord - A relaxed pl...   \n",
       "/r/Futurology/comments/a6plqx/nasa_on_going_bac...  NASA on going ‘back’ to the moon: “This time w...   \n",
       "/r/Futurology/comments/a6loai/nearly_200_countr...  Nearly 200 countries have agreed on a set of r...   \n",
       "/r/Futurology/comments/a6paxa/gps_bikeshare_pro...  GPS bike-share program in China credited with ...   \n",
       "/r/Futurology/comments/a6mc3n/chinas_great_leap...  China’s Great Leap Backward on climate change....   \n",
       "\n",
       "                                                                  author  \\\n",
       "/r/Futurology/comments/8r1jha/rfuturologys_offi...  TransPlanetInjection   \n",
       "/r/Futurology/comments/a6plqx/nasa_on_going_bac...                 SirT6   \n",
       "/r/Futurology/comments/a6loai/nearly_200_countr...                 SirT6   \n",
       "/r/Futurology/comments/a6paxa/gps_bikeshare_pro...       ManiaforBeatles   \n",
       "/r/Futurology/comments/a6mc3n/chinas_great_leap...         Bluest_waters   \n",
       "\n",
       "                                                      ups downs  \\\n",
       "/r/Futurology/comments/8r1jha/rfuturologys_offi...    325     0   \n",
       "/r/Futurology/comments/a6plqx/nasa_on_going_bac...  15899     0   \n",
       "/r/Futurology/comments/a6loai/nearly_200_countr...  11242     0   \n",
       "/r/Futurology/comments/a6paxa/gps_bikeshare_pro...     79     0   \n",
       "/r/Futurology/comments/a6mc3n/chinas_great_leap...    394     0   \n",
       "\n",
       "                                                   num_crossposts  \\\n",
       "/r/Futurology/comments/8r1jha/rfuturologys_offi...              0   \n",
       "/r/Futurology/comments/a6plqx/nasa_on_going_bac...              0   \n",
       "/r/Futurology/comments/a6loai/nearly_200_countr...              1   \n",
       "/r/Futurology/comments/a6paxa/gps_bikeshare_pro...              0   \n",
       "/r/Futurology/comments/a6mc3n/chinas_great_leap...              0   \n",
       "\n",
       "                                                   num_comments selftext  \n",
       "/r/Futurology/comments/8r1jha/rfuturologys_offi...           54           \n",
       "/r/Futurology/comments/a6plqx/nasa_on_going_bac...          850           \n",
       "/r/Futurology/comments/a6loai/nearly_200_countr...          539           \n",
       "/r/Futurology/comments/a6paxa/gps_bikeshare_pro...            2           \n",
       "/r/Futurology/comments/a6mc3n/chinas_great_leap...           98           "
      ]
     },
     "execution_count": 170,
     "metadata": {},
     "output_type": "execute_result"
    }
   ],
   "source": [
    "df.head()"
   ]
  },
  {
   "cell_type": "code",
   "execution_count": null,
   "metadata": {},
   "outputs": [],
   "source": [
    "\n",
    "soup = BeautifulSoup(response.text, \"lxml\")"
   ]
  },
  {
   "cell_type": "code",
   "execution_count": null,
   "metadata": {},
   "outputs": [],
   "source": []
  },
  {
   "cell_type": "code",
   "execution_count": null,
   "metadata": {},
   "outputs": [],
   "source": []
  },
  {
   "cell_type": "code",
   "execution_count": null,
   "metadata": {},
   "outputs": [],
   "source": []
  },
  {
   "cell_type": "code",
   "execution_count": null,
   "metadata": {},
   "outputs": [],
   "source": [
    "df.to_csv('./output.csv',index=False)"
   ]
  }
 ],
 "metadata": {
  "kernelspec": {
   "display_name": "Python 3",
   "language": "python",
   "name": "python3"
  },
  "language_info": {
   "codemirror_mode": {
    "name": "ipython",
    "version": 3
   },
   "file_extension": ".py",
   "mimetype": "text/x-python",
   "name": "python",
   "nbconvert_exporter": "python",
   "pygments_lexer": "ipython3",
   "version": "3.6.6"
  }
 },
 "nbformat": 4,
 "nbformat_minor": 2
}
