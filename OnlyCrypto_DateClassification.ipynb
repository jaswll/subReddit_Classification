{
 "cells": [
  {
   "cell_type": "code",
   "execution_count": 2,
   "metadata": {},
   "outputs": [],
   "source": [
    "%run Reddit_import_and_functions.ipynb\n",
    "\n",
    "pd.set_option('display.max_colwidth',350)"
   ]
  },
  {
   "cell_type": "code",
   "execution_count": 2,
   "metadata": {},
   "outputs": [
    {
     "name": "stdout",
     "output_type": "stream",
     "text": [
      "Train1Ytrain\n",
      "Train1dset\n",
      "Train2dset\n",
      "X_Train2\n",
      "columnsums\n",
      "columnsums/columnindextodrop\n",
      "columnsums/columnsumshalf0\n",
      "columnsums/columnsumshalf1\n",
      "environment\n",
      "rowsums\n",
      "rowsums/columnsumsCrypto\n",
      "rowsums/columnsumsEnv\n",
      "rowsums/columnsumsTrain2\n",
      "rowsums/crypto_dset\n",
      "rowsums/env_dset\n",
      "rowsums/rowsumsCrypto\n",
      "rowsums/rowsumsEnv\n",
      "rowsums/rowsumsTrain2\n",
      "rowsums/rowsumshalf0\n",
      "rowsums/rowsumshalf1\n",
      "y_train2\n"
     ]
    }
   ],
   "source": [
    "list_all_hdf5(\"masterdata.hdf5\")"
   ]
  },
  {
   "cell_type": "code",
   "execution_count": 3,
   "metadata": {},
   "outputs": [
    {
     "name": "stdout",
     "output_type": "stream",
     "text": [
      "(293358, 17847)\n"
     ]
    }
   ],
   "source": [
    "with h5py.File(\"masterdata.hdf5\", \"r\") as z:\n",
    "#     dset = z[\"rowsums/env_dset\"]\n",
    "#     X_train_env = dset[:]\n",
    "#     print(X_train_env.shape)\n",
    "    dset = z[\"rowsums/crypto_dset\"]\n",
    "    X_train_crypto = dset[:]\n",
    "    print(X_train_crypto.shape)"
   ]
  },
  {
   "cell_type": "code",
   "execution_count": 8,
   "metadata": {},
   "outputs": [
    {
     "data": {
      "text/plain": [
       "Index(['Unnamed: 0', 'index', 'datetime', 'corpus', 'permalink', 'author',\n",
       "       'subreddit'],\n",
       "      dtype='object')"
      ]
     },
     "execution_count": 8,
     "metadata": {},
     "output_type": "execute_result"
    }
   ],
   "source": [
    "dfraw = pd.read_csv('Train1allinfo.csv')\n",
    "dfraw.columns"
   ]
  },
  {
   "cell_type": "code",
   "execution_count": 5,
   "metadata": {},
   "outputs": [
    {
     "name": "stdout",
     "output_type": "stream",
     "text": [
      "293358\n"
     ]
    },
    {
     "data": {
      "text/plain": [
       "146787"
      ]
     },
     "execution_count": 5,
     "metadata": {},
     "output_type": "execute_result"
    }
   ],
   "source": [
    "envmask = dfraw['subreddit'].astype(bool)\n",
    "cryptomask = 1 - envmask\n",
    "cryptomask = cryptomask.astype(bool)\n",
    "print(cryptomask.sum())\n",
    "envmask.sum()"
   ]
  },
  {
   "cell_type": "code",
   "execution_count": 9,
   "metadata": {},
   "outputs": [],
   "source": [
    "df = dfraw[cryptomask]\n",
    "dfraw = None"
   ]
  },
  {
   "cell_type": "code",
   "execution_count": 6,
   "metadata": {},
   "outputs": [],
   "source": [
    "headers = pd.read_csv('masterFeaturesVector.csv')\n"
   ]
  },
  {
   "cell_type": "code",
   "execution_count": 10,
   "metadata": {},
   "outputs": [
    {
     "data": {
      "text/plain": [
       "(293358, 17847)"
      ]
     },
     "execution_count": 10,
     "metadata": {},
     "output_type": "execute_result"
    }
   ],
   "source": [
    "X_train_crypto = pd.DataFrame(data=X_train_crypto, dtype='int16', \n",
    "                      index=df.index)\n",
    "X_train_crypto.shape"
   ]
  },
  {
   "cell_type": "code",
   "execution_count": 14,
   "metadata": {},
   "outputs": [],
   "source": [
    "df['datetime'].sort_values(ascending=False) # 1.545105e+09\n",
    "df['datetime'].sort_values() # 1.504570e+09\n",
    "endtimestamp = 1.545105e+09\n",
    "starttimestamp = 1.504570e+09"
   ]
  },
  {
   "cell_type": "code",
   "execution_count": 18,
   "metadata": {},
   "outputs": [],
   "source": [
    "date_stamp0 = datetime.datetime.utcfromtimestamp(int(starttimestamp)).timestamp()\n"
   ]
  },
  {
   "cell_type": "code",
   "execution_count": 19,
   "metadata": {},
   "outputs": [
    {
     "data": {
      "text/plain": [
       "(2017, 9, 5, 0, 40)"
      ]
     },
     "execution_count": 19,
     "metadata": {},
     "output_type": "execute_result"
    }
   ],
   "source": [
    "date_tuple = datetime.datetime.utcfromtimestamp(int(starttimestamp))\n",
    "year = date_tuple.year\n",
    "month = date_tuple.month\n",
    "day = date_tuple.day\n",
    "hour = date_tuple.hour\n",
    "second = date_tuple.second\n",
    "year, month, day, hour, second"
   ]
  },
  {
   "cell_type": "code",
   "execution_count": 21,
   "metadata": {},
   "outputs": [],
   "source": [
    "date_stamp1 = datetime.datetime(2017, 12, 17, 0, 40).timestamp()\n",
    "date_stamp2start = datetime.datetime(2017, 12, 19, 0, 40).timestamp()\n",
    "date_stamp2 = datetime.datetime(2018, 2, 8, 0, 40).timestamp()\n",
    "date_stamp3 = datetime.datetime(2018, 7, 1, 0, 40).timestamp()\n",
    "date_stamp4 = datetime.datetime(2018, 10, 1, 0, 40).timestamp()"
   ]
  },
  {
   "cell_type": "code",
   "execution_count": 22,
   "metadata": {},
   "outputs": [
    {
     "data": {
      "text/plain": [
       "54635"
      ]
     },
     "execution_count": 22,
     "metadata": {},
     "output_type": "execute_result"
    }
   ],
   "source": [
    "years1mask = (df['datetime'] > date_stamp0) & (df['datetime'] < date_stamp1)\n",
    "years1mask.sum()"
   ]
  },
  {
   "cell_type": "code",
   "execution_count": 23,
   "metadata": {},
   "outputs": [
    {
     "data": {
      "text/plain": [
       "71310"
      ]
     },
     "execution_count": 23,
     "metadata": {},
     "output_type": "execute_result"
    }
   ],
   "source": [
    "years2mask = (df['datetime'] > date_stamp2start) & (df['datetime'] < date_stamp2)\n",
    "years2mask.sum()"
   ]
  },
  {
   "cell_type": "code",
   "execution_count": 24,
   "metadata": {},
   "outputs": [
    {
     "data": {
      "text/plain": [
       "44430"
      ]
     },
     "execution_count": 24,
     "metadata": {},
     "output_type": "execute_result"
    }
   ],
   "source": [
    "years3mask = (df['datetime'] > date_stamp3) & (df['datetime'] < date_stamp4)\n",
    "years3mask.sum()"
   ]
  },
  {
   "cell_type": "code",
   "execution_count": 25,
   "metadata": {},
   "outputs": [],
   "source": [
    "with h5py.File(\"masterdata.hdf5\",'a') as f :\n",
    "    dset = f['columnsums/columnindextodrop']\n",
    "    columnindextodrop = dset[:]"
   ]
  },
  {
   "cell_type": "code",
   "execution_count": 24,
   "metadata": {},
   "outputs": [
    {
     "name": "stdout",
     "output_type": "stream",
     "text": [
      "10584\n"
     ]
    }
   ],
   "source": [
    "keepcols = set(range(17847)).symmetric_difference(columnindextodrop)\n",
    "print(len(keepcols))\n",
    "keepcols = list(keepcols)"
   ]
  },
  {
   "cell_type": "code",
   "execution_count": 26,
   "metadata": {},
   "outputs": [],
   "source": [
    "X_train_crypto.drop(columnindextodrop, axis=1, inplace=True)"
   ]
  },
  {
   "cell_type": "code",
   "execution_count": 27,
   "metadata": {},
   "outputs": [],
   "source": [
    "X_train_crypto.loc[df[years1mask].index,'date_class'] = 0"
   ]
  },
  {
   "cell_type": "code",
   "execution_count": 28,
   "metadata": {},
   "outputs": [],
   "source": [
    "X_train_crypto.loc[df[years2mask].index,'date_class'] = 1"
   ]
  },
  {
   "cell_type": "code",
   "execution_count": 29,
   "metadata": {},
   "outputs": [],
   "source": [
    "X_train_crypto.loc[df[years3mask].index,'date_class'] = 2"
   ]
  },
  {
   "cell_type": "code",
   "execution_count": 30,
   "metadata": {},
   "outputs": [
    {
     "data": {
      "text/plain": [
       "1.0    71310\n",
       "0.0    54635\n",
       "2.0    44430\n",
       "Name: date_class, dtype: int64"
      ]
     },
     "execution_count": 30,
     "metadata": {},
     "output_type": "execute_result"
    }
   ],
   "source": [
    "X_train_crypto['date_class'].value_counts()"
   ]
  },
  {
   "cell_type": "code",
   "execution_count": 31,
   "metadata": {},
   "outputs": [
    {
     "data": {
      "text/plain": [
       "(293358, 10585)"
      ]
     },
     "execution_count": 31,
     "metadata": {},
     "output_type": "execute_result"
    }
   ],
   "source": [
    "X_train_crypto.shape"
   ]
  },
  {
   "cell_type": "code",
   "execution_count": 32,
   "metadata": {},
   "outputs": [],
   "source": [
    "X_train_crypto.dropna(axis=0, inplace=True)"
   ]
  },
  {
   "cell_type": "code",
   "execution_count": 33,
   "metadata": {},
   "outputs": [
    {
     "data": {
      "text/plain": [
       "(170375, 10585)"
      ]
     },
     "execution_count": 33,
     "metadata": {},
     "output_type": "execute_result"
    }
   ],
   "source": [
    "X_train_crypto.shape"
   ]
  },
  {
   "cell_type": "code",
   "execution_count": 34,
   "metadata": {},
   "outputs": [
    {
     "name": "stderr",
     "output_type": "stream",
     "text": [
      "C:\\Users\\Jason\\AppData\\Local\\conda\\conda\\envs\\DSI-6\\lib\\site-packages\\sklearn\\model_selection\\_split.py:2026: FutureWarning: From version 0.21, test_size will always complement train_size unless both are specified.\n",
      "  FutureWarning)\n"
     ]
    }
   ],
   "source": [
    "X_train, X_test, y_train, y_test = train_test_split(X_train_crypto.drop('date_class',axis=1), \n",
    "                                                    X_train_crypto['date_class'],train_size=0.5)"
   ]
  },
  {
   "cell_type": "code",
   "execution_count": 35,
   "metadata": {},
   "outputs": [],
   "source": [
    "# all parameters will be kept at default except possible tweaking of alpha\n",
    "nb = MultinomialNB(alpha=1.0, fit_prior=True, class_prior=None)\n",
    "nbmodel = nb.fit(X_train, y_train)"
   ]
  },
  {
   "cell_type": "code",
   "execution_count": 36,
   "metadata": {},
   "outputs": [],
   "source": [
    "pred1 = nbmodel.predict(X_train)\n",
    "predtest = nbmodel.predict(X_test)"
   ]
  },
  {
   "cell_type": "code",
   "execution_count": 37,
   "metadata": {},
   "outputs": [],
   "source": [
    "results = pd.DataFrame(index=X_train_crypto.index)"
   ]
  },
  {
   "cell_type": "code",
   "execution_count": 38,
   "metadata": {},
   "outputs": [],
   "source": [
    "predfinal = pd.Series(data=pred1, index=X_train.index, name='nb3_pred')"
   ]
  },
  {
   "cell_type": "code",
   "execution_count": 39,
   "metadata": {},
   "outputs": [],
   "source": [
    "results['nb3_pred'] = predfinal"
   ]
  },
  {
   "cell_type": "code",
   "execution_count": 40,
   "metadata": {},
   "outputs": [],
   "source": [
    "results['nb3_errors'] = results['nb3_pred'] - y_train"
   ]
  },
  {
   "cell_type": "code",
   "execution_count": 41,
   "metadata": {},
   "outputs": [
    {
     "data": {
      "text/plain": [
       "array([[13676,  9427,  4164],\n",
       "       [ 5776, 25100,  4859],\n",
       "       [ 2631,  4630, 14924]], dtype=int64)"
      ]
     },
     "execution_count": 41,
     "metadata": {},
     "output_type": "execute_result"
    }
   ],
   "source": [
    "confusion_matrix(y_train, predfinal)"
   ]
  },
  {
   "cell_type": "code",
   "execution_count": 42,
   "metadata": {
    "scrolled": false
   },
   "outputs": [
    {
     "data": {
      "text/plain": [
       "array([[0.16054093, 0.11066243, 0.0488807 ],\n",
       "       [0.06780377, 0.2946459 , 0.05703922],\n",
       "       [0.03088499, 0.05435102, 0.17519105]])"
      ]
     },
     "execution_count": 42,
     "metadata": {},
     "output_type": "execute_result"
    }
   ],
   "source": [
    "confusion_matrix(y_train, predfinal) / y_train.shape[0]"
   ]
  },
  {
   "cell_type": "code",
   "execution_count": 43,
   "metadata": {},
   "outputs": [
    {
     "data": {
      "text/plain": [
       "array([[12674,  9926,  4768],\n",
       "       [ 6203, 24362,  5010],\n",
       "       [ 2915,  4891, 14439]], dtype=int64)"
      ]
     },
     "execution_count": 43,
     "metadata": {},
     "output_type": "execute_result"
    }
   ],
   "source": [
    "confusion_matrix(y_test, predtest)"
   ]
  },
  {
   "cell_type": "code",
   "execution_count": 44,
   "metadata": {
    "scrolled": true
   },
   "outputs": [
    {
     "data": {
      "text/plain": [
       "array([[0.14877682, 0.11651876, 0.05597032],\n",
       "       [0.07281542, 0.28597925, 0.0588111 ],\n",
       "       [0.03421843, 0.05741419, 0.1694957 ]])"
      ]
     },
     "execution_count": 44,
     "metadata": {},
     "output_type": "execute_result"
    }
   ],
   "source": [
    "confusion_matrix(y_test, predtest) / y_test.shape[0]"
   ]
  },
  {
   "cell_type": "code",
   "execution_count": null,
   "metadata": {},
   "outputs": [],
   "source": [
    "results.to_csv('crypto_nbdates.csv')"
   ]
  }
 ],
 "metadata": {
  "kernelspec": {
   "display_name": "Python 3",
   "language": "python",
   "name": "python3"
  },
  "language_info": {
   "codemirror_mode": {
    "name": "ipython",
    "version": 3
   },
   "file_extension": ".py",
   "mimetype": "text/x-python",
   "name": "python",
   "nbconvert_exporter": "python",
   "pygments_lexer": "ipython3",
   "version": "3.6.6"
  }
 },
 "nbformat": 4,
 "nbformat_minor": 2
}
