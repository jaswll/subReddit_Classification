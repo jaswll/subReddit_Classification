{
 "cells": [
  {
   "cell_type": "code",
   "execution_count": 1,
   "metadata": {},
   "outputs": [],
   "source": [
    "%run Reddit_import_and_functions.ipynb\n",
    "\n",
    "#import scipy.sparse"
   ]
  },
  {
   "cell_type": "markdown",
   "metadata": {},
   "source": [
    "## Load in Word Corpus of Each Subreddit and Count Vectorize"
   ]
  },
  {
   "cell_type": "code",
   "execution_count": 2,
   "metadata": {},
   "outputs": [],
   "source": [
    "df3 = pd.read_csv('environmentLemma.csv',index_col='index',na_filter=False)\n",
    "df3.rename({'Unnamed: 0' : 'index'}, axis=1, inplace=True)"
   ]
  },
  {
   "cell_type": "code",
   "execution_count": 3,
   "metadata": {},
   "outputs": [
    {
     "name": "stdout",
     "output_type": "stream",
     "text": [
      "<class 'pandas.core.frame.DataFrame'>\n",
      "Int64Index: 195717 entries, 0 to 166\n",
      "Data columns (total 5 columns):\n",
      "index        195717 non-null int64\n",
      "datetime     195717 non-null float64\n",
      "corpus       195717 non-null object\n",
      "permalink    195717 non-null object\n",
      "author       195717 non-null object\n",
      "dtypes: float64(1), int64(1), object(3)\n",
      "memory usage: 9.0+ MB\n"
     ]
    }
   ],
   "source": [
    "df3.info()"
   ]
  },
  {
   "cell_type": "code",
   "execution_count": 4,
   "metadata": {},
   "outputs": [
    {
     "data": {
      "text/plain": [
       "195717"
      ]
     },
     "execution_count": 4,
     "metadata": {},
     "output_type": "execute_result"
    }
   ],
   "source": [
    "len(set(df3['index']))"
   ]
  },
  {
   "cell_type": "code",
   "execution_count": 3,
   "metadata": {},
   "outputs": [],
   "source": [
    "df2 = pd.read_csv('cryptocurrencyLemma.csv',index_col='index',na_filter=False)\n",
    "df2.rename({'Unnamed: 0' : 'index'}, axis=1, inplace=True)"
   ]
  },
  {
   "cell_type": "code",
   "execution_count": 6,
   "metadata": {},
   "outputs": [
    {
     "data": {
      "text/html": [
       "<div>\n",
       "<style scoped>\n",
       "    .dataframe tbody tr th:only-of-type {\n",
       "        vertical-align: middle;\n",
       "    }\n",
       "\n",
       "    .dataframe tbody tr th {\n",
       "        vertical-align: top;\n",
       "    }\n",
       "\n",
       "    .dataframe thead th {\n",
       "        text-align: right;\n",
       "    }\n",
       "</style>\n",
       "<table border=\"1\" class=\"dataframe\">\n",
       "  <thead>\n",
       "    <tr style=\"text-align: right;\">\n",
       "      <th></th>\n",
       "      <th>index</th>\n",
       "      <th>datetime</th>\n",
       "      <th>corpus</th>\n",
       "      <th>permalink</th>\n",
       "      <th>author</th>\n",
       "    </tr>\n",
       "    <tr>\n",
       "      <th>index</th>\n",
       "      <th></th>\n",
       "      <th></th>\n",
       "      <th></th>\n",
       "      <th></th>\n",
       "      <th></th>\n",
       "    </tr>\n",
       "  </thead>\n",
       "  <tbody>\n",
       "    <tr>\n",
       "      <th>0</th>\n",
       "      <td>0</td>\n",
       "      <td>1.545075e+09</td>\n",
       "      <td>list today tomorrow upcoming event bring upco...</td>\n",
       "      <td>https://www.reddit.com/r/CryptoCurrency/commen...</td>\n",
       "      <td>cryptocalbot</td>\n",
       "    </tr>\n",
       "    <tr>\n",
       "      <th>1</th>\n",
       "      <td>1</td>\n",
       "      <td>1.545075e+09</td>\n",
       "      <td>recovery finally bitcoin ripple xrp ethereum ...</td>\n",
       "      <td>https://www.reddit.com/r/CryptoCurrency/commen...</td>\n",
       "      <td>keeper151515</td>\n",
       "    </tr>\n",
       "    <tr>\n",
       "      <th>2</th>\n",
       "      <td>2</td>\n",
       "      <td>1.545077e+09</td>\n",
       "      <td>greedy redd zwvj jpg</td>\n",
       "      <td>https://www.reddit.com/r/CryptoCurrency/commen...</td>\n",
       "      <td>Hold-and-hope</td>\n",
       "    </tr>\n",
       "    <tr>\n",
       "      <th>3</th>\n",
       "      <td>3</td>\n",
       "      <td>1.545076e+09</td>\n",
       "      <td>spend usd usd invest gain token price be ath ...</td>\n",
       "      <td>https://www.reddit.com/r/CryptoCurrency/commen...</td>\n",
       "      <td>callmeiguesspotato</td>\n",
       "    </tr>\n",
       "    <tr>\n",
       "      <th>4</th>\n",
       "      <td>4</td>\n",
       "      <td>1.545073e+09</td>\n",
       "      <td>vechain financial executive report vol medium...</td>\n",
       "      <td>https://www.reddit.com/r/CryptoCurrency/commen...</td>\n",
       "      <td>Balleuuh</td>\n",
       "    </tr>\n",
       "  </tbody>\n",
       "</table>\n",
       "</div>"
      ],
      "text/plain": [
       "       index      datetime                                             corpus  \\\n",
       "index                                                                           \n",
       "0          0  1.545075e+09   list today tomorrow upcoming event bring upco...   \n",
       "1          1  1.545075e+09   recovery finally bitcoin ripple xrp ethereum ...   \n",
       "2          2  1.545077e+09                               greedy redd zwvj jpg   \n",
       "3          3  1.545076e+09   spend usd usd invest gain token price be ath ...   \n",
       "4          4  1.545073e+09   vechain financial executive report vol medium...   \n",
       "\n",
       "                                               permalink              author  \n",
       "index                                                                         \n",
       "0      https://www.reddit.com/r/CryptoCurrency/commen...        cryptocalbot  \n",
       "1      https://www.reddit.com/r/CryptoCurrency/commen...        keeper151515  \n",
       "2      https://www.reddit.com/r/CryptoCurrency/commen...       Hold-and-hope  \n",
       "3      https://www.reddit.com/r/CryptoCurrency/commen...  callmeiguesspotato  \n",
       "4      https://www.reddit.com/r/CryptoCurrency/commen...            Balleuuh  "
      ]
     },
     "execution_count": 6,
     "metadata": {},
     "output_type": "execute_result"
    }
   ],
   "source": [
    "df2.head()"
   ]
  },
  {
   "cell_type": "code",
   "execution_count": 4,
   "metadata": {},
   "outputs": [
    {
     "data": {
      "text/plain": [
       "391144"
      ]
     },
     "execution_count": 4,
     "metadata": {},
     "output_type": "execute_result"
    }
   ],
   "source": [
    "len(set(df2['index']))"
   ]
  },
  {
   "cell_type": "code",
   "execution_count": 5,
   "metadata": {},
   "outputs": [],
   "source": [
    "def getSubreddit(url) :\n",
    "    if url.startswith('https://www.reddit.com/r/CryptoCurrency') : return 0\n",
    "    else : return 1"
   ]
  },
  {
   "cell_type": "code",
   "execution_count": 6,
   "metadata": {},
   "outputs": [],
   "source": [
    "df = df2.append(df3, ignore_index=True)  # Master Dataset for Count Vectorize"
   ]
  },
  {
   "cell_type": "code",
   "execution_count": 7,
   "metadata": {
    "scrolled": true
   },
   "outputs": [
    {
     "name": "stdout",
     "output_type": "stream",
     "text": [
      "<class 'pandas.core.frame.DataFrame'>\n",
      "RangeIndex: 586861 entries, 0 to 586860\n",
      "Data columns (total 5 columns):\n",
      "index        586861 non-null int64\n",
      "datetime     586861 non-null float64\n",
      "corpus       586861 non-null object\n",
      "permalink    586861 non-null object\n",
      "author       586861 non-null object\n",
      "dtypes: float64(1), int64(1), object(3)\n",
      "memory usage: 22.4+ MB\n"
     ]
    }
   ],
   "source": [
    "df.info()"
   ]
  },
  {
   "cell_type": "code",
   "execution_count": 8,
   "metadata": {},
   "outputs": [],
   "source": [
    "y = df['permalink'].map(getSubreddit)\n",
    "Xtrain, Xtest, ytrain, ytest = train_test_split(df,\n",
    "                                                y,\n",
    "                                                random_state = 42,\n",
    "                                                stratify = y)"
   ]
  },
  {
   "cell_type": "code",
   "execution_count": 9,
   "metadata": {},
   "outputs": [
    {
     "name": "stderr",
     "output_type": "stream",
     "text": [
      "C:\\Users\\Jason\\AppData\\Local\\conda\\conda\\envs\\DSI-6\\lib\\site-packages\\ipykernel_launcher.py:1: SettingWithCopyWarning: \n",
      "A value is trying to be set on a copy of a slice from a DataFrame.\n",
      "Try using .loc[row_indexer,col_indexer] = value instead\n",
      "\n",
      "See the caveats in the documentation: http://pandas.pydata.org/pandas-docs/stable/indexing.html#indexing-view-versus-copy\n",
      "  \"\"\"Entry point for launching an IPython kernel.\n"
     ]
    }
   ],
   "source": [
    "Xtrain['subreddit'] = ytrain"
   ]
  },
  {
   "cell_type": "code",
   "execution_count": 11,
   "metadata": {},
   "outputs": [
    {
     "name": "stderr",
     "output_type": "stream",
     "text": [
      "C:\\Users\\Jason\\AppData\\Local\\conda\\conda\\envs\\DSI-6\\lib\\site-packages\\ipykernel_launcher.py:1: SettingWithCopyWarning: \n",
      "A value is trying to be set on a copy of a slice from a DataFrame.\n",
      "Try using .loc[row_indexer,col_indexer] = value instead\n",
      "\n",
      "See the caveats in the documentation: http://pandas.pydata.org/pandas-docs/stable/indexing.html#indexing-view-versus-copy\n",
      "  \"\"\"Entry point for launching an IPython kernel.\n"
     ]
    },
    {
     "data": {
      "text/plain": [
       "(146716, 6)"
      ]
     },
     "execution_count": 11,
     "metadata": {},
     "output_type": "execute_result"
    }
   ],
   "source": [
    "Xtest['subreddit'] = ytest\n",
    "Xtest.shape"
   ]
  },
  {
   "cell_type": "code",
   "execution_count": 12,
   "metadata": {},
   "outputs": [],
   "source": [
    "Xtest.to_csv('Test1allinfo.csv')\n"
   ]
  },
  {
   "cell_type": "code",
   "execution_count": 13,
   "metadata": {},
   "outputs": [],
   "source": [
    "Xtrain.to_csv('Train1allinfo.csv')\n",
    "\n",
    "# with h5py.File(\"masterdata.hdf5\", \"a\") as z:\n",
    "#     dset = z.create_dataset(\"Train1allinfo\", data=Xtrain)\n",
    "#     print(dset.shape)"
   ]
  },
  {
   "cell_type": "code",
   "execution_count": 9,
   "metadata": {},
   "outputs": [],
   "source": [
    "regexcondition = r'\\b[a-zA-Z]{3,30}\\b' # Tokens must be below 31 letters and more than 3 (checking again)\n",
    "vect = CountVectorizer(dtype='uint16',min_df=15, token_pattern=regexcondition, \n",
    "                       strip_accents='ascii', decode_error='ignore', lowercase=True) \n",
    "# no stop_words here as that's implemented in function getLemofRow\n",
    "# A word must have 15+ occurences to make it into vector, and if there's non-ascii characters just ignore\n",
    "# no ngram_range due to computer hardware already maxing out"
   ]
  },
  {
   "cell_type": "code",
   "execution_count": 10,
   "metadata": {},
   "outputs": [],
   "source": [
    "X_text = vect.fit_transform(Xtrain['corpus'])\n",
    "# X_text = vect.fit_transform(df2['corpus'].append(df3['corpus'], ignore_index=True))"
   ]
  },
  {
   "cell_type": "code",
   "execution_count": 5,
   "metadata": {},
   "outputs": [],
   "source": [
    "# vectfit = vect.fit(df2['corpus'].append(df3['corpus'], ignore_index=True))"
   ]
  },
  {
   "cell_type": "code",
   "execution_count": 48,
   "metadata": {},
   "outputs": [],
   "source": [
    "# scipy.sparse.save_npz('sparse_matrix.npz', X_text)"
   ]
  },
  {
   "cell_type": "markdown",
   "metadata": {
    "heading_collapsed": true
   },
   "source": [
    "#### (Dead end) Re-Load Count Vectorized Sparse Matrix and Continue (due to memory constraints)"
   ]
  },
  {
   "cell_type": "code",
   "execution_count": 2,
   "metadata": {
    "hidden": true
   },
   "outputs": [],
   "source": [
    "# X_text = scipy.sparse.load_npz('sparse_matrix.npz')"
   ]
  },
  {
   "cell_type": "code",
   "execution_count": 3,
   "metadata": {
    "hidden": true
   },
   "outputs": [
    {
     "data": {
      "text/plain": [
       "(586861, 42832)"
      ]
     },
     "execution_count": 3,
     "metadata": {},
     "output_type": "execute_result"
    }
   ],
   "source": [
    "# X_text.shape  # 42.8k unique tokens/words in corpus"
   ]
  },
  {
   "cell_type": "code",
   "execution_count": 9,
   "metadata": {
    "hidden": true
   },
   "outputs": [],
   "source": [
    "dfvect = pd.DataFrame(columns=vect.get_feature_names(),dtype='int16')\n",
    "dfvect = dfvect.astype('uint16')"
   ]
  },
  {
   "cell_type": "code",
   "execution_count": 11,
   "metadata": {
    "hidden": true
   },
   "outputs": [
    {
     "name": "stdout",
     "output_type": "stream",
     "text": [
      "<class 'pandas.core.frame.DataFrame'>\n",
      "Index: 0 entries\n",
      "Columns: 17847 entries, aaa to zyskind\n",
      "dtypes: uint16(17847)\n",
      "memory usage: 0.0+ bytes\n"
     ]
    }
   ],
   "source": [
    "dfvect.info()"
   ]
  },
  {
   "cell_type": "code",
   "execution_count": 19,
   "metadata": {
    "hidden": true
   },
   "outputs": [
    {
     "data": {
      "text/html": [
       "<div>\n",
       "<style scoped>\n",
       "    .dataframe tbody tr th:only-of-type {\n",
       "        vertical-align: middle;\n",
       "    }\n",
       "\n",
       "    .dataframe tbody tr th {\n",
       "        vertical-align: top;\n",
       "    }\n",
       "\n",
       "    .dataframe thead th {\n",
       "        text-align: right;\n",
       "    }\n",
       "</style>\n",
       "<table border=\"1\" class=\"dataframe\">\n",
       "  <thead>\n",
       "    <tr style=\"text-align: right;\">\n",
       "      <th></th>\n",
       "      <th>aaa</th>\n",
       "      <th>aaabag</th>\n",
       "      <th>aaabead</th>\n",
       "      <th>aab</th>\n",
       "      <th>aac</th>\n",
       "      <th>aad</th>\n",
       "      <th>aae</th>\n",
       "      <th>aaf</th>\n",
       "      <th>aantonop</th>\n",
       "      <th>aapl</th>\n",
       "      <th>aaron</th>\n",
       "      <th>aattp</th>\n",
       "      <th>aautomoderator</th>\n",
       "      <th>aba</th>\n",
       "      <th>abacus</th>\n",
       "      <th>abandon</th>\n",
       "      <th>abatement</th>\n",
       "      <th>abb</th>\n",
       "      <th>abbc</th>\n",
       "      <th>abbot</th>\n",
       "      <th>abbott</th>\n",
       "      <th>abbotts</th>\n",
       "      <th>abbreviation</th>\n",
       "      <th>abc</th>\n",
       "      <th>abcc</th>\n",
       "      <th>abcnews</th>\n",
       "      <th>abcov</th>\n",
       "      <th>abd</th>\n",
       "      <th>abe</th>\n",
       "      <th>aberdeen</th>\n",
       "      <th>abf</th>\n",
       "      <th>abi</th>\n",
       "      <th>abide</th>\n",
       "      <th>ability</th>\n",
       "      <th>abitcoinresource</th>\n",
       "      <th>able</th>\n",
       "      <th>abn</th>\n",
       "      <th>abnormal</th>\n",
       "      <th>abnormality</th>\n",
       "      <th>abnormally</th>\n",
       "      <th>aboard</th>\n",
       "      <th>abolish</th>\n",
       "      <th>abolishthebitlicense</th>\n",
       "      <th>aboriginal</th>\n",
       "      <th>abortion</th>\n",
       "      <th>...</th>\n",
       "      <th>zerocash</th>\n",
       "      <th>zerocoin</th>\n",
       "      <th>zerocrypted</th>\n",
       "      <th>zerohedge</th>\n",
       "      <th>zerowaste</th>\n",
       "      <th>zhang</th>\n",
       "      <th>zhao</th>\n",
       "      <th>zhejiang</th>\n",
       "      <th>zhong</th>\n",
       "      <th>zhou</th>\n",
       "      <th>zhu</th>\n",
       "      <th>zika</th>\n",
       "      <th>zil</th>\n",
       "      <th>ziliqa</th>\n",
       "      <th>zilliqa</th>\n",
       "      <th>zimbabwe</th>\n",
       "      <th>zimbabwean</th>\n",
       "      <th>zinc</th>\n",
       "      <th>zinke</th>\n",
       "      <th>zinkes</th>\n",
       "      <th>zion</th>\n",
       "      <th>zip</th>\n",
       "      <th>zippie</th>\n",
       "      <th>zksnarks</th>\n",
       "      <th>zmescience</th>\n",
       "      <th>znodes</th>\n",
       "      <th>zoi</th>\n",
       "      <th>zoin</th>\n",
       "      <th>zombie</th>\n",
       "      <th>zone</th>\n",
       "      <th>zoo</th>\n",
       "      <th>zooko</th>\n",
       "      <th>zoom</th>\n",
       "      <th>zpiv</th>\n",
       "      <th>zpos</th>\n",
       "      <th>zpt</th>\n",
       "      <th>zrx</th>\n",
       "      <th>zuckerberg</th>\n",
       "      <th>zuckerbergs</th>\n",
       "      <th>zug</th>\n",
       "      <th>zupply</th>\n",
       "      <th>zurich</th>\n",
       "      <th>zycrypto</th>\n",
       "      <th>zynga</th>\n",
       "      <th>zyskind</th>\n",
       "    </tr>\n",
       "  </thead>\n",
       "  <tbody>\n",
       "  </tbody>\n",
       "</table>\n",
       "<p>0 rows × 21774 columns</p>\n",
       "</div>"
      ],
      "text/plain": [
       "Empty DataFrame\n",
       "Columns: [aaa, aaabag, aaabead, aab, aac, aad, aae, aaf, aantonop, aapl, aaron, aattp, aautomoderator, aba, abacus, abandon, abatement, abb, abbc, abbot, abbott, abbotts, abbreviation, abc, abcc, abcnews, abcov, abd, abe, aberdeen, abf, abi, abide, ability, abitcoinresource, able, abn, abnormal, abnormality, abnormally, aboard, abolish, abolishthebitlicense, aboriginal, abortion, abound, abqjournal, abra, abraham, abraj, abroad, abrupt, abruptly, absence, absent, absolute, absolutely, absorb, absorbed, absorbs, absorption, abstract, abstraction, absurd, absurdity, absurdly, abt, abtc, abu, abundance, abundant, abuse, abusive, abysmal, abyss, aca, academia, academic, academy, acc, accelerate, accelerates, acceleration, accelerator, accent, accenture, accept, acceptable, acceptance, accepted, accepts, acces, access, accessibility, accessible, accessory, acchain, accident, accidental, accidentally, ...]\n",
       "Index: []\n",
       "\n",
       "[0 rows x 21774 columns]"
      ]
     },
     "execution_count": 19,
     "metadata": {},
     "output_type": "execute_result"
    }
   ],
   "source": [
    "dfvect.tail()"
   ]
  },
  {
   "cell_type": "code",
   "execution_count": 13,
   "metadata": {
    "hidden": true
   },
   "outputs": [
    {
     "name": "stdout",
     "output_type": "stream",
     "text": [
      "0\n",
      "1\n",
      "2\n",
      "3\n",
      "4\n",
      "5\n",
      "6\n",
      "7\n",
      "8\n",
      "9\n"
     ]
    }
   ],
   "source": [
    "# dfvect = fit1000rows(df2,0,10, dfvect, vectfit, vect)"
   ]
  },
  {
   "cell_type": "code",
   "execution_count": 12,
   "metadata": {
    "hidden": true
   },
   "outputs": [],
   "source": [
    "# def fit1000rows(df, n0, n1, dfvect, vectfit, vect) :\n",
    "#     for x in range(n0,n1) :\n",
    "#         rowsdf = pd.DataFrame(vectfit.transform(df.loc[x*1000:((x+1)*1000-1),'corpus']).toarray(),\n",
    "#                      columns=vect.get_feature_names())\n",
    "#         print(x)\n",
    "#         dfvect = pd.concat([dfvect, rowsdf], ignore_index=True)\n",
    "#     return dfvect"
   ]
  },
  {
   "cell_type": "markdown",
   "metadata": {},
   "source": [
    "## Exporting Word Counts Master Matrix (matrix X) and Master Features Vector (headers of X) for all other notebooks"
   ]
  },
  {
   "cell_type": "code",
   "execution_count": 1,
   "metadata": {
    "collapsed": true
   },
   "outputs": [
    {
     "ename": "NameError",
     "evalue": "name 'pd' is not defined",
     "output_type": "error",
     "traceback": [
      "\u001b[1;31m---------------------------------------------------------------------------\u001b[0m",
      "\u001b[1;31mNameError\u001b[0m                                 Traceback (most recent call last)",
      "\u001b[1;32m<ipython-input-1-d3a1725e52fe>\u001b[0m in \u001b[0;36m<module>\u001b[1;34m()\u001b[0m\n\u001b[1;32m----> 1\u001b[1;33m \u001b[0mpd\u001b[0m\u001b[1;33m.\u001b[0m\u001b[0mSeries\u001b[0m\u001b[1;33m(\u001b[0m\u001b[1;33m[\u001b[0m\u001b[1;34m'features'\u001b[0m\u001b[1;33m]\u001b[0m\u001b[1;33m.\u001b[0m\u001b[0mextend\u001b[0m\u001b[1;33m(\u001b[0m\u001b[0mvect\u001b[0m\u001b[1;33m.\u001b[0m\u001b[0mget_feature_names\u001b[0m\u001b[1;33m(\u001b[0m\u001b[1;33m)\u001b[0m\u001b[1;33m)\u001b[0m\u001b[1;33m)\u001b[0m\u001b[1;33m.\u001b[0m\u001b[0mto_csv\u001b[0m\u001b[1;33m(\u001b[0m\u001b[1;34m'masterFeaturesVector.csv'\u001b[0m\u001b[1;33m)\u001b[0m\u001b[1;33m\u001b[0m\u001b[0m\n\u001b[0m",
      "\u001b[1;31mNameError\u001b[0m: name 'pd' is not defined"
     ]
    }
   ],
   "source": [
    "pd.Series(['features'].extend(vect.get_feature_names())).to_csv('masterFeaturesVector.csv')"
   ]
  },
  {
   "cell_type": "code",
   "execution_count": 15,
   "metadata": {},
   "outputs": [],
   "source": [
    "# Hoping this helps free up memory, depending on the python garbage collector\n",
    "df = None\n",
    "df2 = None\n",
    "df3 = None"
   ]
  },
  {
   "cell_type": "code",
   "execution_count": 16,
   "metadata": {},
   "outputs": [],
   "source": [
    "# Going from sparse to dense numpy array produces memory error for dtype int64\n",
    "# Therefore will downcast to uint8, max value 255 so a few very strange posts with over 255 occurrences\n",
    "# of one word will be artificially capped, the max count was 375, but I don't think, given this is very\n",
    "# low frequency, this will detract from the model's predictive power\n",
    "dfvect = pd.DataFrame(X_text.toarray(),dtype='uint16',columns=vect.get_feature_names(),index=Xtrain.index)"
   ]
  },
  {
   "cell_type": "code",
   "execution_count": null,
   "metadata": {},
   "outputs": [],
   "source": []
  },
  {
   "cell_type": "code",
   "execution_count": 20,
   "metadata": {
    "scrolled": true
   },
   "outputs": [
    {
     "data": {
      "text/plain": [
       "(440145, 17847)"
      ]
     },
     "execution_count": 20,
     "metadata": {},
     "output_type": "execute_result"
    }
   ],
   "source": [
    "dfvect.shape"
   ]
  },
  {
   "cell_type": "markdown",
   "metadata": {},
   "source": [
    "### Convert X to regular matrix from sparse and save that to HDF5 on-disk access dataset"
   ]
  },
  {
   "cell_type": "code",
   "execution_count": 94,
   "metadata": {},
   "outputs": [
    {
     "name": "stdout",
     "output_type": "stream",
     "text": [
      "/Train1dset\n"
     ]
    }
   ],
   "source": [
    "with h5py.File(\"masterdata.hdf5\", \"w\") as z:\n",
    "# dfvect.to_hdf('dfvect.h5','test', mode='w', append=True, complevel=9, complib='blosc')\n",
    "    dset = z.create_dataset(\"Train1dset\", data=dfvect, dtype='i2', compression=\"lzf\", shuffle=True)\n",
    "    print(dset.shape)"
   ]
  },
  {
   "cell_type": "code",
   "execution_count": 96,
   "metadata": {},
   "outputs": [
    {
     "name": "stdout",
     "output_type": "stream",
     "text": [
      "ItemsViewHDF5(<HDF5 file \"masterdata.hdf5\" (mode r+)>)\n",
      "(440145, 17847)\n"
     ]
    }
   ],
   "source": [
    "with h5py.File(\"masterdata.hdf5\") as z:\n",
    "    print(z.items())\n",
    "    print(z['/Train1dset'].shape)"
   ]
  },
  {
   "cell_type": "code",
   "execution_count": 97,
   "metadata": {},
   "outputs": [
    {
     "name": "stdout",
     "output_type": "stream",
     "text": [
      "(440145, 17847)\n"
     ]
    }
   ],
   "source": [
    "with h5py.File(\"masterdata.hdf5\") as z:\n",
    "    dset = z['Train1dset']\n",
    "    print(dset.shape)"
   ]
  },
  {
   "cell_type": "code",
   "execution_count": null,
   "metadata": {},
   "outputs": [],
   "source": []
  },
  {
   "cell_type": "code",
   "execution_count": null,
   "metadata": {},
   "outputs": [],
   "source": []
  },
  {
   "cell_type": "code",
   "execution_count": null,
   "metadata": {},
   "outputs": [],
   "source": []
  }
 ],
 "metadata": {
  "kernelspec": {
   "display_name": "Python 3",
   "language": "python",
   "name": "python3"
  },
  "language_info": {
   "codemirror_mode": {
    "name": "ipython",
    "version": 3
   },
   "file_extension": ".py",
   "mimetype": "text/x-python",
   "name": "python",
   "nbconvert_exporter": "python",
   "pygments_lexer": "ipython3",
   "version": "3.6.6"
  }
 },
 "nbformat": 4,
 "nbformat_minor": 2
}
